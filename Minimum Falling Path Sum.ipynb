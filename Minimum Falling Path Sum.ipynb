{
 "cells": [
  {
   "cell_type": "markdown",
   "metadata": {},
   "source": [
    "# Problem Name: Minimum Falling Path Sum\n",
    "\n",
    "Given an n x n array of integers matrix, return the minimum sum of any falling path through matrix.\n",
    "\n",
    "A falling path starts at any element in the first row and chooses the element in the next row that is either directly below or diagonally left/right. Specifically, the next element from position (row, col) will be (row + 1, col - 1), (row + 1, col), or (row + 1, col + 1).\n",
    "\n",
    " \n",
    "\n",
    "**Example 1:**\n",
    "```\n",
    "Input: matrix = [[2,1,3],[6,5,4],[7,8,9]]\n",
    "Output: 13\n",
    "Explanation: There are two falling paths with a minimum sum as shown.\n",
    "```\n",
    "\n",
    "\n",
    "\n",
    "**Example 2:**\n",
    "```\n",
    "Input: matrix = [[-19,57],[-40,-5]]\n",
    "Output: -59\n",
    "Explanation: The falling path with a minimum sum is shown.\n",
    "```\n",
    "\n",
    "Link --> https://leetcode.com/problems/minimum-falling-path-sum/"
   ]
  },
  {
   "cell_type": "code",
   "execution_count": null,
   "metadata": {},
   "outputs": [],
   "source": [
    "class Solution(object):\n",
    "    def minFallingPathSum(self, matrix):\n",
    "        rows = len(matrix)\n",
    "        cols = len(matrix[0])\n",
    "\n",
    "        dp = [[0] * cols for _ in range(rows)]\n",
    "        dp[-1] = matrix[-1]  \n",
    "\n",
    "        for i in range(rows - 2, -1, -1):\n",
    "            for j in range(cols):\n",
    "                dp[i][j] = matrix[i][j] + min(dp[i + 1][max(0, j - 1)], dp[i + 1][j], dp[i + 1][min(cols - 1, j + 1)])\n",
    "\n",
    "        return min(dp[0])"
   ]
  },
  {
   "cell_type": "markdown",
   "metadata": {},
   "source": [
    "1. Initialize Variables:\n",
    "\n",
    "    - rows and cols are assigned the number of rows and columns in the input matrix.\n",
    "    - dp is initialized as a 2D array filled with zeros, which will be used to store the minimum falling path sums.\n",
    "    - The last row of dp is set to be the same as the last row of the input matrix.\n",
    "2. Dynamic Programming Loop:\n",
    "\n",
    "    - The algorithm iterates over the rows of the input matrix starting from the second-to-last row (excluding the last row).\n",
    "    - For each cell in the current row, it calculates the minimum falling path sum by adding the current cell's value to the minimum of the - - three possible falling paths from the next row:\n",
    "        - dp[i + 1][max(0, j - 1)]: diagonal left\n",
    "        - dp[i + 1][j]: directly below\n",
    "        - dp[i + 1][min(cols - 1, j + 1)]: diagonal right\n",
    "3. Update dp with Minimum Falling Path Sums:\n",
    "\n",
    "    - The dp array is updated iteratively from the second-to-last row to the first row, ensuring that each cell in dp contains the minimum falling path sum starting from that cell.\n",
    "4. Return the Result:\n",
    "\n",
    "    - The final result is the minimum value in the first row of the dp array, representing the minimum falling path sum starting from any element in the first row."
   ]
  }
 ],
 "metadata": {
  "language_info": {
   "name": "python"
  }
 },
 "nbformat": 4,
 "nbformat_minor": 2
}
