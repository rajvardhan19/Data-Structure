{
 "cells": [
  {
   "cell_type": "markdown",
   "metadata": {},
   "source": [
    "# Problem Name: Determine if String Halves Are Alike\n",
    "\n",
    "You are given a string ```s``` of even length. Split this string into two halves of equal lengths, and let ```a``` be the first half and ```b``` be the second half.\n",
    "\n",
    "Two strings are alike if they have the same number of vowels ```('a', 'e', 'i', 'o', 'u', 'A', 'E', 'I', 'O', 'U')```. Notice that s contains uppercase and lowercase letters.\n",
    "\n",
    "Return ```true``` if ```a``` and ```b``` are alike. Otherwise, return ```false```.\n",
    "\n",
    " \n",
    "\n",
    "**Example 1:**\n",
    "```\n",
    "Input: s = \"book\"\n",
    "Output: true\n",
    "Explanation: a = \"bo\" and b = \"ok\". a has 1 vowel and b has 1 vowel. Therefore, they are alike.\n",
    "```\n",
    "\n",
    "\n",
    "\n",
    "**Example 2:**\n",
    "```\n",
    "Input: s = \"textbook\"\n",
    "Output: false\n",
    "Explanation: a = \"text\" and b = \"book\". a has 1 vowel whereas b has 2. Therefore, they are not alike.\n",
    "Notice that the vowel o is counted twice.\n",
    "```\n",
    "\n",
    "\n",
    " \n",
    "**Constraints:**\n",
    "```\n",
    "2 <= s.length <= 1000\n",
    "s.length is even.\n",
    "s consists of uppercase and lowercase letters.\n",
    "```\n",
    "\n",
    "Link --> https://leetcode.com/problems/determine-if-string-halves-are-alike/"
   ]
  },
  {
   "cell_type": "code",
   "execution_count": null,
   "metadata": {},
   "outputs": [],
   "source": [
    "class Solution(object):\n",
    "    def halvesAreAlike(self, s):\n",
    "        def count_vowels(string):\n",
    "            vowels = set(\"aeiouAEIOU\")\n",
    "            count = 0\n",
    "            for char in string:\n",
    "                if char in vowels:\n",
    "                    count += 1\n",
    "            return count\n",
    "\n",
    "        length = len(s)\n",
    "        half_length = length // 2\n",
    "\n",
    "        a = s[:half_length]\n",
    "        b = s[half_length:]\n",
    "\n",
    "        count_a = count_vowels(a)\n",
    "        count_b = count_vowels(b)\n",
    "\n",
    "        return count_a == count_b\n",
    "        "
   ]
  },
  {
   "cell_type": "markdown",
   "metadata": {},
   "source": [
    "1. Define a Helper Function (count_vowels):\n",
    "\n",
    "- count_vowels is a helper function that takes a string as input and counts the number of vowels in it.\n",
    "- It initializes a count variable to zero and iterates through each character in the string.\n",
    "- If the character is a vowel (found in the set of vowels), it increments the count.\n",
    "- The function returns the final count of vowels in the given string.\n",
    "\n",
    "2. Main Function (halvesAreAlike):\n",
    "\n",
    "- The main function takes a string s as input.\n",
    "- It calculates the length of the string and determines the half length (half_length) by dividing the length by 2 using integer division.\n",
    "- It then extracts the first half of the string (a) and the second half (b) using slicing.\n",
    "- Calls the count_vowels function on both halves to count the number of vowels in each half (count_a and count_b).\n",
    "- Finally, it returns True if the counts of vowels in both halves are equal and False otherwise."
   ]
  }
 ],
 "metadata": {
  "language_info": {
   "name": "python"
  }
 },
 "nbformat": 4,
 "nbformat_minor": 2
}
