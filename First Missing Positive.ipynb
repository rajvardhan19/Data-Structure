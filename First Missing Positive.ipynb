{
 "cells": [
  {
   "cell_type": "markdown",
   "metadata": {},
   "source": [
    "# First Missing Positive\n",
    "Given an unsorted integer array nums. Return the smallest positive integer that is not present in nums.\n",
    "\n",
    "You must implement an algorithm that runs in O(n) time and uses O(1) auxiliary space.\n",
    "\n",
    "**Example 1:**\n",
    "```\n",
    "Input: nums = [1,2,0]\n",
    "Output: 3\n",
    "Explanation: The numbers in the range [1,2] are all in the array.\n",
    "```\n",
    "**Example 2:**\n",
    "```\n",
    "Input: nums = [3,4,-1,1]\n",
    "Output: 2\n",
    "Explanation: 1 is in the array but 2 is missing.\n",
    "```\n",
    "**Example 3:**\n",
    "```\n",
    "Input: nums = [7,8,9,11,12]\n",
    "Output: 1\n",
    "Explanation: The smallest positive integer 1 is missing.\n",
    "```\n",
    "\n",
    "--> **Constraints:**\n",
    "```\n",
    "1 <= nums.length <= 105\n",
    "-231 <= nums[i] <= 231 - 1\n",
    "```\n",
    "\n",
    "\n",
    "Link --> https://leetcode.com/problems/first-missing-positive/"
   ]
  },
  {
   "cell_type": "markdown",
   "metadata": {},
   "source": [
    "```\n",
    "class Solution {\n",
    "    // Function to swap elements in the array\n",
    "    private void swap(int[] arr, int i, int j) {\n",
    "        int temp = arr[i];\n",
    "        arr[i] = arr[j];\n",
    "        arr[j] = temp;\n",
    "    }\n",
    "    \n",
    "    public int firstMissingPositive(int[] nums) {\n",
    "        int n = nums.length;\n",
    "        \n",
    "        // Place each positive integer i at index i-1 if possible\n",
    "        for (int i = 0; i < n; i++) {\n",
    "            while (nums[i] > 0 && nums[i] <= n && nums[i] != nums[nums[i] - 1]) {\n",
    "                swap(nums, i, nums[i] - 1);\n",
    "            }\n",
    "        }\n",
    "        \n",
    "        // Find the first missing positive integer\n",
    "        for (int i = 0; i < n; i++) {\n",
    "            if (nums[i] != i + 1) {\n",
    "                return i + 1;\n",
    "            }\n",
    "        }\n",
    "        \n",
    "        // If all positive integers from 1 to n are present, return n + 1\n",
    "        return n + 1;\n",
    "    }\n",
    "}\n",
    "\n",
    "```"
   ]
  }
 ],
 "metadata": {
  "language_info": {
   "name": "python"
  }
 },
 "nbformat": 4,
 "nbformat_minor": 2
}
