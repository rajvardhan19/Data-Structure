{
 "cells": [
  {
   "cell_type": "markdown",
   "metadata": {},
   "source": [
    "# Insert Interval\n",
    "\n",
    "You are given an array of non-overlapping intervals intervals where intervals[i] = [starti, endi] represent the start and the end of the ith interval and intervals is sorted in ascending order by starti. You are also given an interval newInterval = [start, end] that represents the start and end of another interval.\n",
    "\n",
    "Insert newInterval into intervals such that intervals is still sorted in ascending order by starti and intervals still does not have any overlapping intervals (merge overlapping intervals if necessary).\n",
    "\n",
    "Return intervals after the insertion.\n",
    "\n",
    "Note that you don't need to modify intervals in-place. You can make a new array and return it. \n",
    "\n",
    "**Example 1:**\n",
    "```\n",
    "Input: intervals = [[1,3],[6,9]], newInterval = [2,5]\n",
    "Output: [[1,5],[6,9]]\n",
    "```\n",
    "**Example 2:**\n",
    "```\n",
    "Input: intervals = [[1,2],[3,5],[6,7],[8,10],[12,16]], newInterval = [4,8]\n",
    "Output: [[1,2],[3,10],[12,16]]\n",
    "Explanation: Because the new interval [4,8] overlaps with [3,5],[6,7],[8,10].\n",
    "```\n",
    "\n",
    "--> **Constraints:**\n",
    "```\n",
    "0 <= intervals.length <= 104\n",
    "intervals[i].length == 2\n",
    "0 <= starti <= endi <= 105\n",
    "intervals is sorted by starti in ascending order.\n",
    "newInterval.length == 2\n",
    "0 <= start <= end <= 105\n",
    "```\n",
    "\n",
    "\n",
    "Link --> https://leetcode.com/problems/insert-interval/"
   ]
  },
  {
   "cell_type": "markdown",
   "metadata": {},
   "source": [
    "```\n",
    "class Solution(object):\n",
    "    def insert(self, intervals, newInterval):\n",
    "        # Split intervals into to_insert (those come before newInterval with no overlap), \n",
    "        # overlapping, and the rest.\n",
    "        to_insert, overlapping, rest = [], [], []\n",
    "        for interval in intervals:\n",
    "            if interval[1] < newInterval[0]:\n",
    "                to_insert.append(interval)\n",
    "            elif interval[0] > newInterval[1]:\n",
    "                rest.append(interval)\n",
    "            else:  # They overlap:\n",
    "                overlapping.append(interval)\n",
    "\n",
    "        # If any intervals overlap with newInterval, merge them all.\n",
    "        if overlapping:\n",
    "            min_start = min(overlapping[0][0], newInterval[0])\n",
    "            max_end = max(overlapping[-1][1], newInterval[1])\n",
    "            return to_insert + [[min_start, max_end]] + rest\n",
    "        else:  # Otherwise, just insert newInterval in the sorted order.\n",
    "            return to_insert + [newInterval] + rest\n",
    "        \n",
    "```"
   ]
  }
 ],
 "metadata": {
  "language_info": {
   "name": "python"
  }
 },
 "nbformat": 4,
 "nbformat_minor": 2
}
