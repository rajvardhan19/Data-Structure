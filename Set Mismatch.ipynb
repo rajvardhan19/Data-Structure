{
 "cells": [
  {
   "cell_type": "markdown",
   "metadata": {},
   "source": [
    "# Problem Name: Set Mismatch\n",
    "\n",
    "You have a set of integers s, which originally contains all the numbers from 1 to n. Unfortunately, due to some error, one of the numbers in s got duplicated to another number in the set, which results in repetition of one number and loss of another number.\n",
    "\n",
    "You are given an integer array nums representing the data status of this set after the error.\n",
    "\n",
    "Find the number that occurs twice and the number that is missing and return them in the form of an array.\n",
    "\n",
    " \n",
    "\n",
    "**Example 1:**\n",
    "```\n",
    "Input: nums = [1,2,2,4]\n",
    "Output: [2,3]\n",
    "```\n",
    "\n",
    "\n",
    "\n",
    "**Example 2:**\n",
    "```\n",
    "Input: nums = [1,1]\n",
    "Output: [1,2]\n",
    "```\n",
    "\n",
    "Constraints:\n",
    "```\n",
    "2 <= nums.length <= 104\n",
    "1 <= nums[i] <= 104\n",
    "```\n",
    "\n",
    "Link --> https://leetcode.com/problems/set-mismatch/"
   ]
  },
  {
   "cell_type": "code",
   "execution_count": null,
   "metadata": {},
   "outputs": [],
   "source": [
    "class Solution(object):\n",
    "    def findErrorNums(self, nums):\n",
    "        n = len(nums)\n",
    "        num_count = {}\n",
    "\n",
    "        for num in nums:\n",
    "            if num in num_count:\n",
    "                num_count[num] += 1\n",
    "            else:\n",
    "                num_count[num] = 1\n",
    "\n",
    "        duplicate_num = missing_num = 0\n",
    "\n",
    "        for i in range(1, n + 1):\n",
    "            if i not in num_count:\n",
    "                missing_num = i\n",
    "            elif num_count[i] == 2:\n",
    "                duplicate_num = i\n",
    "\n",
    "        return [duplicate_num, missing_num]\n",
    "        "
   ]
  },
  {
   "cell_type": "markdown",
   "metadata": {},
   "source": [
    "1. Initialization:\n",
    "\n",
    "    - The function findErrorNums takes an input array nums.\n",
    "    - It initializes the length of the array n and an empty dictionary num_count to store the count of each number.\n",
    "2. Counting Occurrences:\n",
    "\n",
    "    - The first loop iterates through each element in the array nums.\n",
    "    - For each element num, it checks whether num is already in the num_count dictionary.\n",
    "    - If num is in the dictionary, it increments the count of that number.\n",
    "    - If num is not in the dictionary, it adds it to the dictionary with a count of 1.\n",
    "3. Finding Duplicate and Missing Numbers:\n",
    "\n",
    "    - After counting the occurrences, the function initializes variables duplicate_num and missing_num to 0.\n",
    "    - The second loop iterates from 1 to n (inclusive).\n",
    "    - Inside this loop, it checks two conditions:\n",
    "        - If i is not in the num_count dictionary, it means i is missing, so it updates missing_num to i.\n",
    "        - If the count of i in the num_count dictionary is 2, it means i is duplicated, so it updates duplicate_num to i.\n",
    "4. Result:\n",
    "\n",
    "    - Finally, the function returns a list [duplicate_num, missing_num] containing the identified duplicate and missing numbers."
   ]
  }
 ],
 "metadata": {
  "language_info": {
   "name": "python"
  }
 },
 "nbformat": 4,
 "nbformat_minor": 2
}
