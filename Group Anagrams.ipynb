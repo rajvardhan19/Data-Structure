{
 "cells": [
  {
   "cell_type": "markdown",
   "metadata": {},
   "source": [
    "# Group Anagrams\n",
    "Given an array of strings strs, group the anagrams together. You can return the answer in any order.\n",
    "\n",
    "An Anagram is a word or phrase formed by rearranging the letters of a different word or phrase, typically using all the original letters exactly once.\n",
    " \n",
    "**Example 1:**\n",
    "```\n",
    "Input: strs = [\"eat\",\"tea\",\"tan\",\"ate\",\"nat\",\"bat\"]\n",
    "Output: [[\"bat\"],[\"nat\",\"tan\"],[\"ate\",\"eat\",\"tea\"]]\n",
    "```\n",
    "**Example 2:**\n",
    "```\n",
    "Input: strs = [\"\"]\n",
    "Output: [[\"\"]]\n",
    "```\n",
    "\n",
    "**Example 3:**\n",
    "```\n",
    "Input: strs = [\"a\"]\n",
    "Output: [[\"a\"]]\n",
    "```\n",
    "\n",
    "--> **Constraints:**\n",
    "```\n",
    "1 <= strs.length <= 104\n",
    "0 <= strs[i].length <= 100\n",
    "strs[i] consists of lowercase English letters.\n",
    "```\n",
    "\n",
    "\n",
    "Link --> https://leetcode.com/problems/group-anagrams/"
   ]
  },
  {
   "cell_type": "code",
   "execution_count": null,
   "metadata": {},
   "outputs": [],
   "source": [
    "class Solution(object):\n",
    "    def groupAnagrams(self, strs):\n",
    "        anagrams = dict()\n",
    "\n",
    "        # Iterating through the given list of strings\n",
    "        for s in strs:\n",
    "            # Sorting string and joining it to use as a key\n",
    "            sorted_s = \"\".join(sorted(s))\n",
    "            # If the sorted string is not a key in our   anagrams dictionary, initialize it as an empty list\n",
    "            if sorted_s not in anagrams:\n",
    "                anagrams[sorted_s] = []\n",
    "            # Append original string to the list of its anagram group\n",
    "            anagrams[sorted_s].append(s)\n",
    "        \n",
    "        # return all the anagram groups\n",
    "        return list(anagrams.values())\n",
    "        "
   ]
  }
 ],
 "metadata": {
  "language_info": {
   "name": "python"
  }
 },
 "nbformat": 4,
 "nbformat_minor": 2
}
