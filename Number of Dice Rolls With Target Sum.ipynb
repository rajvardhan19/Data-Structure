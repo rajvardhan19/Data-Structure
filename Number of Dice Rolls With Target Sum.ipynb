{
 "cells": [
  {
   "cell_type": "markdown",
   "metadata": {},
   "source": [
    "# Problem Name: Number of Dice Rolls With Target Sum\n",
    "\n",
    "You have n dice, and each die has k faces numbered from 1 to k.\n",
    "\n",
    "Given three integers n, k, and target, return the number of possible ways (out of the kn total ways) to roll the dice, so the sum of the face-up numbers equals target. Since the answer may be too large, return it modulo 109 + 7.\n",
    "\n",
    "\n",
    "Example 1:\n",
    "```\n",
    "Input: n = 1, k = 6, target = 3\n",
    "Output: 1\n",
    "Explanation: You throw one die with 6 faces.\n",
    "There is only one way to get a sum of 3.\n",
    "\n",
    "```\n",
    "\n",
    "Example 2:\n",
    "```\n",
    "Input: n = 2, k = 6, target = 7\n",
    "Output: 6\n",
    "Explanation: You throw two dice, each with 6 faces.\n",
    "There are 6 ways to get a sum of 7: 1+6, 2+5, 3+4, 4+3, 5+2, 6+1.\n",
    "\n",
    "```\n",
    "Example 3:\n",
    "```\n",
    "Input: n = 30, k = 30, target = 500\n",
    "Output: 222616187\n",
    "Explanation: The answer must be returned modulo 109 + 7.\n",
    "\n",
    "```\n",
    "\n",
    "**Constraints**:\n",
    "\n",
    "- ```1 <= n, k <= 30```\n",
    "- ```1 <= target <= 1000```\n",
    "\n",
    "Link: https://leetcode.com/problems/number-of-dice-rolls-with-target-sum/"
   ]
  },
  {
   "cell_type": "code",
   "execution_count": null,
   "metadata": {},
   "outputs": [],
   "source": [
    "class Solution(object):\n",
    "    def numRollsToTarget(self, n, k, target):\n",
    "        MOD = 10**9 + 7\n",
    "\n",
    "        # Create a 2D dp array to store the number of ways\n",
    "        dp = [[0] * (target + 1) for _ in range(n + 1)]\n",
    "        dp[0][0] = 1\n",
    "\n",
    "        for i in range(1, n + 1):\n",
    "            for j in range(1, target + 1):\n",
    "                for face in range(1, k + 1):\n",
    "                    if j - face >= 0:\n",
    "                        dp[i][j] = (dp[i][j] + dp[i - 1][j - face]) % MOD\n",
    "\n",
    "        return dp[n][target]\n",
    "        "
   ]
  },
  {
   "cell_type": "markdown",
   "metadata": {},
   "source": [
    "Logic\n",
    "\n",
    "- MOD = 10**9 + 7: A constant representing the modulo value.\n",
    "\n",
    "- dp = [[0] * (target + 1) for _ in range(n + 1)]: Initializing a 2D array dp to store the number of ways to reach a certain sum with a certain number of dice.\n",
    " dp[i][j]: Represents the number of ways to get sum j using i dice.\n",
    "- dp[0][0] = 1: Initializing the base case - there's one way to achieve a sum of 0 with 0 dice.\n",
    "\n",
    "- Using nested loops:\n",
    "\n",
    "    - for i in range(1, n + 1): Looping through the number of dice available.\n",
    "    - for j in range(1, target + 1): Looping through the possible target sums.\n",
    "    - for face in range(1, k + 1): Looping through each face of the die.\n",
    "    - if j - face >= 0: Checking if the current face value can contribute to the current sum.\n",
    "    - dp[i][j] = (dp[i][j] + dp[i - 1][j - face]) % MOD: Accumulating the number of ways to reach the current sum j using i dice by add - ing the - number of ways to reach j - face using i - 1 dice.\n",
    "    - dp[i - 1][j - face]: Represents the number of ways to reach j - face using i - 1 dice, and the current face value contributes to reach j.\n",
    "\n",
    "- return  - dp[n][target]: Returning the final count of ways to reach the target sum using n dice."
   ]
  }
 ],
 "metadata": {
  "language_info": {
   "name": "python"
  }
 },
 "nbformat": 4,
 "nbformat_minor": 2
}
