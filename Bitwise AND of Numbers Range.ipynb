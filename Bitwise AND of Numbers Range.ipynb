{
 "cells": [
  {
   "cell_type": "markdown",
   "metadata": {},
   "source": [
    "# Bitwise AND of Numbers Range\n",
    "\n",
    "Given two integers left and right that represent the range [left, right], return the bitwise AND of all numbers in this range, inclusive.\n",
    " \n",
    "**Example 1:**\n",
    "```\n",
    "Input: left = 5, right = 7\n",
    "Output: 4\n",
    "```\n",
    "**Example 2:**\n",
    "```\n",
    "Input: left = 0, right = 0\n",
    "Output: 0\n",
    "```\n",
    "**Example 3:**\n",
    "```\n",
    "Input: left = 1, right = 2147483647\n",
    "Output: 0\n",
    "```\n",
    "\n",
    "\n",
    "--> **Constraints:**\n",
    "```\n",
    "0 <= left <= right <= 231 - 1\n",
    "```\n",
    "\n",
    "\n",
    "Link -->https://leetcode.com/problems/bitwise-and-of-numbers-range/"
   ]
  },
  {
   "cell_type": "markdown",
   "metadata": {},
   "source": [
    "```\n",
    "class Solution(object):\n",
    "    def rangeBitwiseAnd(self, left, right):\n",
    "        # The number of places we have shifted right.\n",
    "        shift = 0\n",
    "        \n",
    "        # The basic idea of this algorithm is to find the leftmost common digits of left and right.\n",
    "        # If left and right don't have leftmost common digits, the bitwise AND of all numbers will be 0.\n",
    "        \n",
    "        while left != right:\n",
    "            # Right shift both 'left' and 'right' until 'left' and 'right' become the same.\n",
    "            # This is because the different bit in the more significant contributes to the final result.\n",
    "            left >>= 1\n",
    "            right >>= 1\n",
    "            \n",
    "            # Increase the shift count since we have shifted right.\n",
    "            shift += 1\n",
    "        \n",
    "        # Shift left the final \"common left\" as much as we shifted right at the beginning \n",
    "        # to get the final result.\n",
    "        return left << shift\n",
    "        \n",
    "```"
   ]
  }
 ],
 "metadata": {
  "language_info": {
   "name": "python"
  }
 },
 "nbformat": 4,
 "nbformat_minor": 2
}
