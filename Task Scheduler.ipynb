{
 "cells": [
  {
   "cell_type": "markdown",
   "metadata": {},
   "source": [
    "# Task Scheduler\n",
    "\n",
    "You are given an array of CPU tasks, each represented by letters A to Z, and a cooling time, n. Each cycle or interval allows the completion of one task. Tasks can be completed in any order, but there's a constraint: identical tasks must be separated by at least n intervals due to cooling time.\n",
    "\n",
    "​Return the minimum number of intervals required to complete all tasks.\n",
    "\n",
    "**Example 1:**\n",
    "```\n",
    "Input: tasks = [\"A\",\"A\",\"A\",\"B\",\"B\",\"B\"], n = 2\n",
    "\n",
    "Output: 8\n",
    "\n",
    "Explanation: A possible sequence is: A -> B -> idle -> A -> B -> idle -> A -> B.\n",
    "\n",
    "After completing task A, you must wait two cycles before doing A again. The same applies to task B. In the 3rd interval, neither A nor B can be done, so you idle. By the 4th cycle, you can do A again as 2 intervals have passed.\n",
    "```\n",
    "**Example 2:**\n",
    "```\n",
    "Input: tasks = [\"A\",\"C\",\"A\",\"B\",\"D\",\"B\"], n = 1\n",
    "\n",
    "Output: 6\n",
    "\n",
    "Explanation: A possible sequence is: A -> B -> C -> D -> A -> B.\n",
    "\n",
    "With a cooling interval of 1, you can repeat a task after just one other task.\n",
    "```\n",
    "**Example 3:**\n",
    "```\n",
    "Input: tasks = [\"A\",\"A\",\"A\", \"B\",\"B\",\"B\"], n = 3\n",
    "\n",
    "Output: 10\n",
    "\n",
    "Explanation: A possible sequence is: A -> B -> idle -> idle -> A -> B -> idle -> idle -> A -> B.\n",
    "\n",
    "There are only two types of tasks, A and B, which need to be separated by 3 intervals. This leads to idling twice between repetitions of these tasks.\n",
    "```\n",
    "\n",
    "--> **Constraints:**\n",
    "```\n",
    "1 <= tasks.length <= 104\n",
    "tasks[i] is an uppercase English letter.\n",
    "0 <= n <= 100\n",
    "```\n",
    "\n",
    "\n",
    "Link --> https://leetcode.com/problems/task-scheduler/"
   ]
  },
  {
   "cell_type": "markdown",
   "metadata": {},
   "source": []
  }
 ],
 "metadata": {
  "language_info": {
   "name": "python"
  }
 },
 "nbformat": 4,
 "nbformat_minor": 2
}
