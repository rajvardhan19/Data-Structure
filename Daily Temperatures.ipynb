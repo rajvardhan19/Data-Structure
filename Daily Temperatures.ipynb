{
 "cells": [
  {
   "cell_type": "markdown",
   "metadata": {},
   "source": [
    "# Problem Name: Daily Temperatures\n",
    "\n",
    "Given an array of integers temperatures represents the daily temperatures, return an array answer such that answer[i] is the number of days you have to wait after the ith day to get a warmer temperature. If there is no future day for which this is possible, keep answer[i] == 0 instead.\n",
    "    \n",
    "\n",
    " \n",
    "\n",
    "**Example 1:**\n",
    "```\n",
    "Input: temperatures = [73,74,75,71,69,72,76,73]\n",
    "Output: [1,1,4,2,1,1,0,0]\n",
    "```\n",
    "**Example 2:**\n",
    "```\n",
    "Input: temperatures = [30,40,50,60]\n",
    "Output: [1,1,1,0]\n",
    "```\n",
    "**Example 3:**\n",
    "```\n",
    "Input: temperatures = [30,60,90]\n",
    "Output: [1,1,0]\n",
    "```\n",
    "\n",
    "\n",
    "Constraints:\n",
    "```\n",
    "1 <= temperatures.length <= 105\n",
    "30 <= temperatures[i] <= 100\n",
    "```\n",
    "\n",
    "Link --> https://leetcode.com/problems/daily-temperatures/"
   ]
  },
  {
   "cell_type": "code",
   "execution_count": null,
   "metadata": {},
   "outputs": [],
   "source": [
    "class Solution(object):\n",
    "    def dailyTemperatures(self, temperatures):\n",
    "        n = len(temperatures)\n",
    "        result = [0] * n\n",
    "        stack = []\n",
    "\n",
    "        for i in range(n):\n",
    "            while stack and temperatures[i] > temperatures[stack[-1]]:\n",
    "                prev_index = stack.pop()\n",
    "                result[prev_index] = i - prev_index\n",
    "            stack.append(i)\n",
    "\n",
    "        return result"
   ]
  }
 ],
 "metadata": {
  "language_info": {
   "name": "python"
  }
 },
 "nbformat": 4,
 "nbformat_minor": 2
}
