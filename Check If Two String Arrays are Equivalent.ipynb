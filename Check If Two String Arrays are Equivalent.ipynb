{
 "cells": [
  {
   "cell_type": "markdown",
   "metadata": {},
   "source": [
    "# Problem Name: Check If Two String Arrays are Equivalent\n",
    "Given two string arrays ```word1``` and ```word2```, return ```true``` if the two arrays represent the same string, and ```false``` otherwise.\n",
    "\n",
    "A string is **represented** by an array if the array elements concatenated **in order** forms the string.\n",
    "\n",
    "**Example 1:**\n",
    "```\n",
    "Input: word1 = [\"ab\", \"c\"], word2 = [\"a\", \"bc\"]\n",
    "Output: true\n",
    "Explanation:\n",
    "word1 represents string \"ab\" + \"c\" -> \"abc\"\n",
    "word2 represents string \"a\" + \"bc\" -> \"abc\"\n",
    "The strings are the same, so return true.\n",
    "```\n",
    "**Example 2:**\n",
    "```\n",
    "Input: word1 = [\"a\", \"cb\"], word2 = [\"ab\", \"c\"]\n",
    "Output: false\n",
    "```\n",
    "**Example 3:**\n",
    "```\n",
    "Input: word1  = [\"abc\", \"d\", \"defg\"], word2 = [\"abcddefg\"]\n",
    "Output: true\n",
    "```\n",
    "--> **Constraints:**\n",
    "\n",
    "- ```1 <= word1.length, word2.length <= 103```\n",
    "- ```1 <= word1[i].length, word2[i].length <= 103```\n",
    "- ```1 <= sum(word1[i].length), sum(word2[i].length) <= 103```\n",
    "- ```word1[i]``` and ```word2[i]``` consist of lowercase letters.\n",
    "\n",
    "\n",
    "Link --> https://leetcode.com/problems/check-if-two-string-arrays-are-equivalent/description/"
   ]
  },
  {
   "cell_type": "code",
   "execution_count": null,
   "metadata": {},
   "outputs": [],
   "source": [
    "class Solution(object):\n",
    "    def arrayStringsAreEqual(self, word1, word2):\n",
    "        str1 = ''.join(word1)\n",
    "        str2 = ''.join(word2)\n",
    "        \n",
    "        return str1 == str2 #compare strings"
   ]
  },
  {
   "cell_type": "markdown",
   "metadata": {},
   "source": [
    "Step 1 --> Concatenating the Elements of word1 and word2:\n",
    "- ```word1``` and ```word2``` are arrays of strings.\n",
    "- ```''.join(word1)``` and ```''.join(word2)``` convert each array into a single string by joining all its elements without any separator. This concatenation creates ```str1``` and ```str2``` respectively.\n",
    "\n",
    "Step 2 --> Comparison of Concatenated Strings:\n",
    "- The method returns ```True``` if the concatenated strings ```str1``` and ```str2``` are equal (```str1 == str2```). This comparison checks if the two arrays, when their elements are concatenated in order, represent the same string.\n",
    "- If the concatenated strings are equal, the method returns ```True```, indicating that the two input arrays represent the same string.\n",
    "- If the concatenated strings are not equal, the method returns ```False```, indicating that the two input arrays represent different strings.\n"
   ]
  }
 ],
 "metadata": {
  "language_info": {
   "name": "python"
  }
 },
 "nbformat": 4,
 "nbformat_minor": 2
}
