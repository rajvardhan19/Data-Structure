{
 "cells": [
  {
   "cell_type": "markdown",
   "metadata": {},
   "source": [
    "# Problem Name: Unique Number of Occurrences\n",
    "\n",
    "Given an array of integers arr, return true if the number of occurrences of each value in the array is unique or false otherwise.\n",
    "\n",
    " \n",
    "**Example 1:**\n",
    "```\n",
    "Input: arr = [1,2,2,1,1,3]\n",
    "Output: true\n",
    "Explanation: The value 1 has 3 occurrences, 2 has 2 and 3 has 1. No two values have the same number of occurrences.\n",
    "```\n",
    "**Example 2:**\n",
    "```\n",
    "Input: arr = [1,2]\n",
    "Output: false\n",
    "```\n",
    "\n",
    "**Example 3:**\n",
    "```\n",
    "Input: arr = [-3,0,1,-3,1,1,1,-3,10,0]\n",
    "Output: true\n",
    "```\n",
    "\n",
    "--> **Constraints:**\n",
    "```\n",
    "1 <= arr.length <= 1000\n",
    "-1000 <= arr[i] <= 1000\n",
    "```\n",
    "\n",
    "Link --> https://leetcode.com/problems/unique-number-of-occurrences/"
   ]
  },
  {
   "cell_type": "code",
   "execution_count": null,
   "metadata": {},
   "outputs": [],
   "source": [
    "class Solution(object):\n",
    "    def uniqueOccurrences(self, arr):\n",
    "        count_map = Counter(arr)\n",
    "        return len(count_map.values()) == len(set(count_map.values()))\n",
    "        "
   ]
  },
  {
   "cell_type": "markdown",
   "metadata": {},
   "source": [
    "1. count_map = Counter(arr): This line creates a dictionary (count_map) where keys are elements from the input array arr, and values are the counts of occurrences of each element in the array.\n",
    "\n",
    "2. return len(count_map.values()) == len(set(count_map.values())): This line checks whether the number of unique counts is the same as the total number of distinct elements in the array.\n",
    "\n",
    "    - count_map.values(): Gets a view of all the counts (occurrences) in the count_map.\n",
    "\n",
    "    - set(count_map.values()): Converts the view of counts into a set to eliminate duplicates.\n",
    "\n",
    "    - len(set(count_map.values())): Calculates the number of unique counts.\n",
    "\n",
    "    - len(count_map.values()): Gets the total number of distinct elements in the array.\n",
    "\n",
    "If these two lengths are equal, it means that each unique value in the array has a unique count of occurrences, and the method returns True. Otherwise, it returns False."
   ]
  }
 ],
 "metadata": {
  "language_info": {
   "name": "python"
  }
 },
 "nbformat": 4,
 "nbformat_minor": 2
}
