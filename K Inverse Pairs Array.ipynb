{
 "cells": [
  {
   "cell_type": "markdown",
   "metadata": {},
   "source": [
    "# Problem Name: K Inverse Pairs Array\n",
    "\n",
    "For an integer array nums, an inverse pair is a pair of integers [i, j] where 0 <= i < j < nums.length and nums[i] > nums[j].\n",
    "\n",
    "Given two integers n and k, return the number of different arrays consist of numbers from 1 to n such that there are exactly k inverse pairs. Since the answer can be huge, return it modulo 109 + 7.\n",
    "\n",
    " \n",
    "\n",
    "**Example 1:**\n",
    "```\n",
    "Input: n = 3, k = 0\n",
    "Output: 1\n",
    "Explanation: Only the array [1,2,3] which consists of numbers from 1 to 3 has exactly 0 inverse pairs.\n",
    "```\n",
    "\n",
    "\n",
    "\n",
    "**Example 2:**\n",
    "```\n",
    "Input: n = 3, k = 1\n",
    "Output: 2\n",
    "Explanation: The array [1,3,2] and [2,1,3] have exactly 1 inverse pair.\n",
    "```\n",
    "\n",
    "Constraints:\n",
    "```\n",
    "1 <= n <= 1000\n",
    "0 <= k <= 1000\n",
    "```\n",
    "\n",
    "Link --> https://leetcode.com/problems/k-inverse-pairs-array/"
   ]
  },
  {
   "cell_type": "code",
   "execution_count": null,
   "metadata": {},
   "outputs": [],
   "source": [
    "class Solution:\n",
    "    def kInversePairs(self, n: int, k: int) -> int:\n",
    "        dp = [[0 for _ in range(k + 1)] for _ in range(n + 1)]\n",
    "        dp[0][0] = 1\n",
    "        mod = 10 ** 9 + 7\n",
    "        for i in range(1, n + 1):\n",
    "            s = 0\n",
    "            for j in range(k + 1):\n",
    "                s += dp[i - 1][j]\n",
    "                if j >= i:\n",
    "                    s -= dp[i - 1][j - i]\n",
    "                dp[i][j] = (dp[i][j] + s) % mod\n",
    "        return dp[n][k]\n",
    "        "
   ]
  }
 ],
 "metadata": {
  "language_info": {
   "name": "python"
  }
 },
 "nbformat": 4,
 "nbformat_minor": 2
}
