{
 "cells": [
  {
   "cell_type": "markdown",
   "metadata": {},
   "source": [
    "# Problem Name: Minimum Changes To Make Alternating Binary String\n",
    "\n",
    "You are given a string ```s``` consisting only of the characters ```'0'``` and ```'1'```. In one operation, you can change any ```'0'``` to ```'1'``` or vice versa.\n",
    "\n",
    "The string is called alternating if no two adjacent characters are equal. For example, the string ```\"010\"``` is alternating, while the string ```\"0100\"``` is not.\n",
    "\n",
    "Return the **minimum** number of operations needed to make ```s``` **alternating**.\n",
    "\n",
    "\n",
    "**Example 1:**\n",
    "```\n",
    "Input: s = \"0100\"\n",
    "Output: 1\n",
    "Explanation: If you change the last character to '1', s will be \"0101\", which is alternating.\n",
    "```\n",
    "**Example 2:**\n",
    "```\n",
    "Input: s = \"10\"\n",
    "Output: 0\n",
    "Explanation: s is already alternating.\n",
    "```\n",
    "\n",
    "**Example 3:**\n",
    "```\n",
    "Input: s = \"1111\"\n",
    "Output: 2\n",
    "Explanation: You need two operations to reach \"0101\" or \"1010\".\n",
    "```\n",
    "\n",
    "--> **Constraints:**\n",
    "\n",
    "- ```1 <= s.length <= 104```\n",
    "- ```s[i] is either '0' or '1'.```\n",
    "\n",
    "\n",
    "Link --> https://leetcode.com/problems/minimum-changes-to-make-alternating-binary-string/"
   ]
  },
  {
   "cell_type": "code",
   "execution_count": null,
   "metadata": {},
   "outputs": [],
   "source": [
    "class Solution(object):\n",
    "    def minOperations(self, s):\n",
    "        count_01 = 0  # Count of differences from '01' pattern\n",
    "        count_10 = 0  # Count of differences from '10' pattern\n",
    "        \n",
    "        for i, char in enumerate(s):\n",
    "            expected_01 = '01'[i % 2]  # Expected character for '01' pattern\n",
    "            expected_10 = '10'[i % 2]  # Expected character for '10' pattern\n",
    "            \n",
    "            if char != expected_01:\n",
    "                count_01 += 1\n",
    "            \n",
    "            if char != expected_10:\n",
    "                count_10 += 1\n",
    "        \n",
    "        return min(count_01, count_10)"
   ]
  },
  {
   "cell_type": "markdown",
   "metadata": {},
   "source": [
    "- **Initialize Counts:** Two variables ```count_01``` and ```count_10``` are initialized to track the number of differences between the input string s and the expected alternating patterns ```'01'``` and ```'10'```.\n",
    "\n",
    "- **Iterating Through the String:** The code uses a for loop to iterate through each character in the input string ```s``` while using enumerate() to get both the ```index i``` and the character char at that index.\n",
    "\n",
    "- **Defining Expected Patterns:** Two variables, expected_01 and expected_10, are defined to hold the expected characters for the``` '01'``` and ```'10'``` alternating patterns, respectively. These expected characters alternate based on the index ```i % 2```. For even indices ```(i % 2 == 0)```, the expected characters follow the pattern ```'01'```, and for odd indices ```(i % 2 == 1)```, the expected characters follow the pattern ```'10'```.\n",
    "\n",
    "- **Counting Differences:** For each character in the input string s, the code compares it against the expected characters in both patterns (expected_01 and expected_10). If the character in s does not match the expected character for the ```'01'``` pattern, ```count_01``` is incremented. Similarly, if the character in s does not match the expected character for the ```'10'``` pattern, ```count_10``` is incremented.\n",
    "\n",
    "- **Returning Minimum Count:** After iterating through the entire string, the code returns the minimum count of differences between the ```'01'``` pattern and the ```'10'``` pattern, calculated as ```min(count_01, count_10)```. This represents the minimum number of operations needed to transform the string s into an alternating pattern.\n"
   ]
  }
 ],
 "metadata": {
  "language_info": {
   "name": "python"
  }
 },
 "nbformat": 4,
 "nbformat_minor": 2
}
