{
 "cells": [
  {
   "cell_type": "markdown",
   "metadata": {},
   "source": [
    "# First Unique Character in a String\n",
    "Given a string s, find the first non-repeating character in it and return its index. If it does not exist, return -1.\n",
    "\n",
    " \n",
    "**Example 1:**\n",
    "```\n",
    "Input: s = \"leetcode\"\n",
    "Output: 0\n",
    "```\n",
    "**Example 2:**\n",
    "```\n",
    "Input: s = \"loveleetcode\"\n",
    "Output: 2\n",
    "```\n",
    "\n",
    "**Example 3:**\n",
    "```\n",
    "Input: s = \"aabb\"\n",
    "Output: -1\n",
    "```\n",
    "\n",
    "--> **Constraints:**\n",
    "```\n",
    "1 <= s.length <= 105\n",
    "s consists of only lowercase English letters.\n",
    "```\n",
    "\n",
    "\n",
    "Link --> https://leetcode.com/problems/first-unique-character-in-a-string/"
   ]
  },
  {
   "cell_type": "code",
   "execution_count": null,
   "metadata": {},
   "outputs": [],
   "source": [
    "class Solution(object):\n",
    "    def firstUniqChar(self, s):\n",
    "        char_count = {}\n",
    "\n",
    "        # Count occurrences of each character in the string\n",
    "        for char in s:\n",
    "            char_count[char] = char_count.get(char, 0) + 1\n",
    "\n",
    "        # Find the index of the first non-repeating character\n",
    "        for i, char in enumerate(s):\n",
    "            if char_count[char] == 1:\n",
    "                return i\n",
    "\n",
    "        # If no non-repeating character is found, return -1\n",
    "        return -1\n",
    "        "
   ]
  }
 ],
 "metadata": {
  "language_info": {
   "name": "python"
  }
 },
 "nbformat": 4,
 "nbformat_minor": 2
}
