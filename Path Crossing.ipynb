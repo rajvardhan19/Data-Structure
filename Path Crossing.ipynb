{
 "cells": [
  {
   "cell_type": "markdown",
   "metadata": {},
   "source": [
    "# Problem Name: Maximum Score After Splitting a String\n",
    "Given a string path, where path[i] = 'N', 'S', 'E' or 'W', each representing moving one unit north, south, east, or west, respectively. You start at the origin (0, 0) on a 2D plane and walk on the path specified by path.\n",
    "\n",
    "Return true if the path crosses itself at any point, that is, if at any time you are on a location you have previously visited. Return false otherwise.\n",
    "\n",
    " \n",
    "**Example 1:**\n",
    "```\n",
    "Input: path = \"NES\"\n",
    "Output: false \n",
    "Explanation: Notice that the path doesn't cross any point more than once.\n",
    "```\n",
    "**Example 2:**\n",
    "```\n",
    "Input: path = \"NESWW\"\n",
    "Output: true\n",
    "Explanation: Notice that the path visits the origin twice.\n",
    "```\n",
    "\n",
    "**Example 3:**\n",
    "```\n",
    "Input: s = \"1111\"\n",
    "Output: 3\n",
    "```\n",
    "\n",
    "--> **Constraints:**\n",
    "\n",
    "- 1 <= path.length <= 104\n",
    "- path[i] is either 'N', 'S', 'E', or 'W'.\n",
    "\n",
    "\n",
    "Link --> https://leetcode.com/problems/path-crossing/"
   ]
  },
  {
   "cell_type": "code",
   "execution_count": null,
   "metadata": {},
   "outputs": [],
   "source": [
    "def isPathCrossing(path):\n",
    "    # Initial position at the origin\n",
    "    x, y = 0, 0\n",
    "    # Set to store visited positions\n",
    "    visited = set()\n",
    "    # Add the initial position to the visited set\n",
    "    visited.add((x, y))\n",
    "    \n",
    "    # Directions for moving in the plane\n",
    "    directions = {\n",
    "        'N': (0, 1),\n",
    "        'E': (1, 0),\n",
    "        'S': (0, -1),\n",
    "        'W': (-1, 0)\n",
    "    }\n",
    "    \n",
    "    # Traverse the path\n",
    "    for direction in path:\n",
    "        dx, dy = directions[direction]\n",
    "        x += dx\n",
    "        y += dy\n",
    "        \n",
    "        # Check if the current position has been visited before\n",
    "        if (x, y) in visited:\n",
    "            return True\n",
    "        \n",
    "        # Add the current position to the visited set\n",
    "        visited.add((x, y))\n",
    "    \n",
    "    return False"
   ]
  },
  {
   "cell_type": "markdown",
   "metadata": {},
   "source": [
    "- Initializing Variables: x and y represent the current coordinates on the 2D plane. Initially set to (0, 0) to indicate the starting position. visited is a set that will store all the visited positions.\n",
    "\n",
    "- Adding Initial Position: The starting position (0, 0) is added to the visited set to mark that it has been visited.\n",
    "\n",
    "- Directions Dictionary: This dictionary directions maps the cardinal directions ('N', 'E', 'S', 'W') to changes in x and y coordinates. For instance, 'N' means move one unit north, so it adds 1 to the y-coordinate, 'E' means move one unit east, adding 1 to the x-coordinate, and so on.\n",
    "\n",
    "- Traversing the Path: The loop iterates through each character in the path. For each direction encountered in the path, it updates the current position (x and y) according to the corresponding change in coordinates stored in the directions dictionary.\n",
    "\n",
    "- Checking for Visited Positions: At each step, it checks if the current position (x, y) has been visited before. If it has, it means the path has crossed itself, and the function returns True.\n",
    "\n",
    "- Updating Visited Positions: If the current position has not been visited before, it is added to the visited set to mark it as visited.\n",
    "\n",
    "- Returning False: If the loop completes without finding any self-intersections, the function returns False, indicating that the path does not cross itself."
   ]
  }
 ],
 "metadata": {
  "language_info": {
   "name": "python"
  }
 },
 "nbformat": 4,
 "nbformat_minor": 2
}
