{
 "cells": [
  {
   "cell_type": "markdown",
   "metadata": {},
   "source": [
    "# Remove Zero Sum Consecutive Nodes from Linked List\n",
    "\n",
    "Given the head of a linked list, we repeatedly delete consecutive sequences of nodes that sum to 0 until there are no such sequences.\n",
    "\n",
    "After doing so, return the head of the final linked list.  You may return any such answer.\n",
    "\n",
    " \n",
    "\n",
    "(Note that in the examples below, all sequences are serializations of ListNode objects.)\n",
    " \n",
    "\n",
    "**Example 1:**\n",
    "```\n",
    "Input: head = [1,2,-3,3,1]\n",
    "Output: [3,1]\n",
    "Note: The answer [1,2,1] would also be accepted.\n",
    "```\n",
    "**Example 2:**\n",
    "```\n",
    "Input: head = [1,2,3,-3,4]\n",
    "Output: [1,2,4]\n",
    "```\n",
    "\n",
    "\n",
    "--> **Constraints:**\n",
    "```\n",
    "The given linked list will contain between 1 and 1000 nodes.\n",
    "Each node in the linked list has -1000 <= node.val <= 1000.\n",
    "```\n",
    "\n",
    "\n",
    "Link --> https://leetcode.com/problems/remove-zero-sum-consecutive-nodes-from-linked-list/"
   ]
  },
  {
   "cell_type": "markdown",
   "metadata": {},
   "source": [
    "```\n",
    "class Solution(object):\n",
    "    def removeZeroSumSublists(self, head):\n",
    "        dummy = ListNode(0)\n",
    "        dummy.next = head\n",
    "        prefix_sum = 0\n",
    "        prefix_sums = {0: dummy}\n",
    "        current = head\n",
    "\n",
    "        while current:\n",
    "            prefix_sum += current.val\n",
    "            if prefix_sum in prefix_sums:\n",
    "                to_delete = prefix_sums[prefix_sum].next\n",
    "                temp_sum = prefix_sum + to_delete.val\n",
    "                while to_delete != current:\n",
    "                    del prefix_sums[temp_sum]\n",
    "                    to_delete = to_delete.next\n",
    "                    temp_sum += to_delete.val\n",
    "                prefix_sums[prefix_sum].next = current.next\n",
    "            else:\n",
    "                prefix_sums[prefix_sum] = current\n",
    "            current = current.next\n",
    "\n",
    "        return dummy.next\n",
    "        \n",
    "```"
   ]
  }
 ],
 "metadata": {
  "language_info": {
   "name": "python"
  }
 },
 "nbformat": 4,
 "nbformat_minor": 2
}
