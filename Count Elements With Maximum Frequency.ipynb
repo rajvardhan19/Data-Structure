{
 "cells": [
  {
   "cell_type": "markdown",
   "metadata": {},
   "source": [
    "# Bag of Tokens\n",
    "\n",
    "You are given an array nums consisting of positive integers.\n",
    "\n",
    "Return the total frequencies of elements in nums such that those elements all have the maximum frequency.\n",
    "\n",
    "The frequency of an element is the number of occurrences of that element in the array.\n",
    " \n",
    "\n",
    "**Example 1:**\n",
    "```\n",
    "Input: nums = [1,2,2,3,1,4]\n",
    "Output: 4\n",
    "Explanation: The elements 1 and 2 have a frequency of 2 which is the maximum frequency in the array.\n",
    "So the number of elements in the array with maximum frequency is 4.\n",
    "```\n",
    "**Example 2:**\n",
    "```\n",
    "Input: nums = [1,2,3,4,5]\n",
    "Output: 5\n",
    "Explanation: All elements of the array have a frequency of 1 which is the maximum.\n",
    "So the number of elements in the array with maximum frequency is 5.\n",
    "```\n",
    "\n",
    "\n",
    "--> **Constraints:**\n",
    "```\n",
    "1 <= nums.length <= 100\n",
    "1 <= nums[i] <= 100\n",
    "```\n",
    "\n",
    "\n",
    "Link --> https://leetcode.com/problems/count-elements-with-maximum-frequency/"
   ]
  },
  {
   "cell_type": "markdown",
   "metadata": {},
   "source": [
    "```\n",
    "class Solution(object):\n",
    "    def maxFrequencyElements(self, nums):\n",
    "        freq_counter = Counter(nums)\n",
    "        \n",
    "        max_frequency = max(freq_counter.values())\n",
    "\n",
    "        max_freq_elements = [num for num, freq in freq_counter.items() if freq == max_frequency]\n",
    "\n",
    "        total_frequency = max_frequency * len(max_freq_elements)\n",
    "\n",
    "        return total_frequency\n",
    "```"
   ]
  }
 ],
 "metadata": {
  "language_info": {
   "name": "python"
  }
 },
 "nbformat": 4,
 "nbformat_minor": 2
}
