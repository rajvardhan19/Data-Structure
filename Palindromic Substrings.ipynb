{
 "cells": [
  {
   "cell_type": "markdown",
   "metadata": {},
   "source": [
    "# Palindromic Substrings\n",
    "Given a string s, return the number of palindromic substrings in it.\n",
    "\n",
    "A string is a palindrome when it reads the same backward as forward.\n",
    "\n",
    "A substring is a contiguous sequence of characters within the string.\n",
    " \n",
    " \n",
    "**Example 1:**\n",
    "```\n",
    "Input: s = \"abc\"\n",
    "Output: 3\n",
    "Explanation: Three palindromic strings: \"a\", \"b\", \"c\".\n",
    "```\n",
    "**Example 2:**\n",
    "```\n",
    "Input: s = \"aaa\"\n",
    "Output: 6\n",
    "Explanation: Six palindromic strings: \"a\", \"a\", \"a\", \"aa\", \"aa\", \"aaa\".\n",
    "```\n",
    "\n",
    "--> **Constraints:**\n",
    "```\n",
    "1 <= s.length <= 1000\n",
    "s consists of lowercase English letters.\n",
    "```\n",
    "\n",
    "\n",
    "Link --> https://leetcode.com/problems/palindromic-substrings/"
   ]
  },
  {
   "cell_type": "code",
   "execution_count": null,
   "metadata": {},
   "outputs": [],
   "source": [
    "class Solution:\n",
    "    def countSubstrings(self, s: str) -> int:\n",
    "        # Initialize the dp table\n",
    "        dp = [[0] * len(s) for _ in range(len(s))]\n",
    "        # Initialize the count of palindromic substrings\n",
    "        count = 0\n",
    "\n",
    "        # Check all substrings of length 1\n",
    "        for i in range(len(s)):\n",
    "            dp[i][i] = 1\n",
    "            count += 1\n",
    "\n",
    "        # Check all substrings of length 2\n",
    "        for i in range(len(s) - 1):\n",
    "            if s[i] == s[i + 1]:\n",
    "                dp[i][i + 1] = 1\n",
    "                count += 1\n",
    "\n",
    "        # Check all substrings of length 3 and more\n",
    "        for length in range(3, len(s) + 1):\n",
    "            for i in range(len(s) - length + 1):\n",
    "                j = i + length - 1\n",
    "                if s[i] == s[j] and dp[i + 1][j - 1]:\n",
    "                    dp[i][j] = 1\n",
    "                    count += 1\n",
    "\n",
    "        return count\n",
    "        "
   ]
  }
 ],
 "metadata": {
  "language_info": {
   "name": "python"
  }
 },
 "nbformat": 4,
 "nbformat_minor": 2
}
