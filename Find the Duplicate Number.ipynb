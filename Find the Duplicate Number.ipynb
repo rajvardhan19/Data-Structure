{
 "cells": [
  {
   "cell_type": "markdown",
   "metadata": {},
   "source": [
    "# Find the Duplicate Number\n",
    "Given an array of integers nums containing n + 1 integers where each integer is in the range [1, n] inclusive.\n",
    "\n",
    "There is only one repeated number in nums, return this repeated number.\n",
    "\n",
    "You must solve the problem without modifying the array nums and uses only constant extra space.\n",
    "\n",
    "**Example 1:**\n",
    "```\n",
    "Input: nums = [1,3,4,2,2]\n",
    "Output: 2\n",
    "```\n",
    "**Example 2:**\n",
    "```\n",
    "Input: nums = [3,1,3,4,2]\n",
    "Output: 3\n",
    "```\n",
    "**Example 3:**\n",
    "```\n",
    "Input: nums = [3,3,3,3,3]\n",
    "Output: 3\n",
    "```\n",
    "\n",
    "--> **Constraints:**\n",
    "```\n",
    "1 <= n <= 105\n",
    "nums.length == n + 1\n",
    "1 <= nums[i] <= n\n",
    "All the integers in nums appear only once except for precisely one integer which appears two or more times.\n",
    "```\n",
    "\n",
    "\n",
    "Link --> https://leetcode.com/problems/find-the-duplicate-number/"
   ]
  },
  {
   "cell_type": "markdown",
   "metadata": {},
   "source": [
    "```\n",
    "class Solution(object):\n",
    "    def findDuplicate(self, nums):\n",
    "        # Initializing slow(pointer moving 1 step at a time) and fast(pointer moving 2 steps at a time) pointers\n",
    "        slow, fast = nums[0], nums[0]\n",
    "        \n",
    "        # Step 1: Detect the cycle\n",
    "        while True:\n",
    "            slow = nums[slow]\n",
    "            fast = nums[nums[fast]]\n",
    "            # point where tortoise and hare meet inside the cycle\n",
    "            if slow == fast:\n",
    "                break\n",
    "\n",
    "        # Step 2: Find the entrance to the cycle\n",
    "        # Resetting any one of the pointers to the start of nums\n",
    "        slow = nums[0]\n",
    "        # Move both the pointers one step at a time\n",
    "        while slow != fast:\n",
    "            slow = nums[slow]\n",
    "            fast = nums[fast]\n",
    "        \n",
    "        # The point where both pointers intersect will be the starting point for the cycle i.e duplicated number\n",
    "        return slow\n",
    "        \n",
    "```"
   ]
  }
 ],
 "metadata": {
  "language_info": {
   "name": "python"
  }
 },
 "nbformat": 4,
 "nbformat_minor": 2
}
