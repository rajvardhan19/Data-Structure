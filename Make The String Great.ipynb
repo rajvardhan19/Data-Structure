{
 "cells": [
  {
   "cell_type": "markdown",
   "metadata": {},
   "source": [
    "# Make The String Great\n",
    "\n",
    "Given a string s of lower and upper case English letters.\n",
    "\n",
    "A good string is a string which doesn't have two adjacent characters s[i] and s[i + 1] where:\n",
    "\n",
    "- 0 <= i <= s.length - 2\n",
    "- s[i] is a lower-case letter and s[i + 1] is the same letter but in upper-case or vice-versa.\n",
    "\n",
    "To make the string good, you can choose two adjacent characters that make the string bad and remove them. You can keep doing this until the string becomes good.\n",
    "\n",
    "Return the string after making it good. The answer is guaranteed to be unique under the given constraints.\n",
    "\n",
    "Notice that an empty string is also good.\n",
    " \n",
    "**Example 1:**\n",
    "```\n",
    "Input: s = \"leEeetcode\"\n",
    "Output: \"leetcode\"\n",
    "Explanation: In the first step, either you choose i = 1 or i = 2, both will result \"leEeetcode\" to be reduced to \"leetcode\".\n",
    "```\n",
    "**Example 2:**\n",
    "```\n",
    "Input: s = \"abBAcC\"\n",
    "Output: \"\"\n",
    "Explanation: We have many possible scenarios, and all lead to the same answer. For example:\n",
    "\"abBAcC\" --> \"aAcC\" --> \"cC\" --> \"\"\n",
    "\"abBAcC\" --> \"abBA\" --> \"aA\" --> \"\"\n",
    "```\n",
    "**Example 3:**\n",
    "```\n",
    "Input: s = \"s\"\n",
    "Output: \"s\"\n",
    "```\n",
    "\n",
    "--> **Constraints:**\n",
    "```\n",
    "1 <= s.length <= 100\n",
    "s contains only lower and upper case English letters.\n",
    "```\n",
    "\n",
    "\n",
    "Link --> https://leetcode.com/problems/make-the-string-great/"
   ]
  },
  {
   "cell_type": "markdown",
   "metadata": {},
   "source": [
    "```\n",
    "class Solution {\n",
    "    public String makeGood(String s) {\n",
    "        Stack<Character> stack = new Stack<>();\n",
    "        \n",
    "        for (char c : s.toCharArray()) {\n",
    "            if (!stack.isEmpty() && Math.abs(c - stack.peek()) == 32) {\n",
    "                stack.pop();\n",
    "            } else {\n",
    "                stack.push(c);\n",
    "            }\n",
    "        }\n",
    "        \n",
    "        StringBuilder result = new StringBuilder();\n",
    "        while (!stack.isEmpty()) {\n",
    "            result.insert(0, stack.pop());\n",
    "        }\n",
    "        \n",
    "        return result.toString();\n",
    "    }\n",
    "}\n",
    "```"
   ]
  }
 ],
 "metadata": {
  "language_info": {
   "name": "python"
  }
 },
 "nbformat": 4,
 "nbformat_minor": 2
}
