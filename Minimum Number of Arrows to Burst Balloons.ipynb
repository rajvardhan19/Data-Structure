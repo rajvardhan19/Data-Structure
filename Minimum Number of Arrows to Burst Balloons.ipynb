{
 "cells": [
  {
   "cell_type": "markdown",
   "metadata": {},
   "source": [
    "# Minimum Number of Arrows to Burst Balloons\n",
    "\n",
    "There are some spherical balloons taped onto a flat wall that represents the XY-plane. The balloons are represented as a 2D integer array points where points[i] = [xstart, xend] denotes a balloon whose horizontal diameter stretches between xstart and xend. You do not know the exact y-coordinates of the balloons.\n",
    "\n",
    "Arrows can be shot up directly vertically (in the positive y-direction) from different points along the x-axis. A balloon with xstart and xend is burst by an arrow shot at x if xstart <= x <= xend. There is no limit to the number of arrows that can be shot. A shot arrow keeps traveling up infinitely, bursting any balloons in its path.\n",
    "\n",
    "Given the array points, return the minimum number of arrows that must be shot to burst all balloons.\n",
    "\n",
    "**Example 1:**\n",
    "```\n",
    "Input: points = [[10,16],[2,8],[1,6],[7,12]]\n",
    "Output: 2\n",
    "Explanation: The balloons can be burst by 2 arrows:\n",
    "- Shoot an arrow at x = 6, bursting the balloons [2,8] and [1,6].\n",
    "- Shoot an arrow at x = 11, bursting the balloons [10,16] and [7,12].\n",
    "```\n",
    "**Example 2:**\n",
    "```\n",
    "Input: points = [[1,2],[3,4],[5,6],[7,8]]\n",
    "Output: 4\n",
    "Explanation: One arrow needs to be shot for each balloon for a total of 4 arrows.\n",
    "```\n",
    "**Example 3:**\n",
    "```\n",
    "Input: points = [[1,2],[3,4],[5,6],[7,8]]\n",
    "Output: 4\n",
    "Explanation: One arrow needs to be shot for each balloon for a total of 4 arrows.\n",
    "```\n",
    "\n",
    "--> **Constraints:**\n",
    "```\n",
    "1 <= points.length <= 105\n",
    "points[i].length == 2\n",
    "-231 <= xstart < xend <= 231 - 1\n",
    "```\n",
    "\n",
    "\n",
    "Link --> https://leetcode.com/problems/minimum-number-of-arrows-to-burst-balloons/"
   ]
  },
  {
   "cell_type": "markdown",
   "metadata": {},
   "source": [
    "```\n",
    "class Solution(object):\n",
    "    def findMinArrowShots(self, points):\n",
    "        if not points: return 0\n",
    "    \n",
    "        # sort balloons by x_end\n",
    "        points.sort(key=lambda x: x[1])\n",
    "\n",
    "        arrows = 1  # at least one arrow is needed\n",
    "        curr_end = points[0][1]  # end position of the first balloon    \n",
    "        \n",
    "        for balloon in points:\n",
    "            # when the start of the current balloon is beyond the curr_end,\n",
    "            # we need an extra arrow and update the curr_end to the end of curr balloon\n",
    "            if balloon[0] > curr_end:\n",
    "                arrows += 1\n",
    "                curr_end = balloon[1]\n",
    "                \n",
    "        return arrows\n",
    "        \n",
    "```"
   ]
  }
 ],
 "metadata": {
  "language_info": {
   "name": "python"
  }
 },
 "nbformat": 4,
 "nbformat_minor": 2
}
