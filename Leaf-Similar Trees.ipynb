{
 "cells": [
  {
   "cell_type": "markdown",
   "metadata": {},
   "source": [
    "# Problem Name: Leaf-Similar Trees\n",
    "\n",
    "Consider all the leaves of a binary tree, from left to right order, the values of those leaves form a leaf value sequence.\n",
    "\n",
    "For example, in the given tree above, the leaf value sequence is ```(6, 7, 4, 9, 8)```.\n",
    "\n",
    "Two binary trees are considered leaf-similar if their leaf value sequence is the same.\n",
    "\n",
    "Return ```true``` if and only if the two given trees with head nodes ```root1``` and ```root2``` are leaf-similar.\n",
    "\n",
    " \n",
    "\n",
    "**Example 1:**\n",
    "```\n",
    "Input: root1 = [3,5,1,6,2,9,8,null,null,7,4], root2 = [3,5,1,6,7,4,2,null,null,null,null,null,null,9,8]\n",
    "Output: true\n",
    "```\n",
    "\n",
    "\n",
    "\n",
    "**Example 2:**\n",
    "```\n",
    "Input: root1 = [1,2,3], root2 = [1,3,2]\n",
    "Output: false\n",
    "```\n",
    "\n",
    "\n",
    " \n",
    "**Constraints:**\n",
    "```\n",
    "The number of nodes in each tree will be in the range [1, 200].\n",
    "Both of the given trees will have values in the range [0, 200].\n",
    "```\n",
    "\n",
    "Link --> https://leetcode.com/problems/leaf-similar-trees/"
   ]
  },
  {
   "cell_type": "code",
   "execution_count": null,
   "metadata": {},
   "outputs": [],
   "source": [
    "class Solution(object):\n",
    "    def leafSimilar(self, root1, root2):\n",
    "        def inorder(root, v):\n",
    "            if root:\n",
    "                inorder(root.left, v)\n",
    "                if not root.left and not root.right:\n",
    "                    v.append(root.val)\n",
    "                inorder(root.right, v)\n",
    "        \n",
    "        v1, v2 = [], []\n",
    "        inorder(root1, v1)\n",
    "        inorder(root2, v2)\n",
    "        return v1 == v2"
   ]
  },
  {
   "cell_type": "markdown",
   "metadata": {},
   "source": [
    "1. leafSimilar Method:\n",
    "\n",
    "- This method takes two tree roots (root1 and root2) as arguments and checks if their leaf sequences are similar.\n",
    "\n",
    "2. inorder Function:\n",
    "\n",
    "- This function performs an inorder traversal of a binary tree and appends the leaf node values to a given list v.\n",
    "- It's a helper function used within the leafSimilar method.\n",
    "\n",
    "3. inorder Function Explanation:\n",
    "\n",
    "- inorder takes two parameters: root (the current node being visited in the traversal) and v (the list to which leaf node values will be appended).\n",
    "- It performs an inorder traversal by recursively visiting nodes in the order of left, root, and right.\n",
    "- When the current node (root) is not None:\n",
    "    - It calls inorder on the left child of root.\n",
    "    - If the current node is a leaf node (i.e., it has no left or right child), it appends the value of that node to the list v.\n",
    "    - It calls inorder on the right child of root.\n",
    "\n",
    "4. leafSimilar Execution:\n",
    "\n",
    "- It initializes two empty lists, v1 and v2, to store the leaf node values of root1 and root2 respectively.\n",
    "- It calls the inorder function for both root1 and root2, populating v1 and v2 with their respective leaf node values.\n",
    "- Finally, it compares v1 and v2 to check if their leaf sequences are the same and returns True if they match, False otherwise."
   ]
  }
 ],
 "metadata": {
  "language_info": {
   "name": "python"
  }
 },
 "nbformat": 4,
 "nbformat_minor": 2
}
