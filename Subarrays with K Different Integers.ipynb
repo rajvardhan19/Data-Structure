{
 "cells": [
  {
   "cell_type": "markdown",
   "metadata": {},
   "source": [
    "# Subarrays with K Different Integers\n",
    "\n",
    "Given an integer array nums and an integer k, return the number of good subarrays of nums.\n",
    "\n",
    "A good array is an array where the number of different integers in that array is exactly k.\n",
    "\n",
    "- For example, [1,2,3,1,2] has 3 different integers: 1, 2, and 3.\n",
    "A subarray is a contiguous part of an array.\n",
    "    \n",
    " \n",
    "**Example 1:**\n",
    "```\n",
    "Input: nums = [1,2,1,2,3], k = 2\n",
    "Output: 7\n",
    "Explanation: Subarrays formed with exactly 2 different integers: [1,2], [2,1], [1,2], [2,3], [1,2,1], [2,1,2], [1,2,1,2]\n",
    "```\n",
    "**Example 2:**\n",
    "```\n",
    "Input: nums = [1,2,1,3,4], k = 3\n",
    "Output: 3\n",
    "Explanation: Subarrays formed with exactly 3 different integers: [1,2,1,3], [2,1,3], [1,3,4].\n",
    "```\n",
    "\n",
    "\n",
    "--> **Constraints:**\n",
    "```\n",
    "1 <= nums.length <= 2 * 104\n",
    "1 <= nums[i], k <= nums.length\n",
    "```\n",
    "\n",
    "\n",
    "Link --> https://leetcode.com/problems/subarrays-with-k-different-integers/"
   ]
  },
  {
   "cell_type": "markdown",
   "metadata": {},
   "source": [
    "```\n",
    "class Solution {\n",
    "    public int subarraysWithKDistinct(int[] nums, int k) {\n",
    "        int subWithMaxK = subarrayWithAtMostK(nums, k);\n",
    "        int reducedSubWithMaxK = subarrayWithAtMostK(nums, k - 1);\n",
    "        return subWithMaxK - reducedSubWithMaxK;\n",
    "    }\n",
    "    \n",
    "    public int subarrayWithAtMostK(int[] nums, int k) {\n",
    "        HashMap<Integer, Integer> map = new HashMap<>();\n",
    "        int left = 0, right = 0, ans = 0;\n",
    "        \n",
    "        while (right < nums.length) {\n",
    "            map.put(nums[right], map.getOrDefault(nums[right], 0) + 1);\n",
    "            \n",
    "            while (map.size() > k) {\n",
    "                map.put(nums[left], map.get(nums[left]) - 1);\n",
    "                if (map.get(nums[left]) == 0) {\n",
    "                    map.remove(nums[left]);\n",
    "                }\n",
    "                left++;\n",
    "            }\n",
    "            \n",
    "            ans += right - left + 1; // Size of subarray\n",
    "            right++;\n",
    "        }\n",
    "        \n",
    "        return ans;\n",
    "    }\n",
    "}\n",
    "```"
   ]
  }
 ],
 "metadata": {
  "language_info": {
   "name": "python"
  }
 },
 "nbformat": 4,
 "nbformat_minor": 2
}
