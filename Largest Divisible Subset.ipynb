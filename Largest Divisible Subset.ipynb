{
 "cells": [
  {
   "cell_type": "markdown",
   "metadata": {},
   "source": [
    "# Largest Divisible Subset\n",
    "Given a set of distinct positive integers nums, return the largest subset answer such that every pair (answer[i], answer[j]) of elements in this subset satisfies:\n",
    "\n",
    "    - answer[i] % answer[j] == 0, or\n",
    "    - answer[j] % answer[i] == 0\n",
    "If there are multiple solutions, return any of them.\n",
    "\n",
    " \n",
    " \n",
    "**Example 1:**\n",
    "```\n",
    "Input: nums = [1,2,3]\n",
    "Output: [1,2]\n",
    "Explanation: [1,3] is also accepted.\n",
    "```\n",
    "**Example 2:**\n",
    "```\n",
    "Input: nums = [1,2,4,8]\n",
    "Output: [1,2,4,8]\n",
    "```\n",
    "\n",
    "--> **Constraints:**\n",
    "```\n",
    "1 <= nums.length <= 1000\n",
    "1 <= nums[i] <= 2 * 109\n",
    "All the integers in nums are unique.\n",
    "```\n",
    "\n",
    "\n",
    "Link --> https://leetcode.com/problems/largest-divisible-subset/"
   ]
  },
  {
   "cell_type": "code",
   "execution_count": null,
   "metadata": {},
   "outputs": [],
   "source": [
    "class Solution(object):\n",
    "    def largestDivisibleSubset(self, nums):\n",
    "        if not nums:\n",
    "            return []\n",
    "        \n",
    "        nums.sort()\n",
    "        n = len(nums)\n",
    "        dp = [1] * n\n",
    "        prev = [-1] * n\n",
    "        \n",
    "        max_index = 0\n",
    "        \n",
    "        for i in range(1, n):\n",
    "            for j in range(i):\n",
    "                if nums[i] % nums[j] == 0 and dp[i] < dp[j] + 1:\n",
    "                    dp[i] = dp[j] + 1\n",
    "                    prev[i] = j\n",
    "                    if dp[i] > dp[max_index]:\n",
    "                        max_index = i\n",
    "        \n",
    "        subset = []\n",
    "        while max_index != -1:\n",
    "            subset.append(nums[max_index])\n",
    "            max_index = prev[max_index]\n",
    "        \n",
    "        return subset[::-1]\n",
    "            "
   ]
  }
 ],
 "metadata": {
  "language_info": {
   "name": "python"
  }
 },
 "nbformat": 4,
 "nbformat_minor": 2
}
