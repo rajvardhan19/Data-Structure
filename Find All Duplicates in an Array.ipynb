{
 "cells": [
  {
   "cell_type": "markdown",
   "metadata": {},
   "source": [
    "# Find All Duplicates in an Array\n",
    "Given an integer array nums of length n where all the integers of nums are in the range [1, n] and each integer appears once or twice, return an array of all the integers that appears twice.\n",
    "\n",
    "You must write an algorithm that runs in O(n) time and uses only constant extra space.\n",
    "\n",
    "**Example 1:**\n",
    "```\n",
    "Input: nums = [4,3,2,7,8,2,3,1]\n",
    "Output: [2,3]\n",
    "```\n",
    "**Example 2:**\n",
    "```\n",
    "Input: nums = [1,1,2]\n",
    "Output: [1]\n",
    "```\n",
    "**Example 3:**\n",
    "```\n",
    "Input: nums = [1]\n",
    "Output: []\n",
    "```\n",
    "\n",
    "--> **Constraints:**\n",
    "```\n",
    "n == nums.length\n",
    "1 <= n <= 105\n",
    "1 <= nums[i] <= n\n",
    "Each element in nums appears once or twice.\n",
    "```\n",
    "\n",
    "\n",
    "Link --> https://leetcode.com/problems/find-all-duplicates-in-an-array/"
   ]
  },
  {
   "cell_type": "markdown",
   "metadata": {},
   "source": [
    "```\n",
    "class Solution:\n",
    "    def findDuplicates(self, nums: List[int]) -> List[int]:\n",
    "        arr = [0] * (len(nums) + 1)\n",
    "        for x in nums:\n",
    "            arr[x] += 1\n",
    "        res = []\n",
    "        for i in range(len(arr)):\n",
    "            if arr[i] == 2:\n",
    "                res.append(i)\n",
    "        return res\n",
    "```"
   ]
  }
 ],
 "metadata": {
  "language_info": {
   "name": "python"
  }
 },
 "nbformat": 4,
 "nbformat_minor": 2
}
