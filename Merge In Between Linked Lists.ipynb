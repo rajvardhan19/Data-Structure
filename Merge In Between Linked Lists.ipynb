{
 "cells": [
  {
   "cell_type": "markdown",
   "metadata": {},
   "source": [
    "# Merge In Between Linked Lists\n",
    "You are given two linked lists: list1 and list2 of sizes n and m respectively.\n",
    "\n",
    "Remove list1's nodes from the ath node to the bth node, and put list2 in their place.\n",
    "\n",
    "You are given an array of CPU tasks, each represented by letters A to Z, and a cooling time, n. Each cycle or interval allows the completion of one task. Tasks can be completed in any order, but there's a constraint: identical tasks must be separated by at least n intervals due to cooling time.\n",
    "\n",
    "​Return the minimum number of intervals required to complete all tasks.\n",
    "\n",
    "**Example 1:**\n",
    "```\n",
    "Input: list1 = [10,1,13,6,9,5], a = 3, b = 4, list2 = [1000000,1000001,1000002]\n",
    "Output: [10,1,13,1000000,1000001,1000002,5]\n",
    "Explanation: We remove the nodes 3 and 4 and put the entire list2 in their place. The blue edges and nodes in the above figure indicate the result.\n",
    "```\n",
    "**Example 2:**\n",
    "```\n",
    "Input: list1 = [0,1,2,3,4,5,6], a = 2, b = 5, list2 = [1000000,1000001,1000002,1000003,1000004]\n",
    "Output: [0,1,1000000,1000001,1000002,1000003,1000004,6]\n",
    "Explanation: The blue edges and nodes in the above figure indicate the result.\n",
    " \n",
    "```\n",
    "\n",
    "--> **Constraints:**\n",
    "```\n",
    "3 <= list1.length <= 104\n",
    "1 <= a <= b < list1.length - 1\n",
    "1 <= list2.length <= 104\n",
    "```\n",
    "\n",
    "\n",
    "Link --> https://leetcode.com/problems/merge-in-between-linked-lists/"
   ]
  },
  {
   "cell_type": "markdown",
   "metadata": {},
   "source": [
    "```\n",
    "class Solution(object):\n",
    "    def mergeInBetween(self, list1, a, b, list2):\n",
    "        ptr = list1\n",
    "        for _ in range(a - 1):\n",
    "            ptr = ptr.next\n",
    "        \n",
    "        qtr = ptr.next\n",
    "        for _ in range(b - a + 1):\n",
    "            qtr = qtr.next\n",
    "        \n",
    "        ptr.next = list2\n",
    "        while list2.next:\n",
    "            list2 = list2.next\n",
    "        list2.next = qtr\n",
    "        \n",
    "        return list1\n",
    "        \n",
    "```"
   ]
  }
 ],
 "metadata": {
  "language_info": {
   "name": "python"
  }
 },
 "nbformat": 4,
 "nbformat_minor": 2
}
