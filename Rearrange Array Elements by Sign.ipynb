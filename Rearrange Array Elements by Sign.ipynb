{
 "cells": [
  {
   "cell_type": "markdown",
   "metadata": {},
   "source": [
    "# Rearrange Array Elements by Sign\n",
    "\n",
    "You are given a 0-indexed integer array nums of even length consisting of an equal number of positive and negative integers.\n",
    "\n",
    "You should rearrange the elements of nums such that the modified array follows the given conditions:\n",
    "\n",
    "    1. Every consecutive pair of integers have opposite signs.\n",
    "    2. For all integers with the same sign, the order in which they were present in nums is preserved.\n",
    "    3. The rearranged array begins with a positive integer.\n",
    "\n",
    "Return the modified array after rearranging the elements to satisfy the aforementioned conditions.\n",
    "    \n",
    " \n",
    "**Example 1:**\n",
    "```\n",
    "Input: nums = [3,1,-2,-5,2,-4]\n",
    "Output: [3,-2,1,-5,2,-4]\n",
    "Explanation:\n",
    "The positive integers in nums are [3,1,2]. The negative integers are [-2,-5,-4].\n",
    "The only possible way to rearrange them such that they satisfy all conditions is [3,-2,1,-5,2,-4].\n",
    "Other ways such as [1,-2,2,-5,3,-4], [3,1,2,-2,-5,-4], [-2,3,-5,1,-4,2] are incorrect because they do not satisfy one or more conditions.  \n",
    "```\n",
    "**Example 2:**\n",
    "```\n",
    "Input: nums = [-1,1]\n",
    "Output: [1,-1]\n",
    "Explanation:\n",
    "1 is the only positive integer and -1 the only negative integer in nums.\n",
    "So nums is rearranged to [1,-1].\n",
    "```\n",
    "\n",
    "\n",
    "--> **Constraints:**\n",
    "```\n",
    "2 <= nums.length <= 2 * 105\n",
    "nums.length is even\n",
    "1 <= |nums[i]| <= 105\n",
    "nums consists of equal number of positive and negative integers.\n",
    "```\n",
    "\n",
    "\n",
    "Link --> https://leetcode.com/problems/rearrange-array-elements-by-sign/"
   ]
  },
  {
   "cell_type": "code",
   "execution_count": null,
   "metadata": {},
   "outputs": [],
   "source": [
    "class Solution(object):\n",
    "    def rearrangeArray(self, nums):\n",
    "        # Separate the numbers into positive and negative\n",
    "        positive = [num for num in nums if num > 0]\n",
    "        negative = [num for num in nums if num < 0]\n",
    "\n",
    "        # Combine the two lists\n",
    "        result = []\n",
    "        while positive and negative:\n",
    "            result.append(positive.pop(0))\n",
    "            result.append(negative.pop(0))\n",
    "\n",
    "        # Add the remaining elements (if any)\n",
    "        result += positive\n",
    "        result += negative\n",
    "\n",
    "        return result\n",
    "        "
   ]
  }
 ],
 "metadata": {
  "language_info": {
   "name": "python"
  }
 },
 "nbformat": 4,
 "nbformat_minor": 2
}
