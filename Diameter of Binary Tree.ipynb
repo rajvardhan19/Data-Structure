{
 "cells": [
  {
   "cell_type": "markdown",
   "metadata": {},
   "source": [
    "# Diameter of Binary Tree\n",
    "\n",
    "Given the root of a binary tree, return the length of the diameter of the tree.\n",
    "\n",
    "The diameter of a binary tree is the length of the longest path between any two nodes in a tree. This path may or may not pass through the root.\n",
    "\n",
    "The length of a path between two nodes is represented by the number of edges between them.\n",
    " \n",
    "**Example 1:**\n",
    "```\n",
    "Input: root = [1,2,3,4,5]\n",
    "Output: 3\n",
    "Explanation: 3 is the length of the path [4,2,1,3] or [5,2,1,3].\n",
    "```\n",
    "**Example 2:**\n",
    "```\n",
    "Input: root = [1,2]\n",
    "Output: 1\n",
    "```\n",
    "\n",
    "\n",
    "--> **Constraints:**\n",
    "```\n",
    "The number of nodes in the tree is in the range [1, 104].\n",
    "-100 <= Node.val <= 100\n",
    "```\n",
    "\n",
    "\n",
    "Link --> https://leetcode.com/problems/diameter-of-binary-tree/"
   ]
  },
  {
   "cell_type": "markdown",
   "metadata": {},
   "source": [
    "```\n",
    "# Definition for a binary tree node.\n",
    "# class TreeNode(object):\n",
    "#     def __init__(self, val=0, left=None, right=None):\n",
    "#         self.val = val\n",
    "#         self.left = left\n",
    "#         self.right = right\n",
    "class Solution(object):\n",
    "    def diameterOfBinaryTree(self, root):\n",
    "        self.ans = 1\n",
    "        def depth(node):\n",
    "            # return 0 when reaches the leaf node \n",
    "            if not node: return 0\n",
    "            # function depth is called recursively to get the length \n",
    "            # of the longest path in left and right subtrees\n",
    "            left = depth(node.left)\n",
    "            right = depth(node.right)\n",
    "            # update the diameter\n",
    "            self.ans = max(self.ans, left+right+1)\n",
    "            # return the length of the longest path of the subtree\n",
    "            return max(left, right) + 1\n",
    "\n",
    "        depth(root)\n",
    "        return self.ans - 1  # subtract 1 to get the number of edges\n",
    "        \n",
    "```"
   ]
  }
 ],
 "metadata": {
  "language_info": {
   "name": "python"
  }
 },
 "nbformat": 4,
 "nbformat_minor": 2
}
