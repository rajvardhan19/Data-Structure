{
 "cells": [
  {
   "cell_type": "markdown",
   "metadata": {},
   "source": [
    "# Find the Pivot Integer\n",
    "\n",
    "Given a positive integer n, find the pivot integer x such that:\n",
    "\n",
    "- The sum of all elements between 1 and x inclusively equals the sum of all elements between x and n inclusively.\n",
    "Return the pivot integer x. If no such integer exists, return -1. It is guaranteed that there will be at most one pivot index for the given input.\n",
    "\n",
    "**Example 1:**\n",
    "```\n",
    "Input: n = 8\n",
    "Output: 6\n",
    "Explanation: 6 is the pivot integer since: 1 + 2 + 3 + 4 + 5 + 6 = 6 + 7 + 8 = 21\n",
    "```\n",
    "**Example 2:**\n",
    "```\n",
    "Input: n = 1\n",
    "Output: 1\n",
    "Explanation: 1 is the pivot integer since: 1 = 1.\n",
    "```\n",
    "**Example 3:**\n",
    "```\n",
    "Input: n = 4\n",
    "Output: -1\n",
    "Explanation: It can be proved that no such integer exist.\n",
    "```\n",
    "\n",
    "\n",
    "--> **Constraints:**\n",
    "```\n",
    "1 <= n <= 1000\n",
    "```\n",
    "\n",
    "\n",
    "Link --> https://leetcode.com/problems/find-the-pivot-integer/"
   ]
  },
  {
   "cell_type": "markdown",
   "metadata": {},
   "source": [
    "```\n",
    "class Solution(object):\n",
    "    def pivotInteger(self, n):\n",
    "        x = sqrt(n * (n + 1) / 2)\n",
    "        \n",
    "        if x % 1 != 0:\n",
    "            return -1\n",
    "        else:\n",
    "            return int(x)\n",
    "        \n",
    "```"
   ]
  }
 ],
 "metadata": {
  "language_info": {
   "name": "python"
  }
 },
 "nbformat": 4,
 "nbformat_minor": 2
}
