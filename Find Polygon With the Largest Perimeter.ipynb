{
 "cells": [
  {
   "cell_type": "markdown",
   "metadata": {},
   "source": [
    "# Rearrange Array Elements by Sign\n",
    "\n",
    "You are given an array of positive integers nums of length n.\n",
    "\n",
    "A polygon is a closed plane figure that has at least 3 sides. The longest side of a polygon is smaller than the sum of its other sides.\n",
    "\n",
    "Conversely, if you have k (k >= 3) positive real numbers a1, a2, a3, ..., ak where a1 <= a2 <= a3 <= ... <= ak and a1 + a2 + a3 + ... + ak-1 > ak, then there always exists a polygon with k sides whose lengths are a1, a2, a3, ..., ak.\n",
    "\n",
    "The perimeter of a polygon is the sum of lengths of its sides.\n",
    "\n",
    "Return the largest possible perimeter of a polygon whose sides can be formed from nums, or -1 if it is not possible to create a polygon.\n",
    "    \n",
    " \n",
    "**Example 1:**\n",
    "```\n",
    "Input: nums = [5,5,5]\n",
    "Output: 15\n",
    "Explanation: The only possible polygon that can be made from nums has 3 sides: 5, 5, and 5. The perimeter is 5 + 5 + 5 = 15.\n",
    "```\n",
    "**Example 2:**\n",
    "```\n",
    "Input: nums = [1,12,1,2,5,50,3]\n",
    "Output: 12\n",
    "Explanation: The polygon with the largest perimeter which can be made from nums has 5 sides: 1, 1, 2, 3, and 5. The perimeter is 1 + 1 + 2 + 3 + 5 = 12.\n",
    "We cannot have a polygon with either 12 or 50 as the longest side because it is not possible to include 2 or more smaller sides that have a greater sum than either of them.\n",
    "It can be shown that the largest possible perimeter is 12.\n",
    "```\n",
    "**Example 3:**\n",
    "```\n",
    "Input: nums = [5,5,50]\n",
    "Output: -1\n",
    "Explanation: There is no possible way to form a polygon from nums, as a polygon has at least 3 sides and 50 > 5 + 5.\n",
    "```\n",
    "\n",
    "\n",
    "--> **Constraints:**\n",
    "```\n",
    "3 <= n <= 105\n",
    "1 <= nums[i] <= 109\n",
    "```\n",
    "\n",
    "\n",
    "Link --> https://leetcode.com/problems/find-polygon-with-the-largest-perimeter/"
   ]
  },
  {
   "cell_type": "markdown",
   "metadata": {},
   "source": [
    "```\n",
    "class Solution(object):\n",
    "    def largestPerimeter(self, nums):\n",
    "        nums.sort()  # Sort the list in ascending order\n",
    "        Csum = Psum = 0  # Initialize current sum and perimeter sum to 0\n",
    "\n",
    "        for i in range(len(nums)):\n",
    "            # Check if the current element can be part of a valid triangle\n",
    "            if nums[i] < Csum:\n",
    "                Psum = Csum + nums[i]  # Update perimeter sum with the potential triangle's perimeter\n",
    "            Csum += nums[i]  # Update current sum with the current element\n",
    "\n",
    "        # Return the largest perimeter if a valid triangle is found, otherwise return -1\n",
    "        return -1 if Psum == 0 else Psum\n",
    "```"
   ]
  }
 ],
 "metadata": {
  "language_info": {
   "name": "python"
  }
 },
 "nbformat": 4,
 "nbformat_minor": 2
}
