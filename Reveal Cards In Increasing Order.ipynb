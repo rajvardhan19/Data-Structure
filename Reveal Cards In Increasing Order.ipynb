{
 "cells": [
  {
   "cell_type": "markdown",
   "metadata": {},
   "source": [
    "# Reveal Cards In Increasing Order\n",
    "\n",
    "You are given an integer array deck. There is a deck of cards where every card has a unique integer. The integer on the ith card is deck[i].\n",
    "\n",
    "You can order the deck in any order you want. Initially, all the cards start face down (unrevealed) in one deck.\n",
    "\n",
    "You will do the following steps repeatedly until all cards are revealed:\n",
    "\n",
    "Take the top card of the deck, reveal it, and take it out of the deck.\n",
    "1. If there are still cards in the deck then put the next top card of the deck at the bottom of the deck.\n",
    "2. If there are still unrevealed cards, go back to step 1. Otherwise, stop.\n",
    "3. Return an ordering of the deck that would reveal the cards in increasing order.\n",
    "\n",
    "Note that the first entry in the answer is considered to be the top of the deck.\n",
    "\n",
    "**Example 1:**\n",
    "```\n",
    "Input: deck = [17,13,11,2,3,5,7]\n",
    "Output: [2,13,3,11,5,17,7]\n",
    "Explanation: \n",
    "We get the deck in the order [17,13,11,2,3,5,7] (this order does not matter), and reorder it.\n",
    "After reordering, the deck starts as [2,13,3,11,5,17,7], where 2 is the top of the deck.\n",
    "We reveal 2, and move 13 to the bottom.  The deck is now [3,11,5,17,7,13].\n",
    "We reveal 3, and move 11 to the bottom.  The deck is now [5,17,7,13,11].\n",
    "We reveal 5, and move 17 to the bottom.  The deck is now [7,13,11,17].\n",
    "We reveal 7, and move 13 to the bottom.  The deck is now [11,17,13].\n",
    "We reveal 11, and move 17 to the bottom.  The deck is now [13,17].\n",
    "We reveal 13, and move 17 to the bottom.  The deck is now [17].\n",
    "We reveal 17.\n",
    "Since all the cards revealed are in increasing order, the answer is correct.\n",
    "```\n",
    "**Example 2:**\n",
    "```\n",
    "Input: deck = [1,1000]\n",
    "Output: [1,1000]\n",
    "```\n",
    "\n",
    "--> **Constraints:**\n",
    "```\n",
    "1 <= deck.length <= 1000\n",
    "1 <= deck[i] <= 106\n",
    "All the values of deck are unique.\n",
    "```\n",
    "\n",
    "\n",
    "Link --> https://leetcode.com/problems/reveal-cards-in-increasing-order/"
   ]
  },
  {
   "cell_type": "markdown",
   "metadata": {},
   "source": [
    "```\n",
    "class Solution(object):\n",
    "    def deckRevealedIncreasing(self, deck):\n",
    "        # First, sort the deck in descending order\n",
    "        sorted_deck = sorted(deck, reverse=True)\n",
    "\n",
    "        # Use a deque to simulate the reordering process\n",
    "        deque_deck = deque([sorted_deck[0]])\n",
    "        for card in sorted_deck[1:]:\n",
    "            # Move the last card to the top of the deck\n",
    "            deque_deck.appendleft(deque_deck.pop())\n",
    "            # Add the next card from sorted deck to the bottom \n",
    "            deque_deck.appendleft(card)\n",
    "        # Convert the deque back to a list and return it  \n",
    "        return list(deque_deck)\n",
    "        \n",
    "```"
   ]
  }
 ],
 "metadata": {
  "language_info": {
   "name": "python"
  }
 },
 "nbformat": 4,
 "nbformat_minor": 2
}
