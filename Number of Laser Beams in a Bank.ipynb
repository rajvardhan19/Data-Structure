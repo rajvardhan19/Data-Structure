{
 "cells": [
  {
   "cell_type": "markdown",
   "metadata": {},
   "source": [
    "# Problem Name: Number of Laser Beams in a Bank\n",
    "\n",
    "Anti-theft security devices are activated inside a bank. You are given a 0-indexed binary string array bank representing the floor plan of the bank, which is an m x n 2D matrix. bank[i] represents the ith row, consisting of '0's and '1's. '0' means the cell is empty, while'1' means the cell has a security device.\n",
    "\n",
    "There is one laser beam between any two security devices if both conditions are met:\n",
    "\n",
    "- The two devices are located on two different rows: r1 and r2, where r1 < r2.\n",
    "- For each row i where r1 < i < r2, there are no security devices in the ith row.\n",
    "Laser beams are independent, i.e., one beam does not interfere nor join with another.\n",
    "\n",
    "Return the total number of laser beams in the bank.\n",
    "\n",
    "**Example 1:**\n",
    "```\n",
    "Input: bank = [\"011001\",\"000000\",\"010100\",\"001000\"]\n",
    "Output: 8\n",
    "Explanation: Between each of the following device pairs, there is one beam. In total, there are 8 beams:\n",
    " * bank[0][1] -- bank[2][1]\n",
    " * bank[0][1] -- bank[2][3]\n",
    " * bank[0][2] -- bank[2][1]\n",
    " * bank[0][2] -- bank[2][3]\n",
    " * bank[0][5] -- bank[2][1]\n",
    " * bank[0][5] -- bank[2][3]\n",
    " * bank[2][1] -- bank[3][2]\n",
    " * bank[2][3] -- bank[3][2]\n",
    "Note that there is no beam between any device on the 0th row with any on the 3rd row.\n",
    "This is because the 2nd row contains security devices, which breaks the second condition.\n",
    "```\n",
    "\n",
    "\n",
    "\n",
    "**Example 2:**\n",
    "```\n",
    "Input: bank = [\"000\",\"111\",\"000\"]\n",
    "Output: 0\n",
    "Explanation: There does not exist two devices located on two different rows.\n",
    "```\n",
    "\n",
    " \n",
    "**Constraints:**\n",
    "```\n",
    "m == bank.length\n",
    "n == bank[i].length\n",
    "1 <= m, n <= 500\n",
    "bank[i][j] is either '0' or '1'.\n",
    "```\n",
    "\n",
    "Link --> https://leetcode.com/problems/number-of-laser-beams-in-a-bank/"
   ]
  },
  {
   "cell_type": "code",
   "execution_count": null,
   "metadata": {},
   "outputs": [],
   "source": [
    "class Solution(object):\n",
    "    def numberOfBeams(self, bank):\n",
    "        prev_row_count = 0\n",
    "        total = 0\n",
    "\n",
    "        for row in bank:\n",
    "            cur_row_count = self.calc(row)\n",
    "            if cur_row_count == 0:\n",
    "                continue\n",
    "\n",
    "            total += cur_row_count * prev_row_count\n",
    "            prev_row_count = cur_row_count\n",
    "\n",
    "        return total\n",
    "\n",
    "    def calc(self, s):\n",
    "        return sum(int(c) for c in s)"
   ]
  },
  {
   "cell_type": "markdown",
   "metadata": {},
   "source": [
    "- The calc function simply counts the number of '1's in a string by converting each character to an integer and summing them.\n",
    "- The numberOfBeams function counts the number of valid laser beams based on the count of '1's in each row. It multiplies the count of '1's in the current row by the count of '1's in the previous row (if the count in the current row is not zero) to find the number of valid pairs of devices on different rows that can form laser beams."
   ]
  }
 ],
 "metadata": {
  "language_info": {
   "name": "python"
  }
 },
 "nbformat": 4,
 "nbformat_minor": 2
}
