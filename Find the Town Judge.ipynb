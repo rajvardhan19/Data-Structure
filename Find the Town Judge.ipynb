{
 "cells": [
  {
   "cell_type": "markdown",
   "metadata": {},
   "source": [
    "# Find the Town Judge\n",
    "\n",
    "In a town, there are n people labeled from 1 to n. There is a rumor that one of these people is secretly the town judge.\n",
    "\n",
    "If the town judge exists, then:\n",
    "\n",
    "1. The town judge trusts nobody.\n",
    "2. Everybody (except for the town judge) trusts the town judge.\n",
    "3. There is exactly one person that satisfies properties 1 and 2.\n",
    "\n",
    "You are given an array trust where trust[i] = [ai, bi] representing that the person labeled ai trusts the person labeled bi. If a trust relationship does not exist in trust array, then such a trust relationship does not exist.\n",
    " \n",
    "**Example 1:**\n",
    "```\n",
    "Input: n = 2, trust = [[1,2]]\n",
    "Output: 2\n",
    "```\n",
    "**Example 2:**\n",
    "```\n",
    "Input: n = 3, trust = [[1,3],[2,3]]\n",
    "Output: 3\n",
    "```\n",
    "**Example 3:**\n",
    "```\n",
    "Input: n = 3, trust = [[1,3],[2,3],[3,1]]\n",
    "Output: -1\n",
    "```\n",
    "\n",
    "\n",
    "--> **Constraints:**\n",
    "```\n",
    "1 <= n <= 1000\n",
    "0 <= trust.length <= 104\n",
    "trust[i].length == 2\n",
    "All the pairs of trust are unique.\n",
    "ai != bi\n",
    "1 <= ai, bi <= n\n",
    "```\n",
    "\n",
    "\n",
    "Link -->https://leetcode.com/problems/find-the-town-judge/"
   ]
  },
  {
   "cell_type": "markdown",
   "metadata": {},
   "source": [
    "```\n",
    "class Solution(object):\n",
    "    def findJudge(self, n, trust):\n",
    "        trust_count = [0] * (n + 1)\n",
    "        trusted_by_count = [0] * (n + 1)\n",
    "\n",
    "        for a, b in trust:\n",
    "            trust_count[a] += 1\n",
    "            trusted_by_count[b] += 1\n",
    "\n",
    "        for i in range(1, n + 1):\n",
    "            if trust_count[i] == 0 and trusted_by_count[i] == n - 1:\n",
    "                return i\n",
    "\n",
    "        return -1\n",
    "        \n",
    "```"
   ]
  }
 ],
 "metadata": {
  "language_info": {
   "name": "python"
  }
 },
 "nbformat": 4,
 "nbformat_minor": 2
}
