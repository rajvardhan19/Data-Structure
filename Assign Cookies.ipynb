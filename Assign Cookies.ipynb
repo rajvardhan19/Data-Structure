{
 "cells": [
  {
   "cell_type": "markdown",
   "metadata": {},
   "source": [
    "# Problem Name: Assign Cookies\n",
    "\n",
    "Assume you are an awesome parent and want to give your children some cookies. But, you should give each child at most one cookie.\n",
    "\n",
    "Each child i has a greed factor g[i], which is the minimum size of a cookie that the child will be content with; and each cookie j has a size s[j]. If s[j] >= g[i], we can assign the cookie j to the child i, and the child i will be content. Your goal is to maximize the number of your content children and output the maximum number.\n",
    "\n",
    "**Example 1:**\n",
    "```\n",
    "Input: g = [1,2,3], s = [1,1]\n",
    "Output: 1\n",
    "Explanation: You have 3 children and 2 cookies. The greed factors of 3 children are 1, 2, 3. \n",
    "And even though you have 2 cookies, since their size is both 1, you could only make the child whose greed factor is 1 content.\n",
    "You need to output 1.\n",
    "```\n",
    "\n",
    "\n",
    "\n",
    "**Example 2:**\n",
    "```\n",
    "Input: g = [1,2], s = [1,2,3]\n",
    "Output: 2\n",
    "Explanation: You have 2 children and 3 cookies. The greed factors of 2 children are 1, 2. \n",
    "You have 3 cookies and their sizes are big enough to gratify all of the children, \n",
    "You need to output 2.\n",
    "```\n",
    "\n",
    " \n",
    "--> **Constraints:**\n",
    "```\n",
    "Input: g = [1,2], s = [1,2,3]\n",
    "Output: 2\n",
    "Explanation: You have 2 children and 3 cookies. The greed factors of 2 children are 1, 2. \n",
    "You have 3 cookies and their sizes are big enough to gratify all of the children, \n",
    "You need to output 2.\n",
    "```\n",
    "\n",
    "Link --> https://leetcode.com/problems/assign-cookies/"
   ]
  },
  {
   "cell_type": "code",
   "execution_count": null,
   "metadata": {},
   "outputs": [],
   "source": [
    "class Solution(object):\n",
    "    def findContentChildren(self, g, s):\n",
    "        g.sort()  # Sort the children's greed factors\n",
    "        s.sort()  # Sort the cookie sizes\n",
    "        content_children = 0\n",
    "        \n",
    "        # Iterate through the cookies and greed factors\n",
    "        i, j = 0, 0\n",
    "        while i < len(g) and j < len(s):\n",
    "            # If the cookie size can satisfy the child's greed, assign the cookie\n",
    "            if s[j] >= g[i]:\n",
    "                content_children += 1\n",
    "                i += 1  # Move to the next child\n",
    "            j += 1  # Move to the next cookie\n",
    "            \n",
    "        return content_children"
   ]
  },
  {
   "cell_type": "markdown",
   "metadata": {},
   "source": [
    "1. Sorting the Inputs:\n",
    "\n",
    "- The g list represents the greed factors of children, and s represents the sizes of cookies.\n",
    "- Sorting both g and s allows us to easily match the smallest greed factor with the smallest available cookie size, maximizing the number of content children.\n",
    "\n",
    "2. Initialization:\n",
    "\n",
    "- content_children is set to 0 to keep track of the number of content children (children who can be satisfied with available cookies).\n",
    "- i and j are initialized to 0 to represent the indices of g and s respectively.\n",
    "\n",
    "3. Iteration:\n",
    "\n",
    "- A while loop runs as long as there are elements in both g and s and there are remaining cookies and children to consider.\n",
    "- Inside the loop:\n",
    "    - It checks if the current cookie size (s[j]) is sufficient to satisfy the greed of the current child (g[i]).\n",
    "    - If s[j] is greater than or equal to g[i], it means the cookie can satisfy the child's greed:\n",
    "    - Increment content_children by 1.\n",
    "    - Move to the next child by incrementing i.\n",
    "    - Move to the next available cookie by incrementing j, regardless of whether the current cookie could satisfy a child's greed or not.\n",
    "\n",
    "4. Return:\n",
    "\n",
    "- After the loop ends or if either g or s is fully processed, the function returns content_children, which holds the maximum number of content children possible."
   ]
  }
 ],
 "metadata": {
  "language_info": {
   "name": "python"
  }
 },
 "nbformat": 4,
 "nbformat_minor": 2
}
