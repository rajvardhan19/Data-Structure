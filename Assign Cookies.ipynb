{
 "cells": [
  {
   "cell_type": "markdown",
   "metadata": {},
   "source": [
    "# Problem Name: Assign Cookies\n",
    "\n",
    "Assume you are an awesome parent and want to give your children some cookies. But, you should give each child at most one cookie.\n",
    "\n",
    "Each child i has a greed factor g[i], which is the minimum size of a cookie that the child will be content with; and each cookie j has a size s[j]. If s[j] >= g[i], we can assign the cookie j to the child i, and the child i will be content. Your goal is to maximize the number of your content children and output the maximum number.\n",
    "\n",
    "**Example 1:**\n",
    "```\n",
    "Input: g = [1,2,3], s = [1,1]\n",
    "Output: 1\n",
    "Explanation: You have 3 children and 2 cookies. The greed factors of 3 children are 1, 2, 3. \n",
    "And even though you have 2 cookies, since their size is both 1, you could only make the child whose greed factor is 1 content.\n",
    "You need to output 1.\n",
    "```\n",
    "\n",
    "\n",
    "\n",
    "**Example 2:**\n",
    "```\n",
    "Input: g = [1,2], s = [1,2,3]\n",
    "Output: 2\n",
    "Explanation: You have 2 children and 3 cookies. The greed factors of 2 children are 1, 2. \n",
    "You have 3 cookies and their sizes are big enough to gratify all of the children, \n",
    "You need to output 2.\n",
    "```\n",
    "\n",
    " \n",
    "**Example 3:**\n",
    "```\n",
    "Input: g = [1,2], s = [1,2,3]\n",
    "Output: 2\n",
    "Explanation: You have 2 children and 3 cookies. The greed factors of 2 children are 1, 2. \n",
    "You have 3 cookies and their sizes are big enough to gratify all of the children, \n",
    "You need to output 2.\n",
    "```\n",
    "\n",
    "Link --> https://leetcode.com/problems/convert-an-array-into-a-2d-array-with-conditions/"
   ]
  },
  {
   "cell_type": "code",
   "execution_count": null,
   "metadata": {},
   "outputs": [],
   "source": [
    "class Solution(object):\n",
    "    def findMatrix(self, nums):\n",
    "        num_count = {}\n",
    "        for num in nums:\n",
    "            if num in num_count:\n",
    "                num_count[num] += 1\n",
    "            else:\n",
    "                num_count[num] = 1\n",
    "\n",
    "        max_freq = max(num_count.values())\n",
    "        result = [[] for _ in range(max_freq)]\n",
    "\n",
    "        for num, freq in num_count.items():\n",
    "            for i in range(freq):\n",
    "                result[i].append(num)\n",
    "        \n",
    "        return result"
   ]
  },
  {
   "cell_type": "markdown",
   "metadata": {},
   "source": [
    "- Count Frequency: The method initializes an empty dictionary num_count to count the frequency of each number in the nums array. It iterates through nums, counting the occurrences of each number using the dictionary.\n",
    "\n",
    "- Find Maximum Frequency: It finds the maximum frequency of a number occurring in the input array nums.\n",
    "\n",
    "- Create Empty 2D Array: Based on the maximum frequency found, it creates a 2D array result containing empty lists, where the number of lists (rows) is equal to the maximum frequency.\n",
    "\n",
    "- Populate 2D Array: Using the num_count dictionary, it iterates through its items (number and its frequency). For each number, it appends the number itself to the corresponding row in the result 2D array based on its frequency.\n",
    "\n",
    "- Return Result: Finally, it returns the resulting 2D array where each row contains distinct integers from the input array nums, meeting the specified conditions."
   ]
  }
 ],
 "metadata": {
  "language_info": {
   "name": "python"
  }
 },
 "nbformat": 4,
 "nbformat_minor": 2
}
