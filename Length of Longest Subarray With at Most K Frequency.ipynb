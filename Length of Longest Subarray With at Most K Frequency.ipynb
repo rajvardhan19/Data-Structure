{
 "cells": [
  {
   "cell_type": "markdown",
   "metadata": {},
   "source": [
    "# Length of Longest Subarray With at Most K Frequency\n",
    "\n",
    "You are given an integer array nums and an integer k.\n",
    "\n",
    "The frequency of an element x is the number of times it occurs in an array.\n",
    "\n",
    "An array is called good if the frequency of each element in this array is less than or equal to k.\n",
    "\n",
    "Return the length of the longest good subarray of nums.\n",
    "\n",
    "A subarray is a contiguous non-empty sequence of elements within an array.\n",
    "    \n",
    " \n",
    "**Example 1:**\n",
    "```\n",
    "Input: nums = [1,2,3,1,2,3,1,2], k = 2\n",
    "Output: 6\n",
    "Explanation: The longest possible good subarray is [1,2,3,1,2,3] since the values 1, 2, and 3 occur at most twice in this subarray. Note that the subarrays [2,3,1,2,3,1] and [3,1,2,3,1,2] are also good.\n",
    "It can be shown that there are no good subarrays with length more than 6.\n",
    "```\n",
    "**Example 2:**\n",
    "```\n",
    "Input: nums = [1,2,1,2,1,2,1,2], k = 1\n",
    "Output: 2\n",
    "Explanation: The longest possible good subarray is [1,2] since the values 1 and 2 occur at most once in this subarray. Note that the subarray [2,1] is also good.\n",
    "It can be shown that there are no good subarrays with length more than 2.\n",
    "```\n",
    "**Example 3:**\n",
    "```\n",
    "Input: nums = [5,5,5,5,5,5,5], k = 4\n",
    "Output: 4\n",
    "Explanation: The longest possible good subarray is [5,5,5,5] since the value 5 occurs 4 times in this subarray.\n",
    "It can be shown that there are no good subarrays with length more than 4.\n",
    "```\n",
    "\n",
    "--> **Constraints:**\n",
    "```\n",
    "1 <= nums.length <= 105\n",
    "1 <= nums[i] <= 109\n",
    "1 <= k <= nums.length\n",
    "```\n",
    "\n",
    "\n",
    "Link --> https://leetcode.com/problems/length-of-longest-subarray-with-at-most-k-frequency/"
   ]
  },
  {
   "cell_type": "markdown",
   "metadata": {},
   "source": [
    "```\n",
    "class Solution {\n",
    "    public int maxSubarrayLength(int[] nums, int k) {\n",
    "        int ans = 0;\n",
    "        HashMap<Integer, Integer> mp = new HashMap<>();\n",
    "        int l = 0;\n",
    "\n",
    "        for (int r = 0; r < nums.length; r++) {\n",
    "            mp.put(nums[r], mp.getOrDefault(nums[r], 0) + 1);\n",
    "            while (mp.get(nums[r]) > k) {\n",
    "                mp.put(nums[l], mp.get(nums[l]) - 1);\n",
    "                l++;\n",
    "            }\n",
    "            ans = Math.max(ans, r - l + 1);\n",
    "        }\n",
    "\n",
    "        return ans;\n",
    "    }\n",
    "}\n",
    "```"
   ]
  }
 ],
 "metadata": {
  "language_info": {
   "name": "python"
  }
 },
 "nbformat": 4,
 "nbformat_minor": 2
}
