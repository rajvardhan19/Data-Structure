{
 "cells": [
  {
   "cell_type": "markdown",
   "metadata": {},
   "source": [
    "# Problem Name: Valid Anagram\n",
    "Given two strings 's' and 't', return true if 't' is an anagram of 's', and false otherwise.\n",
    "\n",
    "An **Anagram** is a word or phrase formed by rearranging the letters of a different word or phrase, typically using all the original letters exactly once.\n",
    "\n",
    "**Example 1:**\n",
    "```\n",
    "Input: s = \"anagram\", t = \"nagaram\"\n",
    "Output: true\n",
    "```\n",
    "\n",
    "\n",
    "\n",
    "**Example 2:**\n",
    "```\n",
    "Input: s = \"rat\", t = \"car\"\n",
    "Output: false\n",
    "```\n",
    "\n",
    " \n",
    "--> **Constraints:**\n",
    "```\n",
    "1 <= s.length, t.length <= 5 * 104\n",
    "s and t consist of lowercase English letters.\n",
    "```\n",
    "\n",
    "Link --> https://leetcode.com/problems/valid-anagram/"
   ]
  },
  {
   "cell_type": "code",
   "execution_count": null,
   "metadata": {},
   "outputs": [],
   "source": [
    "class Solution(object):\n",
    "    def isAnagram(self, s, t):\n",
    "        if len(s) != len(t):\n",
    "            return False\n",
    "\n",
    "        # Create dictionaries to store character counts\n",
    "        s_count = {}\n",
    "        t_count = {}\n",
    "\n",
    "        # Count characters in string s\n",
    "        for char in s:\n",
    "            s_count[char] = s_count.get(char, 0) + 1\n",
    "\n",
    "        # Count characters in string t\n",
    "        for char in t:\n",
    "            t_count[char] = t_count.get(char, 0) + 1\n",
    "\n",
    "        # Compare character counts\n",
    "        return s_count == t_count\n",
    "        "
   ]
  },
  {
   "cell_type": "markdown",
   "metadata": {},
   "source": [
    "**Step 1 --> Length Check:**\n",
    "\n",
    "The method first checks if the lengths of both strings s and t are equal. If the lengths are different, it immediately returns False.\n",
    "**Reason**: Anagrams must have the same number of characters, so if the lengths are different, they cannot be anagrams.\n",
    "\n",
    "**Step 2 --> Counting Characters:**\n",
    "\n",
    "Two dictionaries, s_count and t_count, are created to store the counts of characters in strings s and t, respectively.\n",
    "Each character in string s is iterated over, and its count is updated in the s_count dictionary. Similarly, the characters in string t are counted and stored in the t_count dictionary.\n",
    "**Reason**: An anagram contains the same characters occurring the same number of times, so counting the occurrences of each character is crucial.\n",
    "\n",
    "**Step 3 --> Comparison of Counts:**\n",
    "\n",
    "After counting the characters in both strings, the method compares the dictionaries s_count and t_count.\n",
    "If the dictionaries are equal (i.e., they have the same key-value pairs), it implies that both strings have the same characters occurring the same number of times.\n",
    "**Reason**: For two strings to be anagrams, they must contain the same characters with the same frequencies.\n",
    "\n",
    "**Step 4 --> Return Result:**\n",
    "\n",
    "The method returns the result of the comparison. If the dictionaries are equal, it returns True, indicating that t is an anagram of s. Otherwise, it returns False."
   ]
  }
 ],
 "metadata": {
  "language_info": {
   "name": "python"
  }
 },
 "nbformat": 4,
 "nbformat_minor": 2
}
