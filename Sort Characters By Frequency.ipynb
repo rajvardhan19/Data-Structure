{
 "cells": [
  {
   "cell_type": "markdown",
   "metadata": {},
   "source": [
    "# Sort Characters By Frequency\n",
    "Given a string s, sort it in decreasing order based on the frequency of the characters. The frequency of a character is the number of times it appears in the string.\n",
    "\n",
    "Return the sorted string. If there are multiple answers, return any of them.\n",
    " \n",
    "**Example 1:**\n",
    "```\n",
    "Input: s = \"tree\"\n",
    "Output: \"eert\"\n",
    "Explanation: 'e' appears twice while 'r' and 't' both appear once.\n",
    "So 'e' must appear before both 'r' and 't'. Therefore \"eetr\" is also a valid answer.\n",
    "```\n",
    "**Example 2:**\n",
    "```\n",
    "Input: s = \"cccaaa\"\n",
    "Output: \"aaaccc\"\n",
    "Explanation: Both 'c' and 'a' appear three times, so both \"cccaaa\" and \"aaaccc\" are valid answers.\n",
    "Note that \"cacaca\" is incorrect, as the same characters must be together.\n",
    "```\n",
    "\n",
    "**Example 3:**\n",
    "```\n",
    "Input: s = \"Aabb\"\n",
    "Output: \"bbAa\"\n",
    "Explanation: \"bbaA\" is also a valid answer, but \"Aabb\" is incorrect.\n",
    "Note that 'A' and 'a' are treated as two different characters.\n",
    "```\n",
    "\n",
    "--> **Constraints:**\n",
    "```\n",
    "1 <= s.length <= 5 * 105\n",
    "s consists of uppercase and lowercase English letters and digits.\n",
    "```\n",
    "\n",
    "\n",
    "Link --> https://leetcode.com/problems/sort-characters-by-frequency/"
   ]
  },
  {
   "cell_type": "code",
   "execution_count": null,
   "metadata": {},
   "outputs": [],
   "source": [
    "class Solution(object):\n",
    "    def frequencySort(self, s):\n",
    "        # Count the frequency of each character\n",
    "        counts = Counter(s)\n",
    "        \n",
    "        # Sort the characters based on their frequencies in decreasing order\n",
    "        sorted_chars = sorted(counts, key=lambda x: (-counts[x], x))\n",
    "        \n",
    "        # Build the sorted string\n",
    "        sorted_string = ''.join(char * counts[char] for char in sorted_chars)\n",
    "        \n",
    "        return sorted_string\n",
    "        "
   ]
  }
 ],
 "metadata": {
  "language_info": {
   "name": "python"
  }
 },
 "nbformat": 4,
 "nbformat_minor": 2
}
