{
 "cells": [
  {
   "cell_type": "markdown",
   "metadata": {},
   "source": [
    "# Binary Subarrays With Sum\n",
    "\n",
    "Given a binary array nums and an integer goal, return the number of non-empty subarrays with a sum goal.\n",
    "\n",
    "A subarray is a contiguous part of the array.\n",
    "\n",
    " \n",
    "\n",
    "**Example 1:**\n",
    "```\n",
    "Input: nums = [1,0,1,0,1], goal = 2\n",
    "Output: 4\n",
    "Explanation: The 4 subarrays are bolded and underlined below:\n",
    "[1,0,1,0,1]\n",
    "[1,0,1,0,1]\n",
    "[1,0,1,0,1]\n",
    "[1,0,1,0,1]\n",
    "```\n",
    "**Example 2:**\n",
    "```\n",
    "Input: nums = [0,0,0,0,0], goal = 0\n",
    "Output: 15\n",
    "```\n",
    "\n",
    "--> **Constraints:**\n",
    "```\n",
    "1 <= nums.length <= 3 * 104\n",
    "nums[i] is either 0 or 1.\n",
    "0 <= goal <= nums.length\n",
    "```\n",
    "\n",
    "\n",
    "Link --> https://leetcode.com/problems/binary-subarrays-with-sum/"
   ]
  },
  {
   "cell_type": "markdown",
   "metadata": {},
   "source": [
    "```\n",
    "class Solution(object):\n",
    "    def numSubarraysWithSum(self, nums, goal):\n",
    "        count = {0: 1}\n",
    "        curr_sum = 0\n",
    "        total_subarrays = 0\n",
    "        \n",
    "        for num in nums:\n",
    "            curr_sum += num\n",
    "            if curr_sum - goal in count:\n",
    "                total_subarrays += count[curr_sum - goal]\n",
    "            count[curr_sum] = count.get(curr_sum, 0) + 1\n",
    "\n",
    "        return total_subarrays\n",
    "```"
   ]
  }
 ],
 "metadata": {
  "language_info": {
   "name": "python"
  }
 },
 "nbformat": 4,
 "nbformat_minor": 2
}
