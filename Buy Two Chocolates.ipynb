{
 "cells": [
  {
   "cell_type": "markdown",
   "metadata": {},
   "source": [
    "# Problem Name: Buy Two Chocolates\n",
    "You are given an integer array prices representing the ```prices``` of various chocolates in a store. You are also given a single integer ```money```, which represents your initial amount of money.\n",
    "\n",
    "You must buy **exactly** two chocolates in such a way that you still have some **non-negative** leftover money. You would like to minimize the sum of the prices of the two chocolates you buy.\n",
    "\n",
    "Return the amount of money you will have leftover after buying the two chocolates. If there is no way for you to buy two chocolates without ending up in debt, return ```money```. Note that the leftover must be non-negative.\n",
    "\n",
    "**Example 1:**\n",
    "```\n",
    "Input: prices = [1,2,2], money = 3\n",
    "Output: 0\n",
    "Explanation: Purchase the chocolates priced at 1 and 2 units respectively. You will have 3 - 3 = 0 units of money afterwards. Thus, we return 0.\n",
    "```\n",
    "**Example 2:**\n",
    "```\n",
    "Input: prices = [3,2,3], money = 3\n",
    "Output: 3\n",
    "Explanation: You cannot buy 2 chocolates without going in debt, so we return 3.\n",
    "```\n",
    "\n",
    "--> **Constraints:**\n",
    "\n",
    "- ```2 <= prices.length <= 50```\n",
    "- ```1 <= prices[i] <= 100```\n",
    "- ```1 <= money <= 100```\n",
    "\n",
    "\n",
    "Link --> https://leetcode.com/problems/buy-two-chocolates/"
   ]
  },
  {
   "cell_type": "code",
   "execution_count": null,
   "metadata": {},
   "outputs": [],
   "source": [
    "class Solution(object):\n",
    "    def buyChoco(self, arr, key):\n",
    "        ans = float('inf')\n",
    "        for i in range(len(arr)):\n",
    "            for j in range(len(arr)):\n",
    "                if i != j:\n",
    "                    total = arr[i] + arr[j]\n",
    "                    ans = min(ans, total)\n",
    "\n",
    "        fin = key - ans\n",
    "        if(fin>=0):\n",
    "            return fin\n",
    "        else:\n",
    "            return key"
   ]
  },
  {
   "cell_type": "markdown",
   "metadata": {},
   "source": [
    "Step 1 --> Initialization:\n",
    "- ```ans = float('inf')```: Initializes ```ans``` as positive infinity. This variable will store the minimum sum of pairs of elements from the list.\n",
    "\n",
    "Step 2 --> Iterating through Pairs:\n",
    "- Nested loops ```(for i in range(len(arr))``` and ```for j in range(len(arr)))``` iterate through all possible pairs of indices in the arr list.\n",
    "- For each pair ```(i, j)```, excluding pairs where ```i == j```, it calculates the sum of the elements at indices ```i``` and ```j (total = arr[i] + arr[j])```.\n",
    "- The minimum of these sums (```total```) is continuously updated and stored in the variable ```ans``` using ```ans = min(ans, total)```.\n",
    "\n",
    "\n",
    "Step 3 --> Calculating Remaining Amount:\n",
    "- ```fin = key - ans```: Computes the difference between the ```key``` value (budget or target amount) and the minimum sum (```ans```) obtained from pairs of elements in the list.\n",
    "\n",
    "Step 4 --> Checking and Returning:\n",
    "- ```if(fin >= 0): return fin; else: return key```:\n",
    "    - If the calculated difference ```fin``` is non-negative, it implies that the budget (```key```) was sufficient to cover the cost of the chocolates after finding the minimum cost. It returns the remaining amount (```fin```).\n",
    "    - If ```fin``` is negative, it means that the budget was insufficient to cover even the minimum cost computed from the list. In this case, it returns the original ```key``` value, indicating the inability to purchase any chocolates within the given budget.\n"
   ]
  }
 ],
 "metadata": {
  "language_info": {
   "name": "python"
  }
 },
 "nbformat": 4,
 "nbformat_minor": 2
}
