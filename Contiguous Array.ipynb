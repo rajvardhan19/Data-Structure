{
 "cells": [
  {
   "cell_type": "markdown",
   "metadata": {},
   "source": [
    "# Contiguous Array\n",
    "\n",
    "Given a binary array nums, return the maximum length of a contiguous subarray with an equal number of 0 and 1.\n",
    "\n",
    " \n",
    "\n",
    "**Example 1:**\n",
    "```\n",
    "Input: nums = [0,1]\n",
    "Output: 2\n",
    "Explanation: [0, 1] is the longest contiguous subarray with an equal number of 0 and 1.\n",
    "```\n",
    "**Example 2:**\n",
    "```\n",
    "Input: nums = [0,1,0]\n",
    "Output: 2\n",
    "Explanation: [0, 1] (or [1, 0]) is a longest contiguous subarray with equal number of 0 and 1.\n",
    "```\n",
    "\n",
    "--> **Constraints:**\n",
    "```\n",
    "1 <= nums.length <= 105\n",
    "nums[i] is either 0 or 1.\n",
    "```\n",
    "\n",
    "\n",
    "Link --> https://leetcode.com/problems/contiguous-array/"
   ]
  },
  {
   "cell_type": "markdown",
   "metadata": {},
   "source": [
    "```\n",
    "class Solution(object):\n",
    "    def findMaxLength(self, nums):\n",
    "        # Create a dictionary to hold count frequencies.\n",
    "        count_dict = {0: -1}\n",
    "\n",
    "        # Initialize variables\n",
    "        max_length = 0\n",
    "        count = 0\n",
    "\n",
    "        # Loop through the array\n",
    "        for i in range(len(nums)):\n",
    "\n",
    "            # Increment count if current number is one\n",
    "            count = count + 1 if nums[i]==1 else count - 1\n",
    "\n",
    "            # If the count is in the dictionary then compare max_length with current index - dict[count]\n",
    "            if count in count_dict:\n",
    "                max_length = max(max_length, i - count_dict[count])\n",
    "\n",
    "            # If the count is not in the dictionary, put it in with i as the value.\n",
    "            else:\n",
    "                count_dict[count] = i \n",
    "\n",
    "        # Return maximum length\n",
    "        return max_length\n",
    "        \n",
    "```"
   ]
  }
 ],
 "metadata": {
  "language_info": {
   "name": "python"
  }
 },
 "nbformat": 4,
 "nbformat_minor": 2
}
