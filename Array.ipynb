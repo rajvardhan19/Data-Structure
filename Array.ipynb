{
 "cells": [
  {
   "cell_type": "markdown",
   "metadata": {},
   "source": [
    "# Problem Name:  Convert an Array Into a 2D Array With Conditions\n",
    "\n",
    "You are given an integer array nums. You need to create a 2D array from nums satisfying the following conditions:\n",
    "\n",
    "- The 2D array should contain only the elements of the array nums.\n",
    "- Each row in the 2D array contains distinct integers.\n",
    "- The number of rows in the 2D array should be minimal.\n",
    "\n",
    "Return the resulting array. If there are multiple answers, return any of them.\n",
    "\n",
    "Note that the 2D array can have a different number of elements on each row.\n",
    "\n",
    "**Example 1:**\n",
    "```\n",
    "Input: nums = [1,3,4,1,2,3,1]\n",
    "Output: [[1,3,4,2],[1,3],[1]]\n",
    "Explanation: We can create a 2D array that contains the following rows:\n",
    "- 1,3,4,2\n",
    "- 1,3\n",
    "- 1\n",
    "All elements of nums were used, and each row of the 2D array contains distinct integers, so it is a valid answer.\n",
    "It can be shown that we cannot have less than 3 rows in a valid array.\n",
    "```\n",
    "\n",
    "\n",
    "\n",
    "**Example 2:**\n",
    "```\n",
    "Input: nums = [1,2,3,4]\n",
    "Output: [[4,3,2,1]]\n",
    "Explanation: All elements of the array are distinct, so we can keep all of them in the first row of the 2D array.\n",
    "```\n",
    "\n",
    " \n",
    "--> **Constraints:**\n",
    "```\n",
    "1 <= nums.length <= 200\n",
    "1 <= nums[i] <= nums.length\n",
    "```\n",
    "\n",
    "Link --> https://leetcode.com/problems/assign-cookies/"
   ]
  },
  {
   "cell_type": "code",
   "execution_count": null,
   "metadata": {},
   "outputs": [],
   "source": []
  },
  {
   "cell_type": "markdown",
   "metadata": {},
   "source": []
  }
 ],
 "metadata": {
  "language_info": {
   "name": "python"
  }
 },
 "nbformat": 4,
 "nbformat_minor": 2
}
