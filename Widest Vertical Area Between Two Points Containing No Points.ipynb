{
 "cells": [
  {
   "cell_type": "markdown",
   "metadata": {},
   "source": [
    "# Problem Name: Buy Two Chocolates\n",
    "Given ```n``` ```points``` on a 2D plane where ```points[i] = [xi, yi]```, Return the **widest vertical area** between two points such that no points are inside the area.\n",
    "\n",
    "A **vertical area** is an area of fixed-width extending infinitely along the y-axis (i.e., infinite height). The **widest vertical area** is the one with the maximum width.\n",
    "\n",
    "Note that points **on the edge** of a vertical area **are not** considered included in the area.\n",
    "\n",
    "**Example 1:**\n",
    "```\n",
    "Input: points = [[8,7],[9,9],[7,4],[9,7]]\n",
    "Output: 1\n",
    "Explanation: Both the red and the blue area are optimal.\n",
    "```\n",
    "**Example 2:**\n",
    "```\n",
    "Input: points = [[3,1],[9,0],[1,0],[1,4],[5,3],[8,8]]\n",
    "Output: 3\n",
    "```\n",
    "\n",
    "--> **Constraints:**\n",
    "\n",
    "- ```n == points.length```\n",
    "- ```2 <= n <= 105```\n",
    "- ```points[i].length == 2```\n",
    "- ```0 <= xi, yi <= 109```\n",
    "\n",
    "\n",
    "Link --> https://leetcode.com/problems/widest-vertical-area-between-two-points-containing-no-points/"
   ]
  },
  {
   "cell_type": "code",
   "execution_count": null,
   "metadata": {},
   "outputs": [],
   "source": [
    "class Solution(object):\n",
    "    def maxWidthOfVerticalArea(self, points):\n",
    "        points.sort(key=lambda x: x[0])\n",
    "    \n",
    "        max_width = 0\n",
    "        for i in range(1, len(points)):\n",
    "            max_width = max(max_width, points[i][0] - points[i - 1][0])\n",
    "        \n",
    "        return max_width"
   ]
  },
  {
   "cell_type": "markdown",
   "metadata": {},
   "source": [
    "Step 1 --> Sorting the points:\n",
    "- This line sorts the ```points``` list based on the x-coordinate of each point. The ```key=lambda x: x[0]``` is a lambda function that specifies that the sorting should be done based on the first element (x-coordinate) of each point.\n",
    "\n",
    "Step 2 --> Initializing maximum width variable:\n",
    "- This initializes a variable ```max_width``` to keep track of the widest vertical area found.\n",
    "\n",
    "\n",
    "Step 3 --> Iterating through the sorted points:\n",
    "- This loop starts from the second point (index 1) and iterates through the sorted ```points``` list. For each iteration, it calculates the difference between the current x-coordinate (```points[i][0]```) and the previous x-coordinate (```points[i - 1][0]```). It updates the max_width variable to the maximum value between the current max_width and the calculated difference.\n",
    "\n",
    "Step 4 --> Returning the maximum width:\n",
    "- Finally, the function returns the ```max_width```, which represents the widest vertical area between two points without any other points lying within it."
   ]
  }
 ],
 "metadata": {
  "language_info": {
   "name": "python"
  }
 },
 "nbformat": 4,
 "nbformat_minor": 2
}
