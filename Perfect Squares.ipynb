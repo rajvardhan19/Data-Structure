{
 "cells": [
  {
   "cell_type": "markdown",
   "metadata": {},
   "source": [
    "# Perfect Squares\n",
    "Given an integer n, return the least number of perfect square numbers that sum to n.\n",
    "\n",
    "A perfect square is an integer that is the square of an integer; in other words, it is the product of some integer with itself. For example, 1, 4, 9, and 16 are perfect squares while 3 and 11 are not.\n",
    " \n",
    "**Example 1:**\n",
    "```\n",
    "Input: n = 12\n",
    "Output: 3\n",
    "Explanation: 12 = 4 + 4 + 4.\n",
    "```\n",
    "**Example 2:**\n",
    "```\n",
    "Input: n = 13\n",
    "Output: 2\n",
    "Explanation: 13 = 4 + 9.\n",
    "```\n",
    "\n",
    "\n",
    "\n",
    "--> **Constraints:**\n",
    "```\n",
    "1 <= n <= 104\n",
    "```\n",
    "\n",
    "\n",
    "Link --> https://leetcode.com/problems/perfect-squares/"
   ]
  },
  {
   "cell_type": "code",
   "execution_count": null,
   "metadata": {},
   "outputs": [],
   "source": [
    "class Solution(object):\n",
    "    def numSquares(self, n):\n",
    "        dp = [float('inf')] * (n + 1)  # Initialize dp array with infinity\n",
    "        dp[0] = 0  # 0 doesn't require any square numbers to sum to 0\n",
    "        \n",
    "        # Iterate for each number from 1 to n\n",
    "        for i in range(1, n + 1):\n",
    "            j = 1  # for each perfect square less than or equal to i\n",
    "            while j * j <= i:\n",
    "                dp[i] = min(dp[i], dp[i - j*j] + 1)  # Update dp value\n",
    "                j += 1  # Increment j\n",
    "        return dp[n]  # Return the least number of perfect squares that sum to n\n",
    "        "
   ]
  }
 ],
 "metadata": {
  "language_info": {
   "name": "python"
  }
 },
 "nbformat": 4,
 "nbformat_minor": 2
}
