{
 "cells": [
  {
   "cell_type": "markdown",
   "metadata": {},
   "source": [
    "# Meeting Rooms III\n",
    "\n",
    "Given an integer n, return true if it is a power of two. Otherwise, return false.\n",
    "\n",
    "An integer n is a power of two, if there exists an integer x such that n == 2x.\n",
    "\n",
    " \n",
    "**Example 1:**\n",
    "```\n",
    "Input: n = 1\n",
    "Output: true\n",
    "Explanation: 20 = 1\n",
    "```\n",
    "**Example 2:**\n",
    "```\n",
    "Input: n = 16\n",
    "Output: true\n",
    "Explanation: 24 = 16\n",
    "```\n",
    "**Example 3:**\n",
    "```\n",
    "Input: n = 3\n",
    "Output: false\n",
    "```\n",
    "\n",
    "\n",
    "--> **Constraints:**\n",
    "```\n",
    "-231 <= n <= 231 - 1\n",
    "```\n",
    "\n",
    "\n",
    "Link --> https://leetcode.com/problems/power-of-two/"
   ]
  },
  {
   "cell_type": "markdown",
   "metadata": {},
   "source": [
    "```\n",
    "class Solution(object):\n",
    "    def isPowerOfTwo(self, n):\n",
    "        if n <= 0:  # If the number is less or equal to 0 it can't be a power of two\n",
    "            return False\n",
    "        else:\n",
    "            return (n & (n - 1)) == 0\n",
    "        # Bitwise AND of n and n-1\n",
    "        # If n is a power of two:\n",
    "        # Its binary representation has only one \"1\" and does not have \"0\" on the right of \"1\".\n",
    "        # Then n-1 adds \"1\" to the right of this \"1\", changing this \"1\" to \"0\" and making the binary representation of n-1 \"1\" only on the right side of the \"1\" of binary n. \n",
    "        # So (n & (n - 1)) == 0 for power of two numbers.\n",
    "        \n",
    "```"
   ]
  }
 ],
 "metadata": {
  "language_info": {
   "name": "python"
  }
 },
 "nbformat": 4,
 "nbformat_minor": 2
}
