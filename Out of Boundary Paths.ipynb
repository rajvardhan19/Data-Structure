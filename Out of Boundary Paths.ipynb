{
 "cells": [
  {
   "cell_type": "markdown",
   "metadata": {},
   "source": [
    "# Problem Name: Out of Boundary Paths\n",
    "\n",
    "There is an m x n grid with a ball. The ball is initially at the position [startRow, startColumn]. You are allowed to move the ball to one of the four adjacent cells in the grid (possibly out of the grid crossing the grid boundary). You can apply at most maxMove moves to the ball.\n",
    "\n",
    "Given the five integers m, n, maxMove, startRow, startColumn, return the number of paths to move the ball out of the grid boundary. Since the answer can be very large, return it modulo 10^9 + 7.\n",
    "\n",
    " \n",
    "\n",
    "**Example 1:**\n",
    "```\n",
    "Input: m = 2, n = 2, maxMove = 2, startRow = 0, startColumn = 0\n",
    "Output: 6\n",
    "```\n",
    "\n",
    "\n",
    "\n",
    "**Example 2:**\n",
    "```\n",
    "Input: m = 1, n = 3, maxMove = 3, startRow = 0, startColumn = 1\n",
    "Output: 12\n",
    "```\n",
    "\n",
    "Constraints:\n",
    "```\n",
    "1 <= m, n <= 50\n",
    "0 <= maxMove <= 50\n",
    "0 <= startRow < m\n",
    "0 <= startColumn < n\n",
    "```\n",
    "\n",
    "Link --> https://leetcode.com/problems/out-of-boundary-paths/"
   ]
  },
  {
   "cell_type": "code",
   "execution_count": null,
   "metadata": {},
   "outputs": [],
   "source": [
    "class Solution:\n",
    "    def findPaths(self, m, n, maxMove, startRow, startColumn):\n",
    "        self.memo = [[[None for _ in range(maxMove + 1)] for _ in range(n + 1)] for _ in range(m + 1)]\n",
    "        for i in range(m + 1):\n",
    "            for j in range(n + 1):\n",
    "                for k in range(maxMove + 1):\n",
    "                    self.memo[i][j][k] = -1\n",
    "        return int(self.helper(m, n, maxMove, startRow, startColumn))\n",
    "\n",
    "    def helper(self, m, n, maxMove, row, col):\n",
    "        if maxMove < 0:\n",
    "            return 0\n",
    "\n",
    "        # Boundary Condition\n",
    "        if row == m or col == n or row < 0 or col < 0:\n",
    "            return 1\n",
    "\n",
    "        if self.memo[row][col][maxMove] != -1:\n",
    "            return self.memo[row][col][maxMove]\n",
    "\n",
    "        total = 0\n",
    "        left = self.helper(m, n, maxMove - 1, row, col - 1)\n",
    "        right = self.helper(m, n, maxMove - 1, row, col + 1)\n",
    "        up = self.helper(m, n, maxMove - 1, row - 1, col)\n",
    "        down = self.helper(m, n, maxMove - 1, row + 1, col)\n",
    "\n",
    "        total = (left + right + up + down) % (10**9 + 7)\n",
    "        self.memo[row][col][maxMove] = total\n",
    "        return total"
   ]
  },
  {
   "cell_type": "markdown",
   "metadata": {},
   "source": []
  }
 ],
 "metadata": {
  "language_info": {
   "name": "python"
  }
 },
 "nbformat": 4,
 "nbformat_minor": 2
}
