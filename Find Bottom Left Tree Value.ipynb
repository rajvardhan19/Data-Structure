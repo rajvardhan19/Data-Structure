{
 "cells": [
  {
   "cell_type": "markdown",
   "metadata": {},
   "source": [
    "# Find Bottom Left Tree Value\n",
    "\n",
    "Given the root of a binary tree, return the leftmost value in the last row of the tree.\n",
    " \n",
    "**Example 1:**\n",
    "```\n",
    "Input: root = [2,1,3]\n",
    "Output: 1\n",
    "```\n",
    "**Example 2:**\n",
    "```\n",
    "Input: root = [1,2,3,4,null,5,6,null,null,7]\n",
    "Output: 7\n",
    "```\n",
    "\n",
    "\n",
    "--> **Constraints:**\n",
    "```\n",
    "The number of nodes in the tree is in the range [1, 104].\n",
    "-231 <= Node.val <= 231 - 1\n",
    "```\n",
    "\n",
    "\n",
    "Link --> https://leetcode.com/problems/find-bottom-left-tree-value/"
   ]
  },
  {
   "cell_type": "markdown",
   "metadata": {},
   "source": [
    "```\n",
    "# Definition for a binary tree node.\n",
    "# class TreeNode(object):\n",
    "#     def __init__(self, val=0, left=None, right=None):\n",
    "#         self.val = val\n",
    "#         self.left = left\n",
    "#         self.right = right\n",
    "class Solution(object):\n",
    "    def findBottomLeftValue(self, root):\n",
    "        queue = deque([root])\n",
    "        while queue:\n",
    "            node = queue.popleft()\n",
    "            # We keep the right node in front of the left node in the queue,\n",
    "            # since we want to get to the most left node of the last level\n",
    "            if node.right:\n",
    "                queue.append(node.right)\n",
    "            if node.left:\n",
    "                queue.append(node.left)\n",
    "        # At the end of BFS, the most left node of the last level remains as 'node'\n",
    "        return node.val\n",
    "            \n",
    "```"
   ]
  }
 ],
 "metadata": {
  "language_info": {
   "name": "python"
  }
 },
 "nbformat": 4,
 "nbformat_minor": 2
}
