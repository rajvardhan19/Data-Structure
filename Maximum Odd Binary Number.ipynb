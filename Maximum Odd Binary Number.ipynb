{
 "cells": [
  {
   "cell_type": "markdown",
   "metadata": {},
   "source": [
    "# Maximum Odd Binary Number\n",
    "\n",
    "You are given a binary string s that contains at least one '1'.\n",
    "\n",
    "You have to rearrange the bits in such a way that the resulting binary number is the maximum odd binary number that can be created from this combination.\n",
    "\n",
    "Return a string representing the maximum odd binary number that can be created from the given combination.\n",
    "\n",
    "Note that the resulting string can have leading zeros.\n",
    "\n",
    "**Example 1:**\n",
    "```\n",
    "Input: s = \"010\"\n",
    "Output: \"001\"\n",
    "Explanation: Because there is just one '1', it must be in the last position. So the answer is \"001\".\n",
    "```\n",
    "**Example 2:**\n",
    "```\n",
    "Input: s = \"0101\"\n",
    "Output: \"1001\"\n",
    "Explanation: One of the '1's must be in the last position. The maximum number that can be made with the remaining digits is \"100\". So the answer is \"1001\".\n",
    "```\n",
    "\n",
    "--> **Constraints:**\n",
    "```\n",
    "1 <= s.length <= 100\n",
    "s consists only of '0' and '1'.\n",
    "s contains at least one '1'.\n",
    "```\n",
    "\n",
    "\n",
    "Link --> https://leetcode.com/problems/maximum-odd-binary-number/"
   ]
  },
  {
   "cell_type": "markdown",
   "metadata": {},
   "source": [
    "```\n",
    "class Solution(object):\n",
    "    def maximumOddBinaryNumber(self, s):\n",
    "        ones_count = s.count(\"1\")\n",
    "        zeros_count = len(s) - ones_count\n",
    "\n",
    "        return \"1\" * (ones_count - 1) + \"0\" * zeros_count + \"1\"\n",
    "```        "
   ]
  }
 ],
 "metadata": {
  "language_info": {
   "name": "python"
  }
 },
 "nbformat": 4,
 "nbformat_minor": 2
}
