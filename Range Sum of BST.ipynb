{
 "cells": [
  {
   "cell_type": "markdown",
   "metadata": {},
   "source": [
    "# Problem Name: Range Sum of BST\n",
    "\n",
    "Given the ```root``` node of a binary search tree and two integers ```low``` and ```high```, return the sum of values of all nodes with a value in the inclusive range ```[low, high]```.\n",
    "\n",
    " \n",
    "\n",
    "**Example 1:**\n",
    "```\n",
    "Input: root = [10,5,15,3,7,null,18], low = 7, high = 15\n",
    "Output: 32\n",
    "Explanation: Nodes 7, 10, and 15 are in the range [7, 15]. 7 + 10 + 15 = 32.\n",
    "```\n",
    "\n",
    "\n",
    "\n",
    "**Example 2:**\n",
    "```\n",
    "Input: root = [10,5,15,3,7,13,18,1,null,6], low = 6, high = 10\n",
    "Output: 23\n",
    "Explanation: Nodes 6, 7, and 10 are in the range [6, 10]. 6 + 7 + 10 = 23.\n",
    "```\n",
    "\n",
    "\n",
    " \n",
    "**Constraints:**\n",
    "```\n",
    "The number of nodes in the tree is in the range [1, 2 * 104].\n",
    "1 <= Node.val <= 105\n",
    "1 <= low <= high <= 105\n",
    "All Node.val are unique.\n",
    "```\n",
    "\n",
    "Link --> https://leetcode.com/problems/range-sum-of-bst/"
   ]
  },
  {
   "cell_type": "code",
   "execution_count": null,
   "metadata": {},
   "outputs": [],
   "source": [
    "class TreeNode(object):\n",
    "    def __init__(self, val=0, left=None, right=None):\n",
    "        self.val = val\n",
    "        self.left = left\n",
    "        self.right = right\n",
    "\n",
    "class Solution(object):\n",
    "    def rangeSumBST(self, root, low, high):\n",
    "        if not root:\n",
    "            return 0\n",
    "        \n",
    "        if root.val < low:\n",
    "            return self.rangeSumBST(root.right, low, high)\n",
    "        elif root.val > high:\n",
    "            return self.rangeSumBST(root.left, low, high)\n",
    "        else:\n",
    "            return root.val + self.rangeSumBST(root.left, low, high) + self.rangeSumBST(root.right, low, high)\n",
    "\n",
    "        "
   ]
  },
  {
   "cell_type": "markdown",
   "metadata": {},
   "source": [
    "**TreeNode Class:**\n",
    "- This class is a basic representation of a node in a binary tree.\n",
    "- Each node has a value (val), a reference to the left child node (left), and a reference to the right child node (right).\n",
    "- The __init__ method initializes these properties when a new TreeNode object is created.\n",
    "\n",
    "**Solution Class:**\n",
    "- This class contains a method rangeSumBST that takes in the root of a binary tree (root), a lower bound (low), and an upper bound (high) as parameters.\n",
    "- The purpose of this method is to find the sum of node values within the range [low, high] in the given BST.\n",
    "**Logic of rangeSumBST Method:**\n",
    "1. Base Case:\n",
    "\n",
    "    - If root is None (i.e., there's no node), it returns 0, as there's no value to consider.\n",
    "\n",
    "2. Checking Node Values:\n",
    "\n",
    "    - If the current node's value (root.val) is less than low, it means the target values are to the right of the current node in the BST. So, it recursively calls rangeSumBST on the right subtree.\n",
    "    - If the current node's value (root.val) is greater than high, it means the target values are to the left of the current node in the BST. So, it recursively calls rangeSumBST on the left subtree.\n",
    "\n",
    "3. Within Range:\n",
    "\n",
    "    - If the current node's value is within the range [low, high], it includes the current node's value in the sum and explores both left and right subtrees to find additional values within the range.\n",
    "\n",
    "4. Recursion:\n",
    "\n",
    "    - The method utilizes recursion to traverse the tree in a depth-first manner while summing up the values that fall within the specified range."
   ]
  }
 ],
 "metadata": {
  "language_info": {
   "name": "python"
  }
 },
 "nbformat": 4,
 "nbformat_minor": 2
}
