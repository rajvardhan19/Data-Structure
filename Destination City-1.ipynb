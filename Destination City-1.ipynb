{
 "cells": [
  {
   "cell_type": "markdown",
   "metadata": {},
   "source": [
    "# Problem Name: Destination City\n",
    "You are given the array paths, where paths[i] = [cityAi, cityBi] means there exists a direct path going from cityAi to cityBi. Return the destination city, that is, the city without any path outgoing to another city.\n",
    "\n",
    "It is guaranteed that the graph of paths forms a line without any loop, therefore, there will be exactly one destination city.\n",
    "\n",
    "**Example 1:**\n",
    "```\n",
    "Input: paths = [[\"London\",\"New York\"],[\"New York\",\"Lima\"],[\"Lima\",\"Sao Paulo\"]]\n",
    "Output: \"Sao Paulo\" \n",
    "\n",
    "Explanation: Starting at \"London\" city you will reach \"Sao Paulo\" city which is the destination city. Your trip consist of: \"London\" -> \"New York\" -> \"Lima\" -> \"Sao Paulo\".\n",
    "```\n",
    "\n",
    "\n",
    "\n",
    "**Example 2:**\n",
    "```\n",
    "Input: paths = [[\"B\",\"C\"],[\"D\",\"B\"],[\"C\",\"A\"]]\n",
    "Output: \"A\"\n",
    "Explanation: All possible trips are: \n",
    "\"D\" -> \"B\" -> \"C\" -> \"A\". \n",
    "\"B\" -> \"C\" -> \"A\". \n",
    "\"C\" -> \"A\". \n",
    "\"A\". \n",
    "Clearly the destination city is \"A\".\n",
    "```\n",
    "\n",
    "**Example 3:**\n",
    "```\n",
    "Input: paths = [[\"A\",\"Z\"]]\n",
    "Output: \"Z\"\n",
    "```\n",
    " \n",
    "--> **Constraints:**\n",
    "```\n",
    "1 <= paths.length <= 100\n",
    "paths[i].length == 2\n",
    "1 <= cityAi.length, cityBi.length <= 10\n",
    "cityAi != cityBi\n",
    "All strings consist of lowercase and uppercase English letters and the space character.\n",
    "```\n",
    "\n",
    "Link --> https://leetcode.com/problems/destination-city/"
   ]
  },
  {
   "cell_type": "code",
   "execution_count": null,
   "metadata": {},
   "outputs": [],
   "source": [
    "class Solution(object):\n",
    "    def destCity(self, paths):\n",
    "        outgoing = {}\n",
    "        incoming = {}\n",
    "        \n",
    "        for path in paths:\n",
    "            outgoing[path[0]] = outgoing.get(path[0], 0) + 1\n",
    "            incoming[path[1]] = incoming.get(path[1], 0) + 1\n",
    "        \n",
    "        for city in incoming:\n",
    "            if city not in outgoing:\n",
    "                return city"
   ]
  },
  {
   "cell_type": "markdown",
   "metadata": {},
   "source": [
    "Step 1 --> Initialization of dictionaries: Two dictionaries, outgoing and incoming, are initialized to store the count of outgoing and incoming paths for each city, respectively.\n",
    "\n",
    "Step 2 --> Counting outgoing and incoming paths: The code iterates through each path in the input list paths. For each path, it increments the count of outgoing paths from the first city (path[0]) and the count of incoming paths to the second city (path[1]) in their respective dictionaries (outgoing and incoming).\n",
    "\n",
    "Step 3 --> Checking for the destination city: After counting all outgoing and incoming paths, the code iterates through the cities in the incoming dictionary. It checks if a city from incoming is not present in the outgoing dictionary. If it finds a city that has incoming paths but no outgoing paths, it means that city is the destination city (the city without any path outgoing to another city). In this case, the code returns that city as the result."
   ]
  }
 ],
 "metadata": {
  "language_info": {
   "name": "python"
  }
 },
 "nbformat": 4,
 "nbformat_minor": 2
}
