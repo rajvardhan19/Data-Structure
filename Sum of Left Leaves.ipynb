{
 "cells": [
  {
   "cell_type": "markdown",
   "metadata": {},
   "source": [
    "# Sum of Left Leaves\n",
    "\n",
    "Given the root of a binary tree, return the sum of all left leaves.\n",
    "\n",
    "A leaf is a node with no children. A left leaf is a leaf that is the left child of another node.\n",
    "\n",
    " \n",
    "**Example 1:**\n",
    "```\n",
    "Input: root = [3,9,20,null,null,15,7]\n",
    "Output: 24\n",
    "Explanation: There are two left leaves in the binary tree, with values 9 and 15 respectively.\n",
    "```\n",
    "**Example 2:**\n",
    "```\n",
    "Input: root = [1]\n",
    "Output: 0\n",
    "```\n",
    "\n",
    "\n",
    "--> **Constraints:**\n",
    "```\n",
    "The number of nodes in the tree is in the range [1, 1000].\n",
    "-1000 <= Node.val <= 1000\n",
    "```\n",
    "\n",
    "\n",
    "Link --> https://leetcode.com/problems/sum-of-left-leaves/"
   ]
  },
  {
   "cell_type": "markdown",
   "metadata": {},
   "source": [
    "```\n",
    "class Solution:\n",
    "    def sumOfLeftLeaves(self, root: Optional[TreeNode]) -> int:\n",
    "        if not root:\n",
    "            return 0\n",
    "        \n",
    "        queue = deque([(root, False)])  # (node, is_left)\n",
    "        total_sum = 0\n",
    "        \n",
    "        while queue:\n",
    "            node, is_left = queue.popleft()\n",
    "            \n",
    "            if is_left and not node.left and not node.right:\n",
    "                total_sum += node.val\n",
    "            \n",
    "            if node.left:\n",
    "                queue.append((node.left, True))\n",
    "            if node.right:\n",
    "                queue.append((node.right, False))\n",
    "        \n",
    "        return total_sum\n",
    "```"
   ]
  }
 ],
 "metadata": {
  "language_info": {
   "name": "python"
  }
 },
 "nbformat": 4,
 "nbformat_minor": 2
}
