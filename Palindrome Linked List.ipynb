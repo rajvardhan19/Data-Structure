{
 "cells": [
  {
   "cell_type": "markdown",
   "metadata": {},
   "source": [
    "# Reverse Linked List\n",
    "Given the head of a singly linked list, return true if it is a \n",
    "palindrome or false otherwise.\n",
    "\n",
    "**Example 1:**\n",
    "```\n",
    "Input: head = [1,2,2,1]\n",
    "Output: true\n",
    "```\n",
    "**Example 2:**\n",
    "```\n",
    "Input: head = [1,2]\n",
    "Output: false\n",
    "```\n",
    "\n",
    "--> **Constraints:**\n",
    "```\n",
    "The number of nodes in the list is in the range [1, 105].\n",
    "0 <= Node.val <= 9\n",
    "```\n",
    "\n",
    "\n",
    "Link --> https://leetcode.com/problems/palindrome-linked-list/"
   ]
  },
  {
   "cell_type": "markdown",
   "metadata": {},
   "source": [
    "```\n",
    "# Definition for singly-linked list.\n",
    "# class ListNode(object):\n",
    "#     def __init__(self, val=0, next=None):\n",
    "#         self.val = val\n",
    "#         self.next = next\n",
    "class Solution(object):\n",
    "    def isPalindrome(self, head):\n",
    "        \"\"\"\n",
    "        :type head: ListNode\n",
    "        :rtype: bool\n",
    "        \"\"\"\n",
    "        if not head or not head.next:\n",
    "            return True\n",
    "\n",
    "        slow = head\n",
    "        fast = head\n",
    "        prev = None\n",
    "\n",
    "        # Find the middle of the linked list and reverse the first half\n",
    "        while fast and fast.next:\n",
    "            fast = fast.next.next\n",
    "            temp = slow.next\n",
    "            slow.next = prev\n",
    "            prev = slow\n",
    "            slow = temp\n",
    "\n",
    "        if fast:\n",
    "            slow = slow.next\n",
    "\n",
    "        while prev and slow:\n",
    "            if prev.val != slow.val:\n",
    "                return False\n",
    "            prev = prev.next\n",
    "            slow = slow.next\n",
    "\n",
    "        return True\n",
    "```"
   ]
  }
 ],
 "metadata": {
  "language_info": {
   "name": "python"
  }
 },
 "nbformat": 4,
 "nbformat_minor": 2
}
