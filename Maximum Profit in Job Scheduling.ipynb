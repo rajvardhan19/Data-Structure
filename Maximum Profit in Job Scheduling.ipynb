{
 "cells": [
  {
   "cell_type": "markdown",
   "metadata": {},
   "source": [
    "# Problem Name: Maximum Profit in Job Scheduling\n",
    "\n",
    "We have n jobs, where every job is scheduled to be done from startTime[i] to endTime[i], obtaining a profit of profit[i].\n",
    "\n",
    "You're given the startTime, endTime and profit arrays, return the maximum profit you can take such that there are no two jobs in the subset with overlapping time range.\n",
    "\n",
    "If you choose a job that ends at time X you will be able to start another job that starts at time X.\n",
    "\n",
    " \n",
    "\n",
    "**Example 1:**\n",
    "```\n",
    "Input: startTime = [1,2,3,3], endTime = [3,4,5,6], profit = [50,10,40,70]\n",
    "Output: 120\n",
    "Explanation: The subset chosen is the first and fourth job. \n",
    "Time range [1-3]+[3-6] , we get profit of 120 = 50 + 70.\n",
    "```\n",
    "\n",
    "\n",
    "\n",
    "**Example 2:**\n",
    "```\n",
    "Input: startTime = [1,2,3,4,6], endTime = [3,5,10,6,9], profit = [20,20,100,70,60]\n",
    "Output: 150\n",
    "Explanation: The subset chosen is the first, fourth and fifth job. \n",
    "Profit obtained 150 = 20 + 70 + 60.\n",
    "```\n",
    "**Example 3:**\n",
    "```\n",
    "Input: startTime = [1,1,1], endTime = [2,3,4], profit = [5,6,4]\n",
    "Output: 6\n",
    "```\n",
    "\n",
    " \n",
    "**Constraints:**\n",
    "```\n",
    "1 <= startTime.length == endTime.length == profit.length <= 5 * 104\n",
    "1 <= startTime[i] < endTime[i] <= 109\n",
    "1 <= profit[i] <= 104\n",
    "```\n",
    "\n",
    "Link --> https://leetcode.com/problems/maximum-profit-in-job-scheduling/"
   ]
  },
  {
   "cell_type": "code",
   "execution_count": null,
   "metadata": {},
   "outputs": [],
   "source": [
    "class Solution(object):\n",
    "    def jobScheduling(self, startTime, endTime, profit):\n",
    "        jobs = sorted(zip(startTime, endTime, profit), key=lambda x: x[1])\n",
    "        dp = [[0, 0]]  # [time, profit]\n",
    "\n",
    "        for s, e, p in jobs:\n",
    "            i = bisect.bisect(dp, [s + 1]) - 1\n",
    "            if dp[i][1] + p > dp[-1][1]:\n",
    "                dp.append([e, dp[i][1] + p])\n",
    "\n",
    "        return dp[-1][1]\n",
    "        "
   ]
  },
  {
   "cell_type": "markdown",
   "metadata": {},
   "source": [
    "1. Sorting Jobs by End Time:\n",
    "\n",
    "- The given jobs are sorted based on their end times. This step is crucial as it allows the algorithm to process the jobs in a sequence sorted by their end times. The sorting is performed using zip and the sorted function.\n",
    "2. Dynamic Programming Array (dp):\n",
    "\n",
    "- dp is a list of lists that stores the information about the maximum profit that can be obtained until a certain time. Initially, it contains [0, 0], indicating at time 0, the maximum profit is 0.\n",
    "3. Iterating Through Sorted Jobs:\n",
    "\n",
    "- The algorithm iterates through each job (sorted by end times) using a for loop.\n",
    "- For each job (s, e, p) (start time, end time, profit), it finds the best position to place this job in the dynamic programming array (dp).\n",
    "4. Binary Search for Positioning Jobs:\n",
    "\n",
    "- The line i = bisect.bisect(dp, [s + 1]) - 1 performs a binary search within the dp array to find the best position to insert the current job based on its start time.\n",
    "- It effectively finds the job that finishes closest to the current job's start time without overlapping (s + 1). This ensures that there is no overlap between jobs.\n",
    "5. Maximizing Profit:\n",
    "\n",
    "- If adding the profit of the current job (p) to the profit of the job found in the dp array (dp[i][1]) yields a greater profit than the profit stored at the end of the dp array (dp[-1][1]), the algorithm updates the dp array by appending a new entry [e, dp[i][1] + p]. This entry signifies the maximum profit achievable until time e.\n",
    "6. Returning the Maximum Profit:\n",
    "\n",
    "Finally, the algorithm returns the maximum profit achievable by considering the last entry in the dp array (dp[-1][1])."
   ]
  }
 ],
 "metadata": {
  "language_info": {
   "name": "python"
  }
 },
 "nbformat": 4,
 "nbformat_minor": 2
}
