{
 "cells": [
  {
   "cell_type": "markdown",
   "metadata": {},
   "source": [
    "# Problem Name: Decode Ways\n",
    "\n",
    "A message containing letters from ```A-Z``` can be **encoded** into numbers using the following mapping:\n",
    "\n",
    "```\n",
    "'A' -> \"1\"\n",
    "'B' -> \"2\"\n",
    "```\n",
    "...\n",
    "```\n",
    "'Z' -> \"26\"\n",
    "```\n",
    "To decode an encoded message, all the digits must be grouped then mapped back into letters using the reverse of the mapping above (there may be multiple ways). For example, ```\"11106\"``` can be mapped into:\n",
    "\n",
    "```\"AAJF\"``` with the grouping ```(1 1 10 6)```\n",
    "```\"KJF\"``` with the grouping ```(11 10 6)```\n",
    "Note that the grouping ```(1 11 06)``` is invalid because ```\"06\"``` cannot be mapped into ```'F'``` since ```\"6\"``` is different from ```\"06\"```.\n",
    "\n",
    "Given a string ```s``` containing only digits, return the number of ways to decode it.\n",
    "\n",
    "The test cases are generated so that the answer fits in a 32-bit integer."
   ]
  },
  {
   "cell_type": "code",
   "execution_count": null,
   "metadata": {},
   "outputs": [],
   "source": [
    "class Solution(object):\n",
    "    def numDecodings(self, s):\n",
    "        if not s or s[0] == '0':\n",
    "            return 0\n",
    "\n",
    "        n = len(s)\n",
    "        dp = [0] * (n + 1)\n",
    "        dp[0] = 1\n",
    "        dp[1] = 1\n",
    "\n",
    "        for i in range(2, n + 1):\n",
    "            one_digit = int(s[i - 1:i])\n",
    "            two_digits = int(s[i - 2:i])\n",
    "\n",
    "            if 1 <= one_digit <= 9:\n",
    "                dp[i] += dp[i - 1]\n",
    "            if 10 <= two_digits <= 26:\n",
    "                dp[i] += dp[i - 2]\n",
    "\n",
    "        return dp[n]"
   ]
  },
  {
   "cell_type": "markdown",
   "metadata": {},
   "source": [
    "- **Initial Checks:** The function begins by checking if the input string is empty or starts with '0'. If either condition is true, it returns 0 because a string that starts with '0' cannot be decoded..\n",
    "\n",
    "- **Initialization of Variables:** It initializes variables - ```n``` as the length of the input string ```s``` and ```dp``` (dynamic programming array) with length ```n + 1``` initialized to zeros. ```dp[0]``` and ```dp[1]```     are set to 1 as initial values.\n",
    "\n",
    "- **Dynamic Programming Loop:** It iterates from index 2 to n (inclusive) of the input string.\n",
    "    - For each iteration, it extracts the one-digit and two-digit substrings (```one_digit and two_digits```) starting from the current index.\n",
    "    - It checks if ```one_digit``` falls within the range 1 to 9. If so, it increments the count in ```dp[i]``` by the value in ```dp[i - 1]```. This considers the possibility of forming a single-digit letter.\n",
    "    - It also checks if ```two_digits``` fall within the range 10 to 26. If so, it increments the count in ```dp[i]``` by the value in ```dp[i - 2]```. This considers the possibility of forming a two-digit letter.\n",
    "\n",
    "- **Final Result:** After the loop completes, the function returns the value in dp[n], which represents the total number of ways to decode the entire input string s.\n",
    "\n"
   ]
  }
 ],
 "metadata": {
  "language_info": {
   "name": "python"
  }
 },
 "nbformat": 4,
 "nbformat_minor": 2
}
