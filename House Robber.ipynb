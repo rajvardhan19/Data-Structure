{
 "cells": [
  {
   "cell_type": "markdown",
   "metadata": {},
   "source": [
    "# Problem Name: House Robber\n",
    "\n",
    "You are a professional robber planning to rob houses along a street. Each house has a certain amount of money stashed, the only constraint stopping you from robbing each of them is that adjacent houses have security systems connected and it will automatically contact the police if two adjacent houses were broken into on the same night.\n",
    "\n",
    "Given an integer array nums representing the amount of money of each house, return the maximum amount of money you can rob tonight without alerting the police.\n",
    "\n",
    " \n",
    "\n",
    "**Example 1:**\n",
    "```\n",
    "Input: nums = [1,2,3,1]\n",
    "Output: 4\n",
    "Explanation: Rob house 1 (money = 1) and then rob house 3 (money = 3).\n",
    "Total amount you can rob = 1 + 3 = 4.\n",
    "```\n",
    "\n",
    "\n",
    "\n",
    "**Example 2:**\n",
    "```\n",
    "Input: nums = [2,7,9,3,1]\n",
    "Output: 12\n",
    "Explanation: Rob house 1 (money = 2), rob house 3 (money = 9) and rob house 5 (money = 1).\n",
    "Total amount you can rob = 2 + 9 + 1 = 12.\n",
    "```\n",
    "\n",
    "Constraints:\n",
    "```\n",
    "1 <= nums.length <= 100\n",
    "0 <= nums[i] <= 400\n",
    "```\n",
    "\n",
    "Link --> https://leetcode.com/problems/house-robber/"
   ]
  },
  {
   "cell_type": "code",
   "execution_count": null,
   "metadata": {},
   "outputs": [],
   "source": [
    "class Solution(object):\n",
    "    def rob(self, nums):\n",
    "        n = len(nums)\n",
    "    \n",
    "        if n == 0:\n",
    "            return 0\n",
    "        elif n == 1:\n",
    "            return nums[0]\n",
    "\n",
    "        dp = [0] * n\n",
    "        dp[0] = nums[0]\n",
    "        dp[1] = max(nums[0], nums[1])\n",
    "        for i in range(2, n): \n",
    "            dp[i] = max(dp[i-1], dp[i-2] + nums[i])\n",
    "\n",
    "        return dp[-1]\n",
    "        "
   ]
  },
  {
   "cell_type": "markdown",
   "metadata": {},
   "source": [
    "1. Initialization:\n",
    "\n",
    "    - The code starts by checking the length of the input array nums (representing the money in each house).\n",
    "    - If there are no houses (n == 0), the function returns 0 because there are no houses to rob.\n",
    "    - If there is only one house (n == 1), the function returns the money in that house (nums[0]), as there is only one house to rob.\n",
    "2. Dynamic Programming Array (dp) Initialization:\n",
    "\n",
    "    - The code initializes an array dp of size n to store the maximum amount of money that can be robbed up to the i-th house.\n",
    "    - dp[0] is set to the money in the first house (nums[0]), as there is only one house available.\n",
    "    - dp[1] is set to the maximum value between the money in the first house (nums[0]) and the money in the second house (nums[1]). This is because the robber cannot rob adjacent houses, so they choose the one with more money.\n",
    "3. Dynamic Programming Loop:\n",
    "\n",
    "    - The code then iterates from the third house (i = 2) to the last house (n - 1).\n",
    "    - For each house, the robber has two choices: either rob the current house and add the money to the loot from two houses ago (dp[i-2]), or skip the current house and take the maximum loot from the previous house (dp[i-1]).\n",
    "    - The maximum of these two choices is stored in dp[i], representing the maximum loot up to the i-th house.\n",
    "4. Result:\n",
    "\n",
    "    - The final result is the maximum loot that can be obtained from any of the houses, which is stored in dp[-1] (the last element of the dynamic programming array)."
   ]
  }
 ],
 "metadata": {
  "language_info": {
   "name": "python"
  }
 },
 "nbformat": 4,
 "nbformat_minor": 2
}
