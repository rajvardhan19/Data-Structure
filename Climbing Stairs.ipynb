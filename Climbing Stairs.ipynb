{
 "cells": [
  {
   "cell_type": "markdown",
   "metadata": {},
   "source": [
    "# Problem Name: climbing-stairs\n",
    "\n",
    "You are climbing a staircase. It takes n steps to reach the top.\n",
    "\n",
    "Each time you can either climb 1 or 2 steps. In how many distinct ways can you climb to the top?\n",
    "\n",
    "**Example 1:**\n",
    "```\n",
    "Input: n = 2\n",
    "Output: 2\n",
    "Explanation: There are two ways to climb to the top.\n",
    "1. 1 step + 1 step\n",
    "2. 2 steps\n",
    "```\n",
    "\n",
    "\n",
    "\n",
    "**Example 2:**\n",
    "```\n",
    "Input: n = 3\n",
    "Output: 3\n",
    "Explanation: There are three ways to climb to the top.\n",
    "1. 1 step + 1 step + 1 step\n",
    "2. 1 step + 2 steps\n",
    "3. 2 steps + 1 step\n",
    "```\n",
    "\n",
    "Link --> https://leetcode.com/problems/climbing-stairs/"
   ]
  },
  {
   "cell_type": "code",
   "execution_count": null,
   "metadata": {},
   "outputs": [],
   "source": [
    "class Solution(object):\n",
    "    def climbStairs(self, n):\n",
    "        if n <= 2:\n",
    "            return n\n",
    "\n",
    "        dp = [0] * (n + 1)\n",
    "        dp[1] = 1\n",
    "        dp[2] = 2\n",
    "\n",
    "        for i in range(3, n + 1):\n",
    "            dp[i] = dp[i - 1] + dp[i - 2]\n",
    "\n",
    "        return dp[n]\n",
    "        "
   ]
  },
  {
   "cell_type": "markdown",
   "metadata": {},
   "source": [
    "1. Base Cases:\n",
    "    - If n is less than or equal to 2, it means there are only n steps or fewer. In such cases, the function directly returns n because there are n distinct ways to climb n steps.\n",
    "\n",
    "2. Dynamic Programming Array:\n",
    "    - The function initializes a dynamic programming array dp of size (n + 1) to store the number of distinct ways to reach each step. dp[i] represents the number of ways to climb to step i.\n",
    "\n",
    "3. Base Values for 1 and 2 Steps:\n",
    "    - The function sets dp[1] = 1 and dp[2] = 2 because there is 1 way to climb 1 step and 2 ways to climb 2 steps.\n",
    "\n",
    "4. Dynamic Programming Iteration:\n",
    "    - The function then iterates from step 3 to step n. For each step i, the number of ways to reach that step is the sum of the ways to reach the previous two steps (i - 1 and i - 2).\n",
    "\n",
    "5. Return Result:\n",
    "    - Finally, the function returns the number of distinct ways to climb to the top, which is stored in dp[n]."
   ]
  }
 ],
 "metadata": {
  "language_info": {
   "name": "python"
  }
 },
 "nbformat": 4,
 "nbformat_minor": 2
}
