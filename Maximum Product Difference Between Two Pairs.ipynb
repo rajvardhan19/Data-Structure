{
 "cells": [
  {
   "cell_type": "markdown",
   "metadata": {},
   "source": [
    "# Problem Name: Check If Two String Arrays are Equivalent\n",
    "The **product difference** between two pairs ```(a, b)``` and ```(c, d)``` is defined as ```(a * b) - (c * d)```.\n",
    "\n",
    "- For example, the product difference between ```(5, 6)``` and ```(2, 7)``` is ```(5 * 6) - (2 * 7) = 16```.\n",
    "Given an integer array ```nums```, choose four **distinct indices** ```w```, ```x```,``` y```, and ```z``` such that the **product difference** between pairs ```(nums[w], nums[x])``` and ```(nums[y], nums[z])``` is **maximized**.\n",
    "\n",
    "Return the **maximum** such product difference.\n",
    "\n",
    "**Example 1:**\n",
    "```\n",
    "Input: nums = [5,6,2,7,4]\n",
    "Output: 34\n",
    "Explanation: We can choose indices 1 and 3 for the first pair (6, 7) and indices 2 and 4 for the second pair (2, 4).\n",
    "The product difference is (6 * 7) - (2 * 4) = 34.\n",
    "```\n",
    "**Example 2:**\n",
    "```\n",
    "Input: nums = [4,2,5,9,7,4,8]\n",
    "Output: 64\n",
    "Explanation: We can choose indices 3 and 6 for the first pair (9, 8) and indices 1 and 5 for the second pair (2, 4).\n",
    "The product difference is (9 * 8) - (2 * 4) = 64.\n",
    "```\n",
    "\n",
    "--> **Constraints:**\n",
    "\n",
    "- ```4 <= nums.length <= 104```\n",
    "- ```1 <= nums[i] <= 104```\n",
    "\n",
    "\n",
    "Link --> https://leetcode.com/problems/maximum-product-difference-between-two-pairs/"
   ]
  },
  {
   "cell_type": "code",
   "execution_count": null,
   "metadata": {},
   "outputs": [],
   "source": [
    "class Solution(object):\n",
    "    def maxProductDifference(self, nums):\n",
    "        max1 = max(nums)\n",
    "        nums.remove(max1)\n",
    "        max2 = max(nums)\n",
    "        \n",
    "        nums.append(max1)\n",
    "        \n",
    "        min1 = min(nums)\n",
    "        nums.remove(min1)\n",
    "        min2 = min(nums)\n",
    "        \n",
    "        return (max1 * max2) - (min1 * min2)"
   ]
  },
  {
   "cell_type": "markdown",
   "metadata": {},
   "source": [
    "Step 1 --> Find the Two Maximum Values:\n",
    "- max1 is assigned the maximum value from the list nums using the max() function.\n",
    "- The first occurrence of max1 is removed from the list using nums.remove(max1).\n",
    "- max2 is then assigned the next maximum value from the modified list nums.\n",
    "\n",
    "Step 2 --> Retrieve the Maximum Back:\n",
    "- After finding max1 and max2, the initially removed maximum value (max1) is appended back to the list.\n",
    "\n",
    "Step 3 --> Find the Two Minimum Values:\n",
    "- min1 is assigned the minimum value from the updated list nums using the min() function.\n",
    "- The first occurrence of min1 is removed from the list using nums.remove(min1).\n",
    "- min2 is then assigned the next minimum value from the modified list nums.\n",
    "\n",
    "Step 4 --> Calculate the Product Difference:\n",
    "- The product difference between the maximum values (max1 * max2) and the minimum values (min1 * min2) is calculated.\n",
    "- This difference is then returned as the output of the maxProductDifference method.\n"
   ]
  }
 ],
 "metadata": {
  "language_info": {
   "name": "python"
  }
 },
 "nbformat": 4,
 "nbformat_minor": 2
}
