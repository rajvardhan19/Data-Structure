{
 "cells": [
  {
   "cell_type": "markdown",
   "metadata": {},
   "source": [
    "# Problem Name: Minimum Number of Operations to Make Array Empty\n",
    "\n",
    "You are given a 0-indexed array ```nums``` consisting of positive integers.\n",
    "\n",
    "There are two types of operations that you can apply on the array any number of times:\n",
    "\n",
    "- Choose two elements with equal values and delete them from the array.\n",
    "- Choose three elements with equal values and delete them from the array.\n",
    "Return the minimum number of operations required to make the array empty, or ```-1``` if it is not possible.\n",
    "\n",
    "**Example 1:**\n",
    "```\n",
    "Input: nums = [2,3,3,2,2,4,2,3,4]\n",
    "Output: 4\n",
    "Explanation: We can apply the following operations to make the array empty:\n",
    "- Apply the first operation on the elements at indices 0 and 3. The resulting array is nums = [3,3,2,4,2,3,4].\n",
    "- Apply the first operation on the elements at indices 2 and 4. The resulting array is nums = [3,3,4,3,4].\n",
    "- Apply the second operation on the elements at indices 0, 1, and 3. The resulting array is nums = [4,4].\n",
    "- Apply the first operation on the elements at indices 0 and 1. The resulting array is nums = [].\n",
    "It can be shown that we cannot make the array empty in less than 4 operations.\n",
    "```\n",
    "\n",
    "\n",
    "\n",
    "**Example 2:**\n",
    "```\n",
    "Input: nums = [2,1,2,2,3,3]\n",
    "Output: -1\n",
    "Explanation: It is impossible to empty the array.\n",
    "```\n",
    "\n",
    " \n",
    "**Constraints:**\n",
    "```\n",
    "2 <= nums.length <= 105\n",
    "1 <= nums[i] <= 106\n",
    "```\n",
    "\n",
    "Link --> https://leetcode.com/problems/minimum-number-of-operations-to-make-array-empty/"
   ]
  },
  {
   "cell_type": "code",
   "execution_count": null,
   "metadata": {},
   "outputs": [],
   "source": [
    "from collections import defaultdict\n",
    "\n",
    "class Solution(object):\n",
    "    def minOperations(self, nums):\n",
    "        nums.sort()\n",
    "\n",
    "        res = 0\n",
    "        s = 0\n",
    "        while s < len(nums):\n",
    "            e = s\n",
    "\n",
    "            while e < len(nums) and nums[e] == nums[s]:\n",
    "                e += 1\n",
    "            count = e - s\n",
    "            if count == 1:\n",
    "                return -1\n",
    "            res += count // 3\n",
    "\n",
    "            if count % 3 != 0:\n",
    "                res += 1\n",
    "            s = e\n",
    "\n",
    "        return res\n",
    "        "
   ]
  },
  {
   "cell_type": "markdown",
   "metadata": {},
   "source": [
    "- The function minOperations takes in an array nums as its input.\n",
    "- It first sorts the array nums in ascending order.\n",
    "- Initializing res as 0, which will store the minimum number of operations required to make the array empty.\n",
    "- Initialize s (start) as 0, representing the start index of the current sequence of equal elements.\n",
    "\n",
    "\n",
    "The solution then iterates through the sorted array using s as the starting index:\n",
    "\n",
    "- Inside the while loop, e (end) is set initially to s.\n",
    "- A nested while loop runs while e is within the array bounds and the element at index e is the same as the element at index s. This loop counts the number of consecutive occurrences of the current element.\n",
    "- After the inner loop finishes, count stores the number of occurrences of the current element in the sequence (e - s).\n",
    "- If count is equal to 1, it means there's a single occurrence of an element in the array, which cannot be removed according to the problem requirements. So, the function returns -1 indicating that it's not possible to empty the array.\n",
    "- The number of operations required to remove elements from the current sequence of equal elements is calculated by adding count // 3 to res.This represents the number of times three elements can be removed from the current sequence.\n",
    "- If there are remaining elements (i.e., count % 3 != 0), it means there are 1 or 2 elements left in the sequence after removing groups of three elements. In such cases, an additional operation is required to remove these remaining elements. So, res is incremented by 1 in this case.\n",
    "- Update s to e to move to the next distinct element in the array."
   ]
  }
 ],
 "metadata": {
  "language_info": {
   "name": "python"
  }
 },
 "nbformat": 4,
 "nbformat_minor": 2
}
