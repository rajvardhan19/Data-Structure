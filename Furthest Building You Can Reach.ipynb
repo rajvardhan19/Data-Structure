{
 "cells": [
  {
   "cell_type": "markdown",
   "metadata": {},
   "source": [
    "# Furthest Building You Can Reach\n",
    "\n",
    "You are given an integer array heights representing the heights of buildings, some bricks, and some ladders.\n",
    "\n",
    "You start your journey from building 0 and move to the next building by possibly using bricks or ladders.\n",
    "\n",
    "While moving from building i to building i+1 (0-indexed),\n",
    "\n",
    "    - If the current building's height is greater than or equal to the next building's height, you do not need a ladder or bricks.\n",
    "    - If the current building's height is less than the next building's height, you can either use one ladder or (h[i+1] - h[i]) bricks.\n",
    "Return the furthest building index (0-indexed) you can reach if you use the given ladders and bricks optimally.\n",
    " \n",
    "**Example 1:**\n",
    "```\n",
    "Input: heights = [4,2,7,6,9,14,12], bricks = 5, ladders = 1\n",
    "Output: 4\n",
    "Explanation: Starting at building 0, you can follow these steps:\n",
    "- Go to building 1 without using ladders nor bricks since 4 >= 2.\n",
    "- Go to building 2 using 5 bricks. You must use either bricks or ladders because 2 < 7.\n",
    "- Go to building 3 without using ladders nor bricks since 7 >= 6.\n",
    "- Go to building 4 using your only ladder. You must use either bricks or ladders because 6 < 9.\n",
    "It is impossible to go beyond building 4 because you do not have any more bricks or ladders.\n",
    "```\n",
    "**Example 2:**\n",
    "```\n",
    "Input: heights = [4,12,2,7,3,18,20,3,19], bricks = 10, ladders = 2\n",
    "Output: 7\n",
    "```\n",
    "**Example 3:**\n",
    "```\n",
    "Input: heights = [14,3,19,3], bricks = 17, ladders = 0\n",
    "Output: 3\n",
    "```\n",
    "\n",
    "--> **Constraints:**\n",
    "```\n",
    "1 <= heights.length <= 105\n",
    "1 <= heights[i] <= 106\n",
    "0 <= bricks <= 109\n",
    "0 <= ladders <= heights.length\n",
    "```\n",
    "\n",
    "\n",
    "Link --> https://leetcode.com/problems/furthest-building-you-can-reach/"
   ]
  },
  {
   "cell_type": "markdown",
   "metadata": {},
   "source": [
    "class Solution(object):\n",
    "    def furthestBuilding(self, heights, bricks, ladders):\n",
    "        pq = []  # Min heap to store the heights of buildings we've visited\n",
    "        for i in range(len(heights) - 1):\n",
    "            diff = heights[i + 1] - heights[i]\n",
    "            if diff > 0:\n",
    "                heapq.heappush(pq, diff)\n",
    "                # If we have more buildings than ladders, we use a ladder\n",
    "                if len(pq) > ladders:\n",
    "                    bricks -= heapq.heappop(pq)\n",
    "                # If we run out of bricks, we cannot go further\n",
    "                if bricks < 0:\n",
    "                    return i\n",
    "        return len(heights) - 1"
   ]
  }
 ],
 "metadata": {
  "language_info": {
   "name": "python"
  }
 },
 "nbformat": 4,
 "nbformat_minor": 2
}
