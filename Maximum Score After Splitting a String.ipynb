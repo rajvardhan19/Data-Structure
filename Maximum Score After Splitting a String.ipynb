{
 "cells": [
  {
   "cell_type": "markdown",
   "metadata": {},
   "source": [
    "# Problem Name: Maximum Score After Splitting a String\n",
    "Given a string ```s``` of zeros and ones, return the maximum score after splitting the string into two **non-empty substrings** (i.e. **left** substring and **right** substring).\n",
    "\n",
    "The score after splitting a string is the number of **zeros** in the left substring plus the number of ones in the right substring.\n",
    "**Example 1:**\n",
    "```\n",
    "Input: s = \"011101\"\n",
    "Output: 5 \n",
    "Explanation: \n",
    "All possible ways of splitting s into two non-empty substrings are:\n",
    "left = \"0\" and right = \"11101\", score = 1 + 4 = 5 \n",
    "left = \"01\" and right = \"1101\", score = 1 + 3 = 4 \n",
    "left = \"011\" and right = \"101\", score = 1 + 2 = 3 \n",
    "left = \"0111\" and right = \"01\", score = 1 + 1 = 2 \n",
    "left = \"01110\" and right = \"1\", score = 2 + 1 = 3\n",
    "```\n",
    "**Example 2:**\n",
    "```\n",
    "Input: s = \"00111\"\n",
    "Output: 5\n",
    "Explanation: When left = \"00\" and right = \"111\", we get the maximum score = 2 + 3 = 5\n",
    "```\n",
    "\n",
    "**Example 3:**\n",
    "```\n",
    "Input: s = \"1111\"\n",
    "Output: 3\n",
    "```\n",
    "\n",
    "--> **Constraints:**\n",
    "\n",
    "- ```2 <= s.length <= 500```\n",
    "- The string ```s``` consists of characters ``` '0' ``` and ```'1'``` only.\n",
    "\n",
    "\n",
    "Link --> https://leetcode.com/problems/maximum-score-after-splitting-a-string/"
   ]
  },
  {
   "cell_type": "code",
   "execution_count": null,
   "metadata": {},
   "outputs": [],
   "source": [
    "class Solution(object):\n",
    "    def maxScore(self, s):\n",
    "        max_score = 0\n",
    "        zeros_count = 0\n",
    "        ones_count = s.count('1')  # Count total ones in the string\n",
    "\n",
    "        # Iterate through the string except for the last character\n",
    "        for i in range(len(s) - 1):\n",
    "            if s[i] == '0':\n",
    "                zeros_count += 1\n",
    "            else:\n",
    "                ones_count -= 1\n",
    "            \n",
    "            # Update the maximum score if the current score is greater\n",
    "            max_score = max(max_score, zeros_count + ones_count)\n",
    "\n",
    "        return max_score"
   ]
  },
  {
   "cell_type": "markdown",
   "metadata": {},
   "source": [
    "Step 1 --> Initialize Variables:\n",
    "\n",
    "- Set max_score to 0. This will hold the maximum score found.\n",
    "- Set zeros_count to 0. This will track the number of zeros encountered.\n",
    "- Count the total number of ones in the string and assign it to ones_count.\n",
    "\n",
    "Step 2 --> Loop through the String:\n",
    "\n",
    "- Iterate through the string, excluding the last character.\n",
    "- For each character in the string:\n",
    "    - If the character is '0':\n",
    "    - Increment zeros_count by 1.\n",
    "    - If the character is '1':\n",
    "    - Decrement ones_count by 1.\n",
    "    - Calculate the current score as zeros_count + ones_count.\n",
    "    - Update max_score with the maximum value between the current max_score and the current score (zeros_count + ones_count).\n",
    "\n",
    "Step 3 --> Return the Maximum Score:\n",
    "\n",
    "- After looping through the string and updating max_score, return the final max_score value."
   ]
  }
 ],
 "metadata": {
  "language_info": {
   "name": "python"
  }
 },
 "nbformat": 4,
 "nbformat_minor": 2
}
