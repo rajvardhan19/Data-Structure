{
 "cells": [
  {
   "cell_type": "markdown",
   "metadata": {},
   "source": [
    "# Product of Array Except Self\n",
    "\n",
    "Given an integer array nums, return an array answer such that answer[i] is equal to the product of all the elements of nums except nums[i].\n",
    "\n",
    "The product of any prefix or suffix of nums is guaranteed to fit in a 32-bit integer.\n",
    "\n",
    "You must write an algorithm that runs in O(n) time and without using the division operation.\n",
    "\n",
    " \n",
    "\n",
    "**Example 1:**\n",
    "```\n",
    "Input: nums = [1,2,3,4]\n",
    "Output: [24,12,8,6]\n",
    "```\n",
    "**Example 2:**\n",
    "```\n",
    "Input: nums = [-1,1,0,-3,3]\n",
    "Output: [0,0,9,0,0]\n",
    "```\n",
    "\n",
    "--> **Constraints:**\n",
    "```\n",
    "2 <= nums.length <= 105\n",
    "-30 <= nums[i] <= 30\n",
    "The product of any prefix or suffix of nums is guaranteed to fit in a 32-bit integer.\n",
    "```\n",
    "\n",
    "\n",
    "Link --> https://leetcode.com/problems/product-of-array-except-self/"
   ]
  },
  {
   "cell_type": "markdown",
   "metadata": {},
   "source": [
    "\n",
    "```\n",
    "class Solution(object):\n",
    "    def productExceptSelf(self, nums):\n",
    "        # Initialize a list with the length of nums called \"left\" with all elements set to 1\n",
    "        # This list will record the product of all numbers to the left of a specific index\n",
    "        left = [1]*len(nums)\n",
    "    \n",
    "        # Initialize a list with the length of nums called \"right\" with all elements set to 1\n",
    "        # This list will record the product of all numbers to the right of a specific index\n",
    "        right = [1]*len(nums)\n",
    "\n",
    "        # Initialize a list with the length of nums called \"output\" with all elements set to 1\n",
    "        # This list will record the final product of all numbers except at the specific index\n",
    "        output = [1]*len(nums)\n",
    "        \n",
    "        # Iterate over the nums from left to right\n",
    "        for i in range(1,len(nums)):\n",
    "            left[i] = nums[i - 1] * left[i - 1]\n",
    "            \n",
    "        # Iterate over the nums from right to left\n",
    "        for i in range(len(nums) - 2, -1, -1):\n",
    "            right[i] = nums[i + 1] * right[i + 1]\n",
    "            \n",
    "        # Compute the final output list\n",
    "        for i in range(len(nums)):\n",
    "            output[i] = left[i] * right[i]\n",
    "            \n",
    "        return output\n",
    "```    "
   ]
  }
 ],
 "metadata": {
  "language_info": {
   "name": "python"
  }
 },
 "nbformat": 4,
 "nbformat_minor": 2
}
