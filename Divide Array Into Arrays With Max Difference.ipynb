{
 "cells": [
  {
   "cell_type": "markdown",
   "metadata": {},
   "source": [
    "# Problem Name: Divide Array Into Arrays With Max Difference\n",
    "\n",
    "You are given an integer array nums of size n and a positive integer k.\n",
    "\n",
    "Divide the array into one or more arrays of size 3 satisfying the following conditions:\n",
    "\n",
    "Each element of nums should be in exactly one array.\n",
    "The difference between any two elements in one array is less than or equal to k.\n",
    "Return a 2D array containing all the arrays. If it is impossible to satisfy the conditions, return an empty array. And if there are multiple answers, return any of them.\n",
    "    \n",
    "\n",
    " \n",
    "\n",
    "**Example 1:**\n",
    "```\n",
    "Input: nums = [1,3,4,8,7,9,3,5,1], k = 2\n",
    "Output: [[1,1,3],[3,4,5],[7,8,9]]\n",
    "Explanation: We can divide the array into the following arrays: [1,1,3], [3,4,5] and [7,8,9].\n",
    "The difference between any two elements in each array is less than or equal to 2.\n",
    "Note that the order of elements is not important.\n",
    "```\n",
    "**Example 2:**\n",
    "```\n",
    "Input: nums = [1,3,3,2,7,3], k = 3\n",
    "Output: []\n",
    "Explanation: It is not possible to divide the array satisfying all the conditions.\n",
    "```\n",
    "\n",
    "\n",
    "Constraints:\n",
    "```\n",
    "n == nums.length\n",
    "1 <= n <= 105\n",
    "n is a multiple of 3.\n",
    "1 <= nums[i] <= 105\n",
    "1 <= k <= 105\n",
    "```\n",
    "\n",
    "Link --> https://leetcode.com/problems/divide-array-into-arrays-with-max-difference/"
   ]
  },
  {
   "cell_type": "code",
   "execution_count": null,
   "metadata": {},
   "outputs": [],
   "source": [
    "class Solution:\n",
    "    def divideArray(self, nums: List[int], k: int) -> List[List[int]]:\n",
    "        nums.sort()\n",
    "        ans=[]\n",
    "        n=len(nums)//3\n",
    "        for i in range(n):\n",
    "            if nums[3*i+2]-nums[3*i]> k: return []\n",
    "            ans.append(nums[3*i:3*i+3])\n",
    "        return ans"
   ]
  }
 ],
 "metadata": {
  "language_info": {
   "name": "python"
  }
 },
 "nbformat": 4,
 "nbformat_minor": 2
}
