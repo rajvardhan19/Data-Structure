{
 "cells": [
  {
   "cell_type": "markdown",
   "metadata": {},
   "source": [
    "# Valid Parenthesis String\n",
    "\n",
    "Given a string s containing only three types of characters: '(', ')' and '*', return true if s is valid.\n",
    "\n",
    "The following rules define a valid string:\n",
    "\n",
    "- Any left parenthesis '(' must have a corresponding right parenthesis ')'.\n",
    "- Any right parenthesis ')' must have a corresponding left parenthesis '('.\n",
    "- Left parenthesis '(' must go before the corresponding right parenthesis ')'.\n",
    "- '*' could be treated as a single right parenthesis ')' or a single left parenthesis '(' or an empty string \"\".\n",
    " \n",
    "**Example 1:**\n",
    "```\n",
    "Input: s = \"()\"\n",
    "Output: true\n",
    "```\n",
    "**Example 2:**\n",
    "```\n",
    "Input: s = \"(*)\"\n",
    "Output: true\n",
    "```\n",
    "**Example 3:**\n",
    "```\n",
    "Input: s = \"(*))\"\n",
    "Output: true\n",
    "```\n",
    "\n",
    "--> **Constraints:**\n",
    "```\n",
    "1 <= s.length <= 100\n",
    "s[i] is '(', ')' or '*'.\n",
    "```\n",
    "\n",
    "\n",
    "Link --> https://leetcode.com/problems/valid-parenthesis-string/"
   ]
  },
  {
   "cell_type": "markdown",
   "metadata": {},
   "source": [
    "```\n",
    "class Solution:\n",
    "    def checkValidString(self, s: str) -> bool:\n",
    "        leftMin, leftMax = 0, 0\n",
    "\n",
    "        for c in s:\n",
    "            if c == \"(\":\n",
    "                leftMin, leftMax = leftMin + 1, leftMax + 1\n",
    "            elif c == \")\":\n",
    "                leftMin, leftMax = leftMin - 1, leftMax - 1\n",
    "            else:\n",
    "                leftMin, leftMax = leftMin - 1, leftMax + 1\n",
    "            if leftMax < 0:\n",
    "                return False\n",
    "            if leftMin < 0:\n",
    "                leftMin = 0\n",
    "        return leftMin == 0\n",
    "```"
   ]
  }
 ],
 "metadata": {
  "language_info": {
   "name": "python"
  }
 },
 "nbformat": 4,
 "nbformat_minor": 2
}
