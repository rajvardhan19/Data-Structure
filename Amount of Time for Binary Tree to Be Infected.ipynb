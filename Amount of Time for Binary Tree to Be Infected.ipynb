{
 "cells": [
  {
   "cell_type": "markdown",
   "metadata": {},
   "source": [
    "# Problem Name: Amount of Time for Binary Tree to Be Infected\n",
    "\n",
    "You are given the ```root``` of a binary tree with unique values, and an integer ```start```. At minute ```0```, an infection starts from the node with value ```start```.\n",
    "\n",
    "Each minute, a node becomes infected if:\n",
    "\n",
    "- The node is currently uninfected.\n",
    "- The node is adjacent to an infected node.\n",
    "Return the number of minutes needed for the entire tree to be infected.\n",
    "\n",
    " \n",
    "\n",
    "**Example 1:**\n",
    "```\n",
    "Input: root = [1,5,3,null,4,10,6,9,2], start = 3\n",
    "Output: 4\n",
    "Explanation: The following nodes are infected during:\n",
    "- Minute 0: Node 3\n",
    "- Minute 1: Nodes 1, 10 and 6\n",
    "- Minute 2: Node 5\n",
    "- Minute 3: Node 4\n",
    "- Minute 4: Nodes 9 and 2\n",
    "It takes 4 minutes for the whole tree to be infected so we return 4.\n",
    "```\n",
    "\n",
    "\n",
    "\n",
    "**Example 2:**\n",
    "```\n",
    "Input: root = [1], start = 1\n",
    "Output: 0\n",
    "Explanation: At minute 0, the only node in the tree is infected so we return 0.\n",
    "```\n",
    "\n",
    "\n",
    " \n",
    "**Constraints:**\n",
    "```\n",
    "The number of nodes in the tree is in the range [1, 105].\n",
    "1 <= Node.val <= 105\n",
    "Each node has a unique value.\n",
    "A node with a value of start exists in the tree.\n",
    "```\n",
    "\n",
    "Link --> https://leetcode.com/problems/amount-of-time-for-binary-tree-to-be-infected/"
   ]
  },
  {
   "cell_type": "code",
   "execution_count": null,
   "metadata": {},
   "outputs": [],
   "source": [
    "class Solution:\n",
    "    def __init__(self):\n",
    "        self.result = 0\n",
    "\n",
    "    def amountOfTime(self, root, start):\n",
    "        self.dfs(root, start)\n",
    "        return self.result\n",
    "\n",
    "    def dfs(self, node, start):\n",
    "        if not node:\n",
    "            return 0\n",
    "\n",
    "        left = self.dfs(node.left, start)\n",
    "        right = self.dfs(node.right, start)\n",
    "\n",
    "        if node.val == start:\n",
    "            self.result = max(left, right)\n",
    "            return -1\n",
    "\n",
    "        if left < 0 or right < 0:\n",
    "            self.result = max(self.result, abs(left - right))\n",
    "            return min(left, right) - 1\n",
    "\n",
    "        return max(left, right) + 1"
   ]
  },
  {
   "cell_type": "markdown",
   "metadata": {},
   "source": [
    "Explanation:\n",
    "\n",
    "- The code uses a depth-first search approach to traverse the tree.\n",
    "- At each node, it calculates the depth of the left and right subtrees.\n",
    "- When the function encounters the start node, it sets the self.result to the maximum depth of its subtrees.\n",
    "- It keeps track of the depth difference between left and right subtrees and updates self.result accordingly.\n",
    "- The function returns the depth of the current node (+1 for the current node) based on the maximum depth of its left or right subtree.\n",
    "- Overall, the function utilizes recursion and backtracking to compute the time required for the infection to spread across the entire tree from the given starting node."
   ]
  }
 ],
 "metadata": {
  "language_info": {
   "name": "python"
  }
 },
 "nbformat": 4,
 "nbformat_minor": 2
}
