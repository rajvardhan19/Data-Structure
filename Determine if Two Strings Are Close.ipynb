{
 "cells": [
  {
   "cell_type": "markdown",
   "metadata": {},
   "source": [
    "# Problem Name: Determine if Two Strings Are Close\n",
    "\n",
    "Two strings are considered close if you can attain one from the other using the following operations:\n",
    "\n",
    "- Operation 1: Swap any two existing characters.\n",
    "        - For example, abcde -> aecdb\n",
    "- Operation 2: Transform every occurrence of one existing character into another existing character, and do the same with the other character.\n",
    "        - For example, aacabb -> bbcbaa (all a's turn into b's, and all b's turn into a's)\n",
    "You can use the operations on either string as many times as necessary.\n",
    "\n",
    "Given two strings, word1 and word2, return true if word1 and word2 are close, and false otherwise.\n",
    "\n",
    " \n",
    "\n",
    "**Example 1:**\n",
    "```\n",
    "Input: word1 = \"abc\", word2 = \"bca\"\n",
    "Output: true\n",
    "Explanation: You can attain word2 from word1 in 2 operations.\n",
    "Apply Operation 1: \"abc\" -> \"acb\"\n",
    "Apply Operation 1: \"acb\" -> \"bca\"\n",
    "```\n",
    "\n",
    "\n",
    "\n",
    "**Example 2:**\n",
    "```\n",
    "Input: word1 = \"a\", word2 = \"aa\"\n",
    "Output: false\n",
    "Explanation: It is impossible to attain word2 from word1, or vice versa, in any number of operations.\n",
    "```\n",
    "**Example 3:**\n",
    "```\n",
    "Input: word1 = \"cabbba\", word2 = \"abbccc\"\n",
    "Output: true\n",
    "Explanation: You can attain word2 from word1 in 3 operations.\n",
    "Apply Operation 1: \"cabbba\" -> \"caabbb\"\n",
    "Apply Operation 2: \"caabbb\" -> \"baaccc\"\n",
    "Apply Operation 2: \"baaccc\" -> \"abbccc\"\n",
    "```\n",
    "\n",
    "\n",
    " \n",
    "**Constraints:**\n",
    "```\n",
    "1 <= word1.length, word2.length <= 105\n",
    "word1 and word2 contain only lowercase English letters.\n",
    "```\n",
    "\n",
    "Link --> https://leetcode.com/problems/determine-if-two-strings-are-close/"
   ]
  },
  {
   "cell_type": "code",
   "execution_count": null,
   "metadata": {},
   "outputs": [],
   "source": [
    "class Solution(object):\n",
    "    def closeStrings(self, word1, word2):\n",
    "        if len(word1) != len(word2):\n",
    "            return False\n",
    "\n",
    "        count1 = Counter(word1)\n",
    "        count2 = Counter(word2)\n",
    "\n",
    "        if set(count1.keys()) == set(count2.keys()):\n",
    "            return sorted(count1.values()) == sorted(count2.values())\n",
    "        else:\n",
    "            return set(count1.keys()) == set(count2.keys()) and set(count1.values()) == set(count2.values())\n",
    "            "
   ]
  },
  {
   "cell_type": "markdown",
   "metadata": {},
   "source": [
    "- Check if the lengths of both strings are equal. If not, return false.\n",
    "- Count the frequency of each character in both strings.\n",
    "- If the sets of characters are the same in both strings, then Operation 1 (swap) can be used to transform one string into another. Check if the character frequencies match.\n",
    "- If the character frequencies do not match, check if one set of characters can be transformed into another using Operation 2 (character transformation).\n",
    "- If both conditions are satisfied, return true; otherwise, return false."
   ]
  }
 ],
 "metadata": {
  "language_info": {
   "name": "python"
  }
 },
 "nbformat": 4,
 "nbformat_minor": 2
}
