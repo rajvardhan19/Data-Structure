{
 "cells": [
  {
   "cell_type": "markdown",
   "metadata": {},
   "source": [
    "# Problem Name: Longest Increasing Subsequence\n",
    "\n",
    "Given an integer array nums, return the length of the longest strictly increasing \n",
    "subsequence.\n",
    "\n",
    " \n",
    "\n",
    "**Example 1:**\n",
    "```\n",
    "Input: nums = [10,9,2,5,3,7,101,18]\n",
    "Output: 4\n",
    "Explanation: The longest increasing subsequence is [2,3,7,101], therefore the length is 4.\n",
    "```\n",
    "\n",
    "\n",
    "\n",
    "**Example 2:**\n",
    "```\n",
    "Input: nums = [0,1,0,3,2,3]\n",
    "Output: 4\n",
    "```\n",
    "**Example 3:**\n",
    "```\n",
    "Input: nums = [7,7,7,7,7,7,7]\n",
    "Output: 1\n",
    "```\n",
    "\n",
    " \n",
    "**Constraints:**\n",
    "```\n",
    "1 <= nums.length <= 2500\n",
    "-104 <= nums[i] <= 104\n",
    "```\n",
    "\n",
    "Link --> https://leetcode.com/problems/longest-increasing-subsequence/"
   ]
  },
  {
   "cell_type": "code",
   "execution_count": null,
   "metadata": {},
   "outputs": [],
   "source": [
    "class Solution(object):\n",
    "    def lengthOfLIS(self, nums):\n",
    "        if not nums:\n",
    "            return 0\n",
    "        \n",
    "        dp = [1] * len(nums)\n",
    "        \n",
    "        for i in range(1, len(nums)):\n",
    "            for j in range(i):\n",
    "                if nums[i] > nums[j]:\n",
    "                    dp[i] = max(dp[i], dp[j] + 1)\n",
    "        \n",
    "        return max(dp)\n",
    "        "
   ]
  },
  {
   "cell_type": "markdown",
   "metadata": {},
   "source": [
    "1. The outer loop iterates through the elements of the array from index 1 to the end (range(1, len(nums))).\n",
    "2. The inner loop (for j in range(i)) considers all elements before the current element nums[i].\n",
    "3. It checks if the current element nums[i] is greater than the element at index j. If it is, it implies that nums[i] can extend the increasing subsequence ending at nums[j].\n",
    "4. dp[i] = max(dp[i], dp[j] + 1) updates the length of the longest increasing subsequence ending at index i. It compares the current dp[i] value with dp[j] + 1 (the length of the LIS ending at index j plus the current element itself). This is done to find the maximum length of the LIS ending at index i."
   ]
  }
 ],
 "metadata": {
  "language_info": {
   "name": "python"
  }
 },
 "nbformat": 4,
 "nbformat_minor": 2
}
