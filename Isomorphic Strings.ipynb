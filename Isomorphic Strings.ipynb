{
 "cells": [
  {
   "cell_type": "markdown",
   "metadata": {},
   "source": [
    "# Isomorphic Strings\n",
    "\n",
    "Given two strings s and t, determine if they are isomorphic.\n",
    "\n",
    "Two strings s and t are isomorphic if the characters in s can be replaced to get t.\n",
    "\n",
    "All occurrences of a character must be replaced with another character while preserving the order of characters. No two characters may map to the same character, but a character may map to itself.  \n",
    " \n",
    "**Example 1:**\n",
    "```\n",
    "Input: s = \"egg\", t = \"add\"\n",
    "Output: true\n",
    "```\n",
    "**Example 2:**\n",
    "```\n",
    "Input: s = \"foo\", t = \"bar\"\n",
    "Output: false\n",
    "```\n",
    "**Example 3:**\n",
    "```\n",
    "Input: s = \"paper\", t = \"title\"\n",
    "Output: true\n",
    "```\n",
    "\n",
    "--> **Constraints:**\n",
    "```\n",
    "1 <= s.length <= 5 * 104\n",
    "t.length == s.length\n",
    "s and t consist of any valid ascii character.\n",
    "```\n",
    "\n",
    "\n",
    "Link --> https://leetcode.com/problems/isomorphic-strings/"
   ]
  },
  {
   "cell_type": "markdown",
   "metadata": {},
   "source": [
    "```\n",
    "class Solution(object):\n",
    "    def isIsomorphic(self, s, t):\n",
    "        # Define dictionary to store the mappings\n",
    "        s_to_t_mapping = {}\n",
    "        t_to_s_mapping = {}\n",
    "        \n",
    "        # Iterate through each character in strings s and t\n",
    "        for cs, ct in zip(s, t):\n",
    "            # If cs is already in s_to_t_mapping and its associated value is not ct,\n",
    "            # or ct is already in t_to_s_mapping and its associated value is not cs,\n",
    "            # these two strings are not isomorphic and return False\n",
    "            if (cs in s_to_t_mapping and s_to_t_mapping[cs] != ct) or (ct in t_to_s_mapping and t_to_s_mapping[ct] != cs):\n",
    "                return False\n",
    "            # Otherwise, store cs to ct mapping and ct to cs mapping for future checks\n",
    "            s_to_t_mapping[cs] = ct\n",
    "            t_to_s_mapping[ct] = cs\n",
    "        \n",
    "        # If we finish without returning False, then these two strings are isomorphic\n",
    "        return True\n",
    "            \n",
    "```"
   ]
  }
 ],
 "metadata": {
  "language_info": {
   "name": "python"
  }
 },
 "nbformat": 4,
 "nbformat_minor": 2
}
