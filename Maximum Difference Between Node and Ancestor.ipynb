{
 "cells": [
  {
   "cell_type": "markdown",
   "metadata": {},
   "source": [
    "# Problem Name: Maximum Difference Between Node and Ancestor\n",
    "\n",
    "Given the root of a binary tree, find the maximum value v for which there exist different nodes a and b where v = |a.val - b.val| and a is an ancestor of b.\n",
    "\n",
    "A node a is an ancestor of b if either: any child of a is equal to b or any child of a is an ancestor of b.\n",
    "\n",
    " \n",
    "\n",
    "**Example 1:**\n",
    "```\n",
    "Input: root = [8,3,10,1,6,null,14,null,null,4,7,13]\n",
    "Output: 7\n",
    "Explanation: We have various ancestor-node differences, some of which are given below :\n",
    "|8 - 3| = 5\n",
    "|3 - 7| = 4\n",
    "|8 - 1| = 7\n",
    "|10 - 13| = 3\n",
    "Among all possible differences, the maximum value of 7 is obtained by |8 - 1| = 7.\n",
    "```\n",
    "\n",
    "\n",
    "\n",
    "**Example 2:**\n",
    "```\n",
    "Input: root = [1,null,2,null,0,3]\n",
    "Output: 3\n",
    "```\n",
    "\n",
    "\n",
    " \n",
    "**Constraints:**\n",
    "```\n",
    "The number of nodes in the tree is in the range [2, 5000].\n",
    "0 <= Node.val <= 105\n",
    "```\n",
    "\n",
    "Link --> https://leetcode.com/problems/maximum-difference-between-node-and-ancestor/"
   ]
  },
  {
   "cell_type": "code",
   "execution_count": null,
   "metadata": {},
   "outputs": [],
   "source": [
    "# Definition for a binary tree node.\n",
    "# class TreeNode(object):\n",
    "#     def __init__(self, val=0, left=None, right=None):\n",
    "#         self.val = val\n",
    "#         self.left = left\n",
    "#         self.right = right\n",
    "class Solution(object):\n",
    "    def maxAncestorDiff(self, root):\n",
    "        def helper(node, min_val, max_val):\n",
    "            if not node:\n",
    "                return max_val - min_val\n",
    "\n",
    "            min_val = min(min_val, node.val)\n",
    "            max_val = max(max_val, node.val)\n",
    "\n",
    "            left_diff = helper(node.left, min_val, max_val)\n",
    "            right_diff = helper(node.right, min_val, max_val)\n",
    "\n",
    "            return max(left_diff, right_diff)\n",
    "\n",
    "        return helper(root, root.val, root.val)\n",
    "        "
   ]
  },
  {
   "cell_type": "markdown",
   "metadata": {},
   "source": [
    "1. The function maxAncestorDiff is defined with a single argument root, which represents the root of a binary tree.\n",
    "\n",
    "2. Inside the function, there is a nested helper function helper that takes three parameters:\n",
    "\n",
    "    - node: The current node being processed.\n",
    "    - min_val: The minimum value encountered so far in the current branch.\n",
    "    - max_val: The maximum value encountered so far in the current branch.\n",
    "\n",
    "3. The base case checks if the current node is None (i.e., a leaf node). If it is, the function returns the difference between the maximum and minimum values encountered in the current branch (max_val - min_val).\n",
    "\n",
    "4. If the current node is not None, the function updates the min_val and max_val based on the value of the current node.\n",
    "\n",
    "5. The function then recursively calls itself for the left and right children of the current node, passing along the updated min_val and max_val. It collects the results of these recursive calls in left_diff and right_diff.\n",
    "\n",
    "6. The final result for the current node is the maximum of left_diff and right_diff. This ensures that the function returns the maximum ancestor difference for the current node.\n",
    "\n",
    "7. The main function is called with the initial values of root.val for both min_val and max_val. This is because at the root, the minimum and maximum values encountered so far are the same.\n",
    "\n",
    "8. The overall result of the function is the maximum ancestor difference for the entire binary tree."
   ]
  }
 ],
 "metadata": {
  "language_info": {
   "name": "python"
  }
 },
 "nbformat": 4,
 "nbformat_minor": 2
}
