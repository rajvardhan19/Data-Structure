{
 "cells": [
  {
   "cell_type": "markdown",
   "metadata": {},
   "source": [
    "# Image Smoother\n",
    "An **image smoother** is a filter of the size 3 x 3 that can be applied to each cell of an image by rounding down the average of the cell and the eight surrounding cells (i.e., the average of the nine cells in the blue smoother). If one or more of the surrounding cells of a cell is not present, we do not consider it in the average (i.e., the average of the four cells in the red smoother).\n",
    "\n",
    "![Image1](/assets/Image%20Smoother-1.png \"Image1\")\n",
    "\n",
    "Given an m x n integer matrix img representing the grayscale of an image, return the image after applying the smoother on each cell of it.\n",
    "\n",
    "**Example 1:**\n",
    "![Image2](/assets/Image%20Smoother-2.png \"Image2\")\n",
    "```\n",
    "Input: img = [[1,1,1],[1,0,1],[1,1,1]]\n",
    "Output: [[0,0,0],[0,0,0],[0,0,0]]\n",
    "Explanation:\n",
    "For the points (0,0), (0,2), (2,0), (2,2): floor(3/4) = floor(0.75) = 0\n",
    "For the points (0,1), (1,0), (1,2), (2,1): floor(5/6) = floor(0.83333333) = 0\n",
    "For the point (1,1): floor(8/9) = floor(0.88888889) = 0\n",
    "```\n",
    "**Example 2:**\n",
    "![Image3!](/assets/Image%20Smoother-3.png \"Image3\")\n",
    "```\n",
    "Input: img = [[100,200,100],[200,50,200],[100,200,100]]\n",
    "Output: [[137,141,137],[141,138,141],[137,141,137]]\n",
    "Explanation:\n",
    "For the points (0,0), (0,2), (2,0), (2,2): floor((100+200+200+50)/4) = floor(137.5) = 137\n",
    "For the points (0,1), (1,0), (1,2), (2,1): floor((200+200+50+200+100+100)/6) = floor(141.666667) = 141\n",
    "For the point (1,1): floor((50+200+200+200+200+100+100+100+100)/9) = floor(138.888889) = 138\n",
    "```\n",
    "\n",
    "--> **Constraints:**\n",
    "\n",
    "- ```m == img.length```\n",
    "- ```n == img[i].length```\n",
    "- ```0 <= img[i][j] <= 255```\n",
    "- ```1 <= m, n <= 200```\n",
    "\n",
    "\n",
    "Link --> https://leetcode.com/problems/image-smoother/"
   ]
  },
  {
   "cell_type": "code",
   "execution_count": null,
   "metadata": {},
   "outputs": [],
   "source": [
    "class Solution(object):\n",
    "    def imageSmoother(self, img):\n",
    "        rows, cols = len(img), len(img[0])\n",
    "        result = [[0] * cols for _ in range(rows)]\n",
    "\n",
    "        for i in range(rows):\n",
    "            for j in range(cols):\n",
    "                count = 0\n",
    "                total = 0\n",
    "\n",
    "                for r in range(max(0, i - 1), min(rows, i + 2)):\n",
    "                    for c in range(max(0, j - 1), min(cols, j + 2)):\n",
    "                        total += img[r][c]\n",
    "                        count += 1\n",
    "\n",
    "                result[i][j] = total // count\n",
    "\n",
    "        return result"
   ]
  },
  {
   "cell_type": "markdown",
   "metadata": {},
   "source": [
    "Step 1 --> Initialization::\n",
    "- It initializes variables rows and cols to store the dimensions of the input image matrix img.\n",
    "- Creates a new matrix result with the same dimensions as the input image, filled with zeros.\n",
    "\n",
    "Step 2 --> Nested Loop through Image:\n",
    "- It iterates through each pixel of the image matrix using nested for loops over rows (i) and columns (j).\n",
    "\n",
    "Step 3 --> Calculate Neighborhood Average:\n",
    "- For each pixel at position (i, j) in the original image:\n",
    "    - It initializes count to keep track of the number of valid neighboring pixels and total to sum up the pixel values of the 3x3 neighborhood centered at (i, j).\n",
    "    -It then uses two nested for loops, ranging from max(0, i - 1) to min(rows, i + 2) and max(0, j - 1) to min(cols, j + 2) to cover the 3x3 neighborhood centered at (i, j).\n",
    "    -For each valid pixel in this neighborhood, it adds the pixel value to total and increments the count variable.\n",
    "\n",
    "Step 4 --> Calculate the Smoothed Value:\n",
    "- After calculating the total sum of pixel values and the count of valid pixels in the neighborhood, it calculates the average by performing integer division total // count.\n",
    "- Assigns this averaged value to the corresponding pixel position (i, j) in the result matrix.\n",
    "\n",
    "Step 5 --> Return the Smoothed Image:\n",
    "- After completing the smoothing operation for all pixels in the image, it returns the resulting result matrix, which represents the smoothed image."
   ]
  }
 ],
 "metadata": {
  "language_info": {
   "name": "python"
  }
 },
 "nbformat": 4,
 "nbformat_minor": 2
}
