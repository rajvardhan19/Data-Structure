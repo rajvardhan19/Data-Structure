{
 "cells": [
  {
   "cell_type": "markdown",
   "metadata": {},
   "source": [
    "# Problem Name: Determine if String Halves Are Alike\n",
    "\n",
    "You are given two strings of the same length s and t. In one step you can choose any character of t and replace it with another character.\n",
    "\n",
    "Return the minimum number of steps to make t an anagram of s.\n",
    "\n",
    "An Anagram of a string is a string that contains the same characters with a different (or the same) ordering.\n",
    "\n",
    " \n",
    "\n",
    "**Example 1:**\n",
    "```\n",
    "Input: s = \"bab\", t = \"aba\"\n",
    "Output: 1\n",
    "Explanation: Replace the first 'a' in t with b, t = \"bba\" which is anagram of s.\n",
    "```\n",
    "\n",
    "\n",
    "\n",
    "**Example 2:**\n",
    "```\n",
    "Input: s = \"leetcode\", t = \"practice\"\n",
    "Output: 5\n",
    "Explanation: Replace 'p', 'r', 'a', 'i' and 'c' from t with proper characters to make t anagram of s.\n",
    "```\n",
    "**Example 3:**\n",
    "```\n",
    "Input: s = \"anagram\", t = \"mangaar\"\n",
    "Output: 0\n",
    "Explanation: \"anagram\" and \"mangaar\" are anagrams. \n",
    "```\n",
    "\n",
    "\n",
    " \n",
    "**Constraints:**\n",
    "```\n",
    "1 <= s.length <= 5 * 104\n",
    "s.length == t.length\n",
    "s and t consist of lowercase English letters only.\n",
    "```\n",
    "\n",
    "Link --> https://leetcode.com/problems/minimum-number-of-steps-to-make-two-strings-anagram/"
   ]
  },
  {
   "cell_type": "code",
   "execution_count": null,
   "metadata": {},
   "outputs": [],
   "source": [
    "class Solution(object):\n",
    "    def minSteps(self, s, t):\n",
    "        freq_s = {}\n",
    "        freq_t = {}\n",
    "\n",
    "        # Step 2: Populate frequency dictionaries\n",
    "        for char in s:\n",
    "            freq_s[char] = freq_s.get(char, 0) + 1\n",
    "\n",
    "        for char in t:\n",
    "            freq_t[char] = freq_t.get(char, 0) + 1\n",
    "\n",
    "        # Step 3: Compare frequency dictionaries\n",
    "        diff = 0\n",
    "        for char in set(freq_s.keys()).union(set(freq_t.keys())):\n",
    "            diff += abs(freq_s.get(char, 0) - freq_t.get(char, 0))\n",
    "\n",
    "        # Step 4: Return the minimum number of steps\n",
    "        return diff // 2\n",
    "        "
   ]
  },
  {
   "cell_type": "markdown",
   "metadata": {},
   "source": [
    "1. Initialize Frequency Dictionaries:\n",
    "\n",
    "- Create two dictionaries, freq_s and freq_t, to store the frequency of characters in strings s and t.\n",
    "2. Populate Frequency Dictionaries:\n",
    "\n",
    "- Iterate through each character in string s and increment its count in freq_s.\n",
    "- Iterate through each character in string t and increment its count in freq_t.\n",
    "3. Compare Frequency Dictionaries:\n",
    "\n",
    "- Create a set that contains all unique characters present in both s and t. This ensures that we consider all characters in both strings.\n",
    "- Iterate through this set and calculate the absolute difference in frequencies for each character. Add these differences to the variable diff.\n",
    "4. Return the Minimum Number of Steps:\n",
    "\n",
    "- The variable diff now represents the total differences in frequencies between the two strings.\n",
    "- Since each step involves replacing one character in one of the strings, dividing diff by 2 gives the minimum number of steps required to make t an anagram of s.\n",
    "- Return this value."
   ]
  }
 ],
 "metadata": {
  "language_info": {
   "name": "python"
  }
 },
 "nbformat": 4,
 "nbformat_minor": 2
}
