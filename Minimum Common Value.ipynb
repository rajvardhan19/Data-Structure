{
 "cells": [
  {
   "cell_type": "markdown",
   "metadata": {},
   "source": [
    "# Bag of Tokens\n",
    "\n",
    "Given two integer arrays nums1 and nums2, sorted in non-decreasing order, return the minimum integer common to both arrays. If there is no common integer amongst nums1 and nums2, return -1.\n",
    "\n",
    "Note that an integer is said to be common to nums1 and nums2 if both arrays have at least one occurrence of that integer.\n",
    "\n",
    " \n",
    " \n",
    "\n",
    "**Example 1:**\n",
    "```\n",
    "Input: nums1 = [1,2,3], nums2 = [2,4]\n",
    "Output: 2\n",
    "Explanation: The smallest element common to both arrays is 2, so we return 2.\n",
    "```\n",
    "**Example 2:**\n",
    "```\n",
    "Input: nums1 = [1,2,3,6], nums2 = [2,3,4,5]\n",
    "Output: 2\n",
    "Explanation: There are two common elements in the array 2 and 3 out of which 2 is the smallest, so 2 is returned.\n",
    "```\n",
    "\n",
    "\n",
    "--> **Constraints:**\n",
    "```\n",
    "1 <= nums1.length, nums2.length <= 105\n",
    "1 <= nums1[i], nums2[j] <= 109\n",
    "Both nums1 and nums2 are sorted in non-decreasing order.\n",
    "```\n",
    "\n",
    "\n",
    "Link --> https://leetcode.com/problems/minimum-common-value/"
   ]
  },
  {
   "cell_type": "markdown",
   "metadata": {},
   "source": [
    "```\n",
    "class Solution(object):\n",
    "    def getCommon(self, nums1, nums2):\n",
    "        # convert list to set to get unique values\n",
    "        nums1_set = set(nums1)\n",
    "        nums2_set = set(nums2)\n",
    "\n",
    "        # get the common elements between two sets\n",
    "        common_elements = nums1_set.intersection(nums2_set)\n",
    "\n",
    "        # if common elements set is not empty\n",
    "        # return the minimum element in the set\n",
    "        if common_elements:\n",
    "            return min(common_elements)\n",
    "                \n",
    "        # if common elements set is empty\n",
    "        # return -1\n",
    "        return -1\n",
    "            \n",
    "```"
   ]
  }
 ],
 "metadata": {
  "language_info": {
   "name": "python"
  }
 },
 "nbformat": 4,
 "nbformat_minor": 2
}
