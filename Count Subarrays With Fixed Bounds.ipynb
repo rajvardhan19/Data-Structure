{
 "cells": [
  {
   "cell_type": "markdown",
   "metadata": {},
   "source": [
    "# Count Subarrays With Fixed Bounds\n",
    "\n",
    "You are given an integer array nums and two integers minK and maxK.\n",
    "\n",
    "A fixed-bound subarray of nums is a subarray that satisfies the following conditions:\n",
    "\n",
    "- The minimum value in the subarray is equal to minK.\n",
    "- The maximum value in the subarray is equal to maxK.\n",
    "Return the number of fixed-bound subarrays.\n",
    "\n",
    "A subarray is a contiguous part of an array.\n",
    "    \n",
    " \n",
    "**Example 1:**\n",
    "```\n",
    "Input: nums = [1,3,5,2,7,5], minK = 1, maxK = 5\n",
    "Output: 2\n",
    "Explanation: The fixed-bound subarrays are [1,3,5] and [1,3,5,2].\n",
    "```\n",
    "**Example 2:**\n",
    "```\n",
    "Input: nums = [1,1,1,1], minK = 1, maxK = 1\n",
    "Output: 10\n",
    "Explanation: Every subarray of nums is a fixed-bound subarray. There are 10 possible subarrays.\n",
    "```\n",
    "\n",
    "--> **Constraints:**\n",
    "```\n",
    "2 <= nums.length <= 105\n",
    "1 <= nums[i], minK, maxK <= 106\n",
    "```\n",
    "\n",
    "\n",
    "Link --> https://leetcode.com/problems/count-subarrays-with-fixed-bounds/"
   ]
  },
  {
   "cell_type": "markdown",
   "metadata": {},
   "source": [
    "```\n",
    "class Solution {\n",
    "    public long countSubarrays(int[] nums, int minK, int maxK) {\n",
    "        int minI = -1, maxI = -1, left = -1, right = 0;\n",
    "        long count = 0;\n",
    "        while(right < nums.length){\n",
    "            if(nums[right] < minK || nums[right] > maxK){\n",
    "                minI = right;\n",
    "                maxI = right;\n",
    "                left = right;\n",
    "            }\n",
    "            minI = nums[right] == minK ? right : minI;\n",
    "            maxI = nums[right] == maxK ?  right : maxI;\n",
    "            count += Math.min(minI, maxI) - left;\n",
    "            right++;\n",
    "        }\n",
    "        return count;\n",
    "    }\n",
    "}\n",
    "```"
   ]
  }
 ],
 "metadata": {
  "language_info": {
   "name": "python"
  }
 },
 "nbformat": 4,
 "nbformat_minor": 2
}
