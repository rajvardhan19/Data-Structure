{
 "cells": [
  {
   "cell_type": "markdown",
   "metadata": {},
   "source": [
    "# Trapping Rain Water\n",
    "\n",
    "Given a rows x cols binary matrix filled with 0's and 1's, find the largest rectangle containing only 1's and return its area.\n",
    "\n",
    " \n",
    "**Example 1:**\n",
    "```\n",
    "Input: matrix = [[\"1\",\"0\",\"1\",\"0\",\"0\"],[\"1\",\"0\",\"1\",\"1\",\"1\"],[\"1\",\"1\",\"1\",\"1\",\"1\"],[\"1\",\"0\",\"0\",\"1\",\"0\"]]\n",
    "Output: 6\n",
    "Explanation: The maximal rectangle is shown in the above picture.\n",
    "```\n",
    "**Example 2:**\n",
    "```\n",
    "Input: matrix = [[\"0\"]]\n",
    "Output: 0\n",
    "```\n",
    "**Example 3:**\n",
    "```\n",
    "Input: matrix = [[\"1\"]]\n",
    "Output: 1\n",
    "```\n",
    "\n",
    "--> **Constraints:**\n",
    "```\n",
    "rows == matrix.length\n",
    "cols == matrix[i].length\n",
    "1 <= row, cols <= 200\n",
    "matrix[i][j] is '0' or '1'.\n",
    "```\n",
    "\n",
    "\n",
    "Link --> https://leetcode.com/problems/maximal-rectangle/"
   ]
  },
  {
   "cell_type": "markdown",
   "metadata": {},
   "source": [
    "```\n",
    "class Solution:\n",
    "    def maximalRectangle(self, matrix: List[List[str]]) -> int:\n",
    "        row, col=len(matrix), len(matrix[0])\n",
    "        if row==1 and col==1:\n",
    "            if matrix[0][0]=='1': return 1\n",
    "            else: return 0\n",
    "        h=[0]*(col+1)\n",
    "        maxArea=0\n",
    "\n",
    "        for i, row  in enumerate(matrix):\n",
    "            st=[-1] \n",
    "            row.append('0')\n",
    "            # build h\n",
    "            for j, x in enumerate(row):\n",
    "                if x=='1': h[j]+=1\n",
    "                else: h[j]=0\n",
    "                # mononotonic stack has at leat element -1\n",
    "                while len(st)>1 and (j==col or h[j]<h[st[-1]]):\n",
    "                    m=st[-1]\n",
    "                    st.pop()\n",
    "                    w=j-st[-1]-1\n",
    "                    area=h[m]*w\n",
    "                    maxArea=max(maxArea, area)\n",
    "                st.append(j)\n",
    "        return maxArea\n",
    "```"
   ]
  }
 ],
 "metadata": {
  "language_info": {
   "name": "python"
  }
 },
 "nbformat": 4,
 "nbformat_minor": 2
}
