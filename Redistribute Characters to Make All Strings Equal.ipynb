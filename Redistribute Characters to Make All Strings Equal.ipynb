{
 "cells": [
  {
   "cell_type": "markdown",
   "metadata": {},
   "source": [
    "# Problem Name: Redistribute Characters to Make All Strings Equal\n",
    "\n",
    "You are given an array of strings ```words``` (0-indexed).\n",
    "\n",
    "In one operation, pick two distinct indices ```i``` and ```j```, where ```words[i]``` is a non-empty string, and move any character from ```words[i]``` to any position in ```words[j]```.\n",
    "\n",
    "Return ```true``` if you can make every string in ```words``` equal using any number of operations, and ```false``` otherwise.\n",
    "\n",
    "**Example 1:**\n",
    "```\n",
    "Input: words = [\"abc\",\"aabc\",\"bc\"]\n",
    "Output: true\n",
    "Explanation: Move the first 'a' in words[1] to the front of words[2],\n",
    "to make words[1] = \"abc\" and words[2] = \"abc\".\n",
    "All the strings are now equal to \"abc\", so return true.\n",
    "```\n",
    "\n",
    "\n",
    "\n",
    "**Example 2:**\n",
    "```\n",
    "Input: words = [\"ab\",\"a\"]\n",
    "Output: false\n",
    "Explanation: It is impossible to make all the strings equal using the operation.\n",
    "```\n",
    "\n",
    " \n",
    "--> **Constraints:**\n",
    "```\n",
    "-> 1 <= words.length <= 100\n",
    "-> 1 <= words[i].length <= 100\n",
    "-> words[i] consists of lowercase English letters.\n",
    "```\n",
    "\n",
    "Link --> https://leetcode.com/problems/redistribute-characters-to-make-all-strings-equal/"
   ]
  },
  {
   "cell_type": "code",
   "execution_count": null,
   "metadata": {},
   "outputs": [],
   "source": [
    "from collections import Counter\n",
    "\n",
    "class Solution(object):\n",
    "    def makeEqual(self, words):\n",
    "        counts = Counter(\"\".join(words))\n",
    "\n",
    "        # Check if the count of each character is divisible by the number of words\n",
    "        for count in counts.values():\n",
    "            if count % len(words) != 0:\n",
    "                return False\n",
    "\n",
    "        return True\n",
    "        "
   ]
  },
  {
   "cell_type": "markdown",
   "metadata": {},
   "source": [
    "1. Importing Counter: The code begins by importing the ```Counter``` class from the ```collections``` module. This class is used to count the occurrences of elements within a collection, in this case, characters within the words.\n",
    "\n",
    "2. Class Definition: The ```Solution``` class is defined, and inside it, there's a method called makeEqual that takes in a list of strings called words.\n",
    "\n",
    "3. Counting Characters: ```Counter(\"\".join(words))``` merges all strings in the ```words``` list into a single string by using ```\"\".join(words)```. Then ```Counter``` is applied to count the occurrences of each character in this merged string. This gives a count of all characters across all the words.\n",
    "\n",
    "4. Checking Character Counts: The code then iterates through the counts of each character obtained. For each count, it verifies if the count is divisible by the total number of words ```(len(words))```. The purpose is to determine if the count of each character can be equally distributed among all the words.\n",
    "\n",
    "5. Return Values:\n",
    "\n",
    "    - If there exists any character whose count is not evenly divisible by the number of words, it means it's impossible to distribute that character's occurrences equally among the words. In this case, the method returns False, indicating that it's impossible to make all words equal.\n",
    "    - If all characters' counts are divisible by the number of words, the method returns True. This means it's possible to redistribute characters among the words in a way that each word can be made equal by moving characters between them."
   ]
  }
 ],
 "metadata": {
  "language_info": {
   "name": "python"
  }
 },
 "nbformat": 4,
 "nbformat_minor": 2
}
