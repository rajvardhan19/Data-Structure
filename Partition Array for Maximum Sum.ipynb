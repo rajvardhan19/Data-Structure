{
 "cells": [
  {
   "cell_type": "markdown",
   "metadata": {},
   "source": [
    "# Problem Name: Partition Array for Maximum Sum\n",
    "Given an integer array arr, partition the array into (contiguous) subarrays of length at most k. After partitioning, each subarray has their values changed to become the maximum value of that subarray.\n",
    "\n",
    "Return the largest sum of the given array after partitioning. Test cases are generated so that the answer fits in a 32-bit integer.\n",
    "\n",
    " \n",
    "**Example 1:**\n",
    "```\n",
    "Input: arr = [1,15,7,9,2,5,10], k = 3\n",
    "Output: 84\n",
    "Explanation: arr becomes [15,15,15,9,10,10,10]\n",
    "```\n",
    "**Example 2:**\n",
    "```\n",
    "Input: arr = [1,4,1,5,7,3,6,1,9,9,3], k = 4\n",
    "Output: 83\n",
    "```\n",
    "\n",
    "**Example 3:**\n",
    "```\n",
    "Input: arr = [1], k = 1\n",
    "Output: 1\n",
    "```\n",
    "\n",
    "--> **Constraints:**\n",
    "```\n",
    "1 <= arr.length <= 500\n",
    "0 <= arr[i] <= 109\n",
    "1 <= k <= arr.length\n",
    "```\n",
    "\n",
    "\n",
    "Link --> https://leetcode.com/problems/partition-array-for-maximum-sum/"
   ]
  },
  {
   "cell_type": "code",
   "execution_count": null,
   "metadata": {},
   "outputs": [],
   "source": [
    "class Solution(object):\n",
    "    def maxSumAfterPartitioning(self, arr, k):\n",
    "        n = len(arr)\n",
    "        dp = [0] * n\n",
    "\n",
    "        for i in range(n):\n",
    "            max_val = 0\n",
    "            for j in range(1, min(k, i + 1) + 1):\n",
    "                max_val = max(max_val, arr[i - j + 1])\n",
    "                dp[i] = max(dp[i], (dp[i - j] if i - j >= 0 else 0) + max_val * j)\n",
    "\n",
    "        return dp[-1]"
   ]
  }
 ],
 "metadata": {
  "language_info": {
   "name": "python"
  }
 },
 "nbformat": 4,
 "nbformat_minor": 2
}
