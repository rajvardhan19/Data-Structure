{
 "cells": [
  {
   "cell_type": "markdown",
   "metadata": {},
   "source": [
    "# Word Search\n",
    "\n",
    "Given an m x n grid of characters board and a string word, return true if word exists in the grid.\n",
    "\n",
    "The word can be constructed from letters of sequentially adjacent cells, where adjacent cells are horizontally or vertically neighboring. The same letter cell may not be used more than once.\n",
    " \n",
    "**Example 1:**\n",
    "```\n",
    "Input: board = [[\"A\",\"B\",\"C\",\"E\"],[\"S\",\"F\",\"C\",\"S\"],[\"A\",\"D\",\"E\",\"E\"]], word = \"ABCCED\"\n",
    "Output: true\n",
    "```\n",
    "**Example 2:**\n",
    "```\n",
    "Input: board = [[\"A\",\"B\",\"C\",\"E\"],[\"S\",\"F\",\"C\",\"S\"],[\"A\",\"D\",\"E\",\"E\"]], word = \"SEE\"\n",
    "Output: true\n",
    "```\n",
    "**Example 3:**\n",
    "```\n",
    "Input: board = [[\"A\",\"B\",\"C\",\"E\"],[\"S\",\"F\",\"C\",\"S\"],[\"A\",\"D\",\"E\",\"E\"]], word = \"ABCB\"\n",
    "Output: false\n",
    "```\n",
    "\n",
    "--> **Constraints:**\n",
    "```\n",
    "m == board.length\n",
    "n = board[i].length\n",
    "1 <= m, n <= 6\n",
    "1 <= word.length <= 15\n",
    "board and word consists of only lowercase and uppercase English letters.\n",
    "```\n",
    "\n",
    "\n",
    "Link --> https://leetcode.com/problems/word-search/"
   ]
  },
  {
   "cell_type": "markdown",
   "metadata": {},
   "source": [
    "```\n",
    "class Solution:\n",
    "    def exist(self, board, word):\n",
    "        def backtrack(i, j, k):\n",
    "            if k == len(word):\n",
    "                return True\n",
    "            if i < 0 or i >= len(board) or j < 0 or j >= len(board[0]) or board[i][j] != word[k]:\n",
    "                return False\n",
    "            \n",
    "            temp = board[i][j]\n",
    "            board[i][j] = ''\n",
    "            \n",
    "            if backtrack(i+1, j, k+1) or backtrack(i-1, j, k+1) or backtrack(i, j+1, k+1) or backtrack(i, j-1, k+1):\n",
    "                return True\n",
    "            \n",
    "            board[i][j] = temp\n",
    "            return False\n",
    "        \n",
    "        for i in range(len(board)):\n",
    "            for j in range(len(board[0])):\n",
    "                if backtrack(i, j, 0):\n",
    "                    return True\n",
    "        return False\n",
    "```"
   ]
  }
 ],
 "metadata": {
  "language_info": {
   "name": "python"
  }
 },
 "nbformat": 4,
 "nbformat_minor": 2
}
