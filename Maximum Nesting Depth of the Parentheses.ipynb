{
 "cells": [
  {
   "cell_type": "markdown",
   "metadata": {},
   "source": [
    "# Maximum Nesting Depth of the Parentheses\n",
    "\n",
    "A string is a valid parentheses string (denoted VPS) if it meets one of the following:\n",
    "\n",
    "- It is an empty string \"\", or a single character not equal to \"(\" or \")\",\n",
    "- It can be written as AB (A concatenated with B), where A and B are VPS's, or\n",
    "- It can be written as (A), where A is a VPS.\n",
    "We can similarly define the nesting depth depth(S) of any VPS S as follows:\n",
    "\n",
    "- depth(\"\") = 0\n",
    "- depth(C) = 0, where C is a string with a single character not equal to \"(\" or \")\".\n",
    "- depth(A + B) = max(depth(A), depth(B)), where A and B are VPS's.\n",
    "- depth(\"(\" + A + \")\") = 1 + depth(A), where A is a VPS.\n",
    "For example, \"\", \"()()\", and \"()(()())\" are VPS's (with nesting depths 0, 1, and 2), and \")(\" and \"(()\" are not VPS's.\n",
    "\n",
    "Given a VPS represented as string s, return the nesting depth of s.\n",
    " \n",
    "**Example 1:**\n",
    "```\n",
    "Input: s = \"(1+(2*3)+((8)/4))+1\"\n",
    "Output: 3\n",
    "Explanation: Digit 8 is inside of 3 nested parentheses in the string.\n",
    "```\n",
    "**Example 2:**\n",
    "```\n",
    "Input: s = \"(1)+((2))+(((3)))\"\n",
    "Output: 3\n",
    "```\n",
    "\n",
    "\n",
    "--> **Constraints:**\n",
    "```\n",
    "1 <= s.length <= 100\n",
    "s consists of digits 0-9 and characters '+', '-', '*', '/', '(', and ')'.\n",
    "It is guaranteed that parentheses expression s is a VPS.\n",
    "```\n",
    "\n",
    "\n",
    "Link --> https://leetcode.com/problems/maximum-nesting-depth-of-the-parentheses/"
   ]
  },
  {
   "cell_type": "markdown",
   "metadata": {},
   "source": [
    "```\n",
    "class Solution:\n",
    "    def maxDepth(self, s):\n",
    "        count = 0\n",
    "        max_num = 0\n",
    "        for i in s:\n",
    "            if i == \"(\":\n",
    "                count += 1\n",
    "                if max_num < count:\n",
    "                    max_num = count\n",
    "            if i == \")\":\n",
    "                count -= 1\n",
    "        return(max_num)\n",
    "```"
   ]
  }
 ],
 "metadata": {
  "language_info": {
   "name": "python"
  }
 },
 "nbformat": 4,
 "nbformat_minor": 2
}
