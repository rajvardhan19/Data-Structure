{
 "cells": [
  {
   "cell_type": "markdown",
   "metadata": {},
   "source": [
    "# Problem Name: Set Mismatch\n",
    "\n",
    "You have a set of integers s, which originally contains all the numbers from 1 to n. Unfortunately, due to some error, one of the numbers in s got duplicated to another number in the set, which results in repetition of one number and loss of another number.\n",
    "\n",
    "You are given an integer array nums representing the data status of this set after the error.\n",
    "\n",
    "Find the number that occurs twice and the number that is missing and return them in the form of an array.\n",
    "\n",
    " \n",
    "\n",
    "**Example 1:**\n",
    "```\n",
    "Input: nums = [1,2,2,4]\n",
    "Output: [2,3]\n",
    "```\n",
    "\n",
    "\n",
    "\n",
    "**Example 2:**\n",
    "```\n",
    "Input: nums = [1,1]\n",
    "Output: [1,2]\n",
    "```\n",
    "\n",
    "Constraints:\n",
    "```\n",
    "2 <= nums.length <= 104\n",
    "1 <= nums[i] <= 104\n",
    "```\n",
    "\n",
    "Link --> https://leetcode.com/problems/longest-common-subsequence/"
   ]
  },
  {
   "cell_type": "code",
   "execution_count": null,
   "metadata": {},
   "outputs": [],
   "source": [
    "class Solution(object):\n",
    "    def longestCommonSubsequence(self, text1, text2):\n",
    "        m, n = len(text1), len(text2)\n",
    "        dp = [[0] * (n + 1) for _ in range(m + 1)]\n",
    "        \n",
    "        for i in range(1, m + 1):\n",
    "            for j in range(1, n + 1):\n",
    "                if text1[i - 1] == text2[j - 1]:\n",
    "                    dp[i][j] = dp[i - 1][j - 1] + 1\n",
    "                else:\n",
    "                    dp[i][j] = max(dp[i - 1][j], dp[i][j - 1])\n",
    "        \n",
    "        return dp[m][n]\n",
    "        "
   ]
  },
  {
   "cell_type": "markdown",
   "metadata": {},
   "source": [
    "1. Initialization:\n",
    "\n",
    "    - m and n are the lengths of text1 and text2 respectively.\n",
    "Create a 2D array dp of size (m + 1) x (n + 1) initialized with zeros. This array will be used to store the lengths of common subsequences.\n",
    "2. Dynamic Programming Loop:\n",
    "\n",
    "    - Use nested loops to iterate over all possible pairs of indices (i, j) where i is an index in text1 and j is an index in text2.\n",
    "    - For each pair (i, j), compare the characters at these indices (text1[i-1] and text2[j-1]).\n",
    "3. Character Matching:\n",
    "\n",
    "    - If the characters are equal, it means you can extend the common subsequence. So, set dp[i][j] to dp[i-1][j-1] + 1.\n",
    "4. No Character Match:\n",
    "\n",
    "    - If the characters are not equal, take the maximum of the length of the common subsequence obtained by excluding the last character from text1 (dp[i-1][j]) and excluding the last character from text2 (dp[i][j-1]).\n",
    "5. Result:\n",
    "\n",
    "    - After the dynamic programming loop, the length of the longest common subsequence is stored in dp[m][n], and that is what the function returns."
   ]
  }
 ],
 "metadata": {
  "language_info": {
   "name": "python"
  }
 },
 "nbformat": 4,
 "nbformat_minor": 2
}
