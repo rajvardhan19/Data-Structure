{
 "cells": [
  {
   "cell_type": "markdown",
   "metadata": {},
   "source": [
    "# Count Subarrays Where Max Element Appears at Least K Times\n",
    "\n",
    "You are given an integer array nums and a positive integer k.\n",
    "\n",
    "Return the number of subarrays where the maximum element of nums appears at least k times in that subarray.\n",
    "\n",
    "A subarray is a contiguous sequence of elements within an array.\n",
    "    \n",
    " \n",
    "**Example 1:**\n",
    "```\n",
    "Input: nums = [1,3,2,3,3], k = 2\n",
    "Output: 6\n",
    "Explanation: The subarrays that contain the element 3 at least 2 times are: [1,3,2,3], [1,3,2,3,3], [3,2,3], [3,2,3,3], [2,3,3] and [3,3].\n",
    "```\n",
    "**Example 2:**\n",
    "```\n",
    "Input: nums = [1,4,2,1], k = 3\n",
    "Output: 0\n",
    "Explanation: No subarray contains the element 4 at least 3 times.\n",
    "```\n",
    "\n",
    "\n",
    "--> **Constraints:**\n",
    "```\n",
    "1 <= nums.length <= 105\n",
    "1 <= nums[i] <= 106\n",
    "1 <= k <= 105\n",
    "```\n",
    "\n",
    "\n",
    "Link --> https://leetcode.com/problems/count-subarrays-where-max-element-appears-at-least-k-times/"
   ]
  },
  {
   "cell_type": "markdown",
   "metadata": {},
   "source": [
    "```\n",
    "class Solution {\n",
    "    public long countSubarrays(int[] nums, int k) {\n",
    "        int mx = Arrays.stream(nums).max().getAsInt();\n",
    "        long ans = 0;\n",
    "        int l = 0,r=0,n=nums.length;\n",
    "        \n",
    "        while (r < n) {\n",
    "            k -= nums[r] == mx ? 1 : 0;\n",
    "            r++;\n",
    "            while (k == 0) {\n",
    "                k += nums[l] == mx ? 1 : 0;\n",
    "                l++;\n",
    "            }\n",
    "            ans += l;\n",
    "        }\n",
    "        \n",
    "        return ans;\n",
    "    }\n",
    "}\n",
    "```"
   ]
  }
 ],
 "metadata": {
  "language_info": {
   "name": "python"
  }
 },
 "nbformat": 4,
 "nbformat_minor": 2
}
