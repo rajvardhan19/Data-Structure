{
 "cells": [
  {
   "cell_type": "markdown",
   "metadata": {},
   "source": [
    "# Bag of Tokens\n",
    "\n",
    "Given a string s consisting only of characters 'a', 'b', and 'c'. You are asked to apply the following algorithm on the string any number of times:\n",
    "\n",
    "1. Pick a non-empty prefix from the string s where all the characters in the prefix are equal.\n",
    "2. Pick a non-empty suffix from the string s where all the characters in this suffix are equal.\n",
    "3. The prefix and the suffix should not intersect at any index.\n",
    "4. The characters from the prefix and suffix must be the same.\n",
    "5. Delete both the prefix and the suffix.\n",
    "Return the minimum length of s after performing the above operation any number of times (possibly zero times).\n",
    "\n",
    " \n",
    "\n",
    "**Example 1:**\n",
    "```\n",
    "Input: s = \"ca\"\n",
    "Output: 2\n",
    "Explanation: You can't remove any characters, so the string stays as is.\n",
    "```\n",
    "**Example 2:**\n",
    "```\n",
    "Input: s = \"cabaabac\"\n",
    "Output: 0\n",
    "Explanation: An optimal sequence of operations is:\n",
    "- Take prefix = \"c\" and suffix = \"c\" and remove them, s = \"abaaba\".\n",
    "- Take prefix = \"a\" and suffix = \"a\" and remove them, s = \"baab\".\n",
    "- Take prefix = \"b\" and suffix = \"b\" and remove them, s = \"aa\".\n",
    "- Take prefix = \"a\" and suffix = \"a\" and remove them, s = \"\".\n",
    "```\n",
    "**Example 3:**\n",
    "```\n",
    "Input: s = \"aabccabba\"\n",
    "Output: 3\n",
    "Explanation: An optimal sequence of operations is:\n",
    "- Take prefix = \"aa\" and suffix = \"a\" and remove them, s = \"bccabb\".\n",
    "- Take prefix = \"b\" and suffix = \"bb\" and remove them, s = \"cca\".\n",
    "```\n",
    "\n",
    "--> **Constraints:**\n",
    "```\n",
    "1 <= s.length <= 105\n",
    "s only consists of characters 'a', 'b', and 'c'.\n",
    "```\n",
    "\n",
    "\n",
    "Link --> https://leetcode.com/problems/bag-of-tokens/"
   ]
  },
  {
   "cell_type": "markdown",
   "metadata": {},
   "source": [
    "```\n",
    "class Solution(object):\n",
    "    def minimumLength(self, s):\n",
    "        left, right = 0, len(s) - 1\n",
    "        \n",
    "        while left < right and s[left] == s[right]:\n",
    "            char = s[left]\n",
    "            while left <= right and s[left] == char:\n",
    "                left += 1\n",
    "            while right >= left and s[right] == char:\n",
    "                right -= 1\n",
    "        \n",
    "        return right - left + 1\n",
    "        \n",
    "```"
   ]
  }
 ],
 "metadata": {
  "language_info": {
   "name": "python"
  }
 },
 "nbformat": 4,
 "nbformat_minor": 2
}
