{
 "cells": [
  {
   "cell_type": "markdown",
   "metadata": {},
   "source": [
    "# Time Needed to Buy Tickets\n",
    "\n",
    "There are n people in a line queuing to buy tickets, where the 0th person is at the front of the line and the (n - 1)th person is at the back of the line.\n",
    "\n",
    "You are given a 0-indexed integer array tickets of length n where the number of tickets that the ith person would like to buy is tickets[i].\n",
    "\n",
    "Each person takes exactly 1 second to buy a ticket. A person can only buy 1 ticket at a time and has to go back to the end of the line (which happens instantaneously) in order to buy more tickets. If a person does not have any tickets left to buy, the person will leave the line.\n",
    "\n",
    "Return the time taken for the person at position k (0-indexed) to finish buying tickets.\n",
    " \n",
    "**Example 1:**\n",
    "```\n",
    "Input: tickets = [2,3,2], k = 2\n",
    "Output: 6\n",
    "Explanation: \n",
    "- In the first pass, everyone in the line buys a ticket and the line becomes [1, 2, 1].\n",
    "- In the second pass, everyone in the line buys a ticket and the line becomes [0, 1, 0].\n",
    "The person at position 2 has successfully bought 2 tickets and it took 3 + 3 = 6 seconds.\n",
    "```\n",
    "**Example 2:**\n",
    "```\n",
    "Input: tickets = [5,1,1,1], k = 0\n",
    "Output: 8\n",
    "Explanation:\n",
    "- In the first pass, everyone in the line buys a ticket and the line becomes [4, 0, 0, 0].\n",
    "- In the next 4 passes, only the person in position 0 is buying tickets.\n",
    "The person at position 0 has successfully bought 5 tickets and it took 4 + 1 + 1 + 1 + 1 = 8 seconds.\n",
    "```\n",
    "\n",
    "--> **Constraints:**\n",
    "```\n",
    "n == tickets.length\n",
    "1 <= n <= 100\n",
    "1 <= tickets[i] <= 100\n",
    "0 <= k < n\n",
    "```\n",
    "\n",
    "\n",
    "Link --> https://leetcode.com/problems/time-needed-to-buy-tickets/"
   ]
  },
  {
   "cell_type": "markdown",
   "metadata": {},
   "source": [
    "```\n",
    "class Solution:\n",
    "    def timeRequiredToBuy(self, tickets: List[int], k: int) -> int:\n",
    "        total = 0\n",
    "\n",
    "        for i, x in enumerate(tickets):\n",
    "            if i <= k:\n",
    "                total += min(tickets[i], tickets[k])\n",
    "            else:\n",
    "                total += min(tickets[i], tickets[k] - 1)\n",
    "\n",
    "        return total\n",
    "```"
   ]
  }
 ],
 "metadata": {
  "language_info": {
   "name": "python"
  }
 },
 "nbformat": 4,
 "nbformat_minor": 2
}
