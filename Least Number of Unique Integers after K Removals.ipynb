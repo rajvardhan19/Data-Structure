{
 "cells": [
  {
   "cell_type": "markdown",
   "metadata": {},
   "source": [
    "# Least Number of Unique Integers after K Removals\n",
    "\n",
    "Given an array of integers arr and an integer k. Find the least number of unique integers after removing exactly k elements.\n",
    "    \n",
    " \n",
    "**Example 1:**\n",
    "```\n",
    "Input: arr = [5,5,4], k = 1\n",
    "Output: 1\n",
    "Explanation: Remove the single 4, only 5 is left.\n",
    "```\n",
    "**Example 2:**\n",
    "```\n",
    "Input: arr = [4,3,1,1,3,3,2], k = 3\n",
    "Output: 2\n",
    "Explanation: Remove 4, 2 and either one of the two 1s or three 3s. 1 and 3 will be left.\n",
    "```\n",
    "\n",
    "--> **Constraints:**\n",
    "```\n",
    "1 <= arr.length <= 10^5\n",
    "1 <= arr[i] <= 10^9\n",
    "0 <= k <= arr.length\n",
    "```\n",
    "\n",
    "\n",
    "Link --> https://leetcode.com/problems/least-number-of-unique-integers-after-k-removals/"
   ]
  },
  {
   "cell_type": "markdown",
   "metadata": {},
   "source": [
    "```\n",
    "class Solution(object):\n",
    "    def findLeastNumOfUniqueInts(self, arr, k):\n",
    "        freq_map = {}\n",
    "        for num in arr:\n",
    "            freq_map[num] = freq_map.get(num, 0) + 1\n",
    "\n",
    "        sorted_freq = sorted(freq_map.items(), key=lambda x: x[1])\n",
    "        count = len(sorted_freq)\n",
    "\n",
    "        for num, freq in sorted_freq:\n",
    "            if k >= freq:\n",
    "                k -= freq\n",
    "                count -= 1\n",
    "            else:\n",
    "                break\n",
    "\n",
    "        return count\n",
    "```"
   ]
  }
 ],
 "metadata": {
  "language_info": {
   "name": "python"
  }
 },
 "nbformat": 4,
 "nbformat_minor": 2
}
