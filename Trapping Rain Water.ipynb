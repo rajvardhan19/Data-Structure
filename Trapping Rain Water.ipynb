{
 "cells": [
  {
   "cell_type": "markdown",
   "metadata": {},
   "source": [
    "# Trapping Rain Water\n",
    "\n",
    "Given n non-negative integers representing an elevation map where the width of each bar is 1, compute how much water it can trap after raining.\n",
    "\n",
    " \n",
    "**Example 1:**\n",
    "```\n",
    "Input: height = [0,1,0,2,1,0,1,3,2,1,2,1]\n",
    "Output: 6\n",
    "Explanation: The above elevation map (black section) is represented by array [0,1,0,2,1,0,1,3,2,1,2,1]. In this case, 6 units of rain water (blue section) are being trapped.\n",
    "```\n",
    "**Example 2:**\n",
    "```\n",
    "Input: height = [4,2,0,3,2,5]\n",
    "Output: 9\n",
    "```\n",
    "\n",
    "--> **Constraints:**\n",
    "```\n",
    "n == height.length\n",
    "1 <= n <= 2 * 104\n",
    "0 <= height[i] <= 105\n",
    "```\n",
    "\n",
    "\n",
    "Link --> https://leetcode.com/problems/trapping-rain-water/"
   ]
  },
  {
   "cell_type": "markdown",
   "metadata": {},
   "source": [
    "```\n",
    "class Solution:\n",
    "    def trap(self, height: List[int]) -> int:\n",
    "        n = len(height)\n",
    "        if n == 0:\n",
    "            return 0\n",
    "        \n",
    "        left = [0] * n\n",
    "        right = [0] * n\n",
    "        \n",
    "        # Fill left array\n",
    "        left[0] = height[0]\n",
    "        for i in range(1, n):\n",
    "            left[i] = max(left[i - 1], height[i])\n",
    "        \n",
    "        # Fill right array\n",
    "        right[n - 1] = height[n - 1]\n",
    "        for i in range(n - 2, -1, -1):\n",
    "            right[i] = max(right[i + 1], height[i])\n",
    "        \n",
    "        # Calculate trapped water\n",
    "        trappedWater = 0\n",
    "        for i in range(n):\n",
    "            trappedWater += min(left[i], right[i]) - height[i]\n",
    "        \n",
    "        return trappedWater               \n",
    "```"
   ]
  }
 ],
 "metadata": {
  "language_info": {
   "name": "python"
  }
 },
 "nbformat": 4,
 "nbformat_minor": 2
}
