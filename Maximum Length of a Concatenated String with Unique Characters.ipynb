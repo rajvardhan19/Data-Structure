{
 "cells": [
  {
   "cell_type": "markdown",
   "metadata": {},
   "source": [
    "# Problem Name: Set Mismatch\n",
    "\n",
    "You are given an array of strings arr. A string s is formed by the concatenation of a subsequence of arr that has unique characters.\n",
    "\n",
    "Return the maximum possible length of s.\n",
    "\n",
    "A subsequence is an array that can be derived from another array by deleting some or no elements without changing the order of the remaining elements.\n",
    "\n",
    " \n",
    "\n",
    "**Example 1:**\n",
    "```\n",
    "Input: arr = [\"un\",\"iq\",\"ue\"]\n",
    "Output: 4\n",
    "Explanation: All the valid concatenations are:\n",
    "- \"\"\n",
    "- \"un\"\n",
    "- \"iq\"\n",
    "- \"ue\"\n",
    "- \"uniq\" (\"un\" + \"iq\")\n",
    "- \"ique\" (\"iq\" + \"ue\")\n",
    "Maximum length is 4.\n",
    "```\n",
    "\n",
    "\n",
    "\n",
    "**Example 2:**\n",
    "```\n",
    "Input: arr = [\"cha\",\"r\",\"act\",\"ers\"]\n",
    "Output: 6\n",
    "Explanation: Possible longest valid concatenations are \"chaers\" (\"cha\" + \"ers\") and \"acters\" (\"act\" + \"ers\").\n",
    "```\n",
    "**Example 3:**\n",
    "```\n",
    "Input: arr = [\"abcdefghijklmnopqrstuvwxyz\"]\n",
    "Output: 26\n",
    "Explanation: The only string in arr has all 26 characters.\n",
    "```\n",
    "\n",
    "Constraints:\n",
    "```\n",
    "1 <= arr.length <= 16\n",
    "1 <= arr[i].length <= 26\n",
    "arr[i] contains only lowercase English letters.\n",
    "```\n",
    "\n",
    "Link --> https://leetcode.com/problems/maximum-length-of-a-concatenated-string-with-unique-characters/"
   ]
  },
  {
   "cell_type": "code",
   "execution_count": null,
   "metadata": {},
   "outputs": [],
   "source": [
    "class Solution(object):\n",
    "    def maxLength(self, arr):\n",
    "\n",
    "        def is_unique(s):\n",
    "            return len(s) == len(set(s))\n",
    "\n",
    "        def backtrack(index, current, max_length):\n",
    "            max_length[0] = max(max_length[0], len(current))\n",
    "\n",
    "            for i in range(index, len(arr)):\n",
    "                if is_unique(current + arr[i]):\n",
    "                    backtrack(i + 1, current + arr[i], max_length)\n",
    "\n",
    "        max_length = [0]\n",
    "        backtrack(0, \"\", max_length)\n",
    "        return max_length[0] "
   ]
  }
 ],
 "metadata": {
  "language_info": {
   "name": "python"
  }
 },
 "nbformat": 4,
 "nbformat_minor": 2
}
